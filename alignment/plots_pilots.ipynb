{
 "cells": [
  {
   "cell_type": "code",
   "execution_count": 1,
   "id": "c3e4bda5",
   "metadata": {},
   "outputs": [
    {
     "name": "stdout",
     "output_type": "stream",
     "text": [
      "/home/lorenzo/repos/Deep-JSCC-PyTorch\n"
     ]
    }
   ],
   "source": [
    "%cd ..\n",
    "\n",
    "import os\n",
    "import torch\n",
    "import copy\n",
    "import numpy as np\n",
    "from tqdm.notebook import tqdm\n",
    "\n",
    "\n",
    "from alignment.alignment_utils import load_deep_jscc\n",
    "from alignment.alignment_model import *\n",
    "from alignment.alignment_model import _LinearAlignment, _MLPAlignment, _ConvolutionalAlignment, _ZeroShotAlignment, _TwoConvAlignment\n",
    "from alignment.alignment_training import *\n",
    "from alignment.alignment_validation import *"
   ]
  },
  {
   "cell_type": "code",
   "execution_count": 2,
   "id": "8d4dce44",
   "metadata": {},
   "outputs": [
    {
     "name": "stderr",
     "output_type": "stream",
     "text": [
      "Caching inputs: 100%|██████████| 782/782 [00:04<00:00, 169.25it/s]\n"
     ]
    }
   ],
   "source": [
    "model1_fp = r'alignment/models/autoencoders/snr_30_seed_42.pkl'\n",
    "model2_fp = r'alignment/models/autoencoders/snr_30_seed_43.pkl'\n",
    "folder = r'psnr_vs_pilots'\n",
    "os.makedirs(f'alignment/models/plots/{folder}', exist_ok=True)\n",
    "\n",
    "dataset = \"cifar10\"\n",
    "resolution = 96\n",
    "channel = 'AWGN'\n",
    "batch_size = 64\n",
    "num_workers = 4\n",
    "\n",
    "snr = 30\n",
    "seed = 43\n",
    "\n",
    "train_snr = snr\n",
    "val_snr = snr\n",
    "times = 10\n",
    "c = 8\n",
    "\n",
    "n_points = 20\n",
    "pilots_sets = np.unique(np.logspace(0, np.log10(10000), num=n_points, base=10).astype(int))\n",
    "device = torch.device(\"cuda:0\" if torch.cuda.is_available() else 'cpu')\n",
    "\n",
    "encoder = copy.deepcopy(load_deep_jscc(model1_fp, val_snr, c, \"AWGN\").encoder)\n",
    "decoder = copy.deepcopy(load_deep_jscc(model2_fp, val_snr, c, \"AWGN\").decoder)\n",
    "\n",
    "train_loader, test_loader = get_data_loaders(dataset, resolution, batch_size, num_workers)\n",
    "data = load_alignment_dataset(model1_fp, model2_fp, train_snr, train_loader, c, device)"
   ]
  },
  {
   "cell_type": "markdown",
   "id": "35ea546b",
   "metadata": {},
   "source": [
    "# No mismatch - Unaligned - Zeroshot max"
   ]
  },
  {
   "cell_type": "code",
   "execution_count": 3,
   "id": "3a66b1e7",
   "metadata": {},
   "outputs": [
    {
     "name": "stdout",
     "output_type": "stream",
     "text": [
      "unaligned 5.39\n",
      "aligned 48.50\n",
      "zeroshot 38.35\n"
     ]
    }
   ],
   "source": [
    "log_file = f\"alignment/logs/lines_snr_{snr}_seed_{seed}.txt\"\n",
    "\n",
    "# unaligned\n",
    "model = AlignedDeepJSCC(encoder, decoder, None, val_snr, \"AWGN\")\n",
    "\n",
    "result_msg = f\"unaligned {validation_vectorized(model, test_loader, times, device):.2f}\"\n",
    "print(result_msg)\n",
    "with open(log_file, 'a') as f:\n",
    "        f.write(f\"{result_msg}\\n\")\n",
    "\n",
    "# aligned\n",
    "model = AlignedDeepJSCC(encoder, copy.deepcopy(load_deep_jscc(model1_fp, val_snr, c, \"AWGN\").decoder), None, val_snr, \"AWGN\")\n",
    "\n",
    "result_msg = f\"aligned {validation_vectorized(model, test_loader, times, device):.2f}\"\n",
    "print(result_msg)\n",
    "with open(log_file, 'a') as f:\n",
    "        f.write(f\"{result_msg}\\n\")\n",
    "\n",
    "# zeroshot\n",
    "data.flat = True\n",
    "\n",
    "set_seed(seed)\n",
    "permutation = torch.randperm(len(data))\n",
    "\n",
    "aligner = train_zeroshot_aligner(data, permutation, resolution**2, train_snr, resolution**2, device)\n",
    "aligned_model = AlignedDeepJSCC(encoder, decoder, aligner, val_snr, \"AWGN\")\n",
    "\n",
    "result_msg = f\"zeroshot {validation_vectorized(aligned_model, test_loader, times, device):.2f}\"\n",
    "print(result_msg)\n",
    "with open(log_file, 'a') as f:\n",
    "        f.write(f\"{result_msg}\\n\")"
   ]
  },
  {
   "cell_type": "markdown",
   "id": "4b29cfc6",
   "metadata": {},
   "source": [
    "# Least Squares"
   ]
  },
  {
   "cell_type": "code",
   "execution_count": null,
   "id": "039882c4",
   "metadata": {},
   "outputs": [
    {
     "name": "stderr",
     "output_type": "stream",
     "text": [
      "Training:   5%|▌         | 1/19 [00:00<00:08,  2.04it/s]"
     ]
    },
    {
     "name": "stdout",
     "output_type": "stream",
     "text": [
      "Done with 1\n"
     ]
    },
    {
     "name": "stderr",
     "output_type": "stream",
     "text": [
      "Training:  11%|█         | 2/19 [00:00<00:08,  2.06it/s]"
     ]
    },
    {
     "name": "stdout",
     "output_type": "stream",
     "text": [
      "Done with 2\n"
     ]
    },
    {
     "name": "stderr",
     "output_type": "stream",
     "text": [
      "Training:  16%|█▌        | 3/19 [00:01<00:07,  2.08it/s]"
     ]
    },
    {
     "name": "stdout",
     "output_type": "stream",
     "text": [
      "Done with 4\n"
     ]
    },
    {
     "name": "stderr",
     "output_type": "stream",
     "text": [
      "Training:  21%|██        | 4/19 [00:01<00:07,  2.02it/s]"
     ]
    },
    {
     "name": "stdout",
     "output_type": "stream",
     "text": [
      "Done with 6\n"
     ]
    },
    {
     "name": "stderr",
     "output_type": "stream",
     "text": [
      "Training:  26%|██▋       | 5/19 [00:02<00:06,  2.02it/s]"
     ]
    },
    {
     "name": "stdout",
     "output_type": "stream",
     "text": [
      "Done with 11\n"
     ]
    },
    {
     "name": "stderr",
     "output_type": "stream",
     "text": [
      "Training:  32%|███▏      | 6/19 [00:02<00:06,  2.04it/s]"
     ]
    },
    {
     "name": "stdout",
     "output_type": "stream",
     "text": [
      "Done with 18\n"
     ]
    },
    {
     "name": "stderr",
     "output_type": "stream",
     "text": [
      "Training:  37%|███▋      | 7/19 [00:03<00:05,  2.06it/s]"
     ]
    },
    {
     "name": "stdout",
     "output_type": "stream",
     "text": [
      "Done with 29\n"
     ]
    },
    {
     "name": "stderr",
     "output_type": "stream",
     "text": [
      "Training:  42%|████▏     | 8/19 [00:03<00:05,  2.05it/s]"
     ]
    },
    {
     "name": "stdout",
     "output_type": "stream",
     "text": [
      "Done with 48\n"
     ]
    },
    {
     "name": "stderr",
     "output_type": "stream",
     "text": [
      "Training:  47%|████▋     | 9/19 [00:04<00:04,  2.04it/s]"
     ]
    },
    {
     "name": "stdout",
     "output_type": "stream",
     "text": [
      "Done with 78\n"
     ]
    },
    {
     "name": "stderr",
     "output_type": "stream",
     "text": [
      "Training:  53%|█████▎    | 10/19 [00:04<00:04,  2.03it/s]"
     ]
    },
    {
     "name": "stdout",
     "output_type": "stream",
     "text": [
      "Done with 127\n"
     ]
    },
    {
     "name": "stderr",
     "output_type": "stream",
     "text": [
      "Training:  58%|█████▊    | 11/19 [00:05<00:03,  2.02it/s]"
     ]
    },
    {
     "name": "stdout",
     "output_type": "stream",
     "text": [
      "Done with 206\n"
     ]
    },
    {
     "name": "stderr",
     "output_type": "stream",
     "text": [
      "Training:  63%|██████▎   | 12/19 [00:05<00:03,  2.00it/s]"
     ]
    },
    {
     "name": "stdout",
     "output_type": "stream",
     "text": [
      "Done with 335\n"
     ]
    },
    {
     "name": "stderr",
     "output_type": "stream",
     "text": [
      "Training:  68%|██████▊   | 13/19 [00:06<00:03,  1.98it/s]"
     ]
    },
    {
     "name": "stdout",
     "output_type": "stream",
     "text": [
      "Done with 545\n"
     ]
    },
    {
     "name": "stderr",
     "output_type": "stream",
     "text": [
      "Training:  74%|███████▎  | 14/19 [00:06<00:02,  1.91it/s]"
     ]
    },
    {
     "name": "stdout",
     "output_type": "stream",
     "text": [
      "Done with 885\n"
     ]
    },
    {
     "name": "stderr",
     "output_type": "stream",
     "text": [
      "Training:  79%|███████▉  | 15/19 [00:07<00:02,  1.72it/s]"
     ]
    },
    {
     "name": "stdout",
     "output_type": "stream",
     "text": [
      "Done with 1438\n"
     ]
    },
    {
     "name": "stderr",
     "output_type": "stream",
     "text": [
      "Training:  84%|████████▍ | 16/19 [00:08<00:01,  1.58it/s]"
     ]
    },
    {
     "name": "stdout",
     "output_type": "stream",
     "text": [
      "Done with 2335\n"
     ]
    },
    {
     "name": "stderr",
     "output_type": "stream",
     "text": [
      "Training:  89%|████████▉ | 17/19 [00:09<00:01,  1.42it/s]"
     ]
    },
    {
     "name": "stdout",
     "output_type": "stream",
     "text": [
      "Done with 3792\n"
     ]
    },
    {
     "name": "stderr",
     "output_type": "stream",
     "text": [
      "Training:  95%|█████████▍| 18/19 [00:10<00:00,  1.09it/s]"
     ]
    },
    {
     "name": "stdout",
     "output_type": "stream",
     "text": [
      "Done with 6158\n"
     ]
    },
    {
     "name": "stderr",
     "output_type": "stream",
     "text": [
      "Training: 100%|██████████| 19/19 [00:12<00:00,  1.51it/s]"
     ]
    },
    {
     "name": "stdout",
     "output_type": "stream",
     "text": [
      "Done with 10000\n"
     ]
    },
    {
     "name": "stderr",
     "output_type": "stream",
     "text": [
      "\n"
     ]
    }
   ],
   "source": [
    "aligner_type = \"linear\"\n",
    "data.flat = True\n",
    "\n",
    "set_seed(seed)\n",
    "permutation = torch.randperm(len(data))\n",
    "\n",
    "for n_samples in tqdm(pilots_sets, desc=\"Training\"):\n",
    "\n",
    "    aligner = train_linear_aligner(data, permutation, n_samples, train_snr)\n",
    "\n",
    "    aligner_fp = f'alignment/models/plots/{folder}/aligner_{aligner_type}_{n_samples}.pth'\n",
    "    torch.save(aligner.state_dict(), aligner_fp)\n",
    "\n",
    "    # tqdm.write(f\"Done with {n_samples}\")"
   ]
  },
  {
   "cell_type": "code",
   "execution_count": 7,
   "id": "2b1dd758",
   "metadata": {},
   "outputs": [
    {
     "name": "stdout",
     "output_type": "stream",
     "text": [
      "Linear model, 1 samples got a PSNR of 12.21\n",
      "Linear model, 2 samples got a PSNR of 11.83\n",
      "Linear model, 4 samples got a PSNR of 12.51\n",
      "Linear model, 6 samples got a PSNR of 13.03\n",
      "Linear model, 11 samples got a PSNR of 13.55\n",
      "Linear model, 18 samples got a PSNR of 13.95\n",
      "Linear model, 29 samples got a PSNR of 14.89\n",
      "Linear model, 48 samples got a PSNR of 15.48\n",
      "Linear model, 78 samples got a PSNR of 16.20\n",
      "Linear model, 127 samples got a PSNR of 17.12\n",
      "Linear model, 206 samples got a PSNR of 18.03\n",
      "Linear model, 335 samples got a PSNR of 18.95\n",
      "Linear model, 545 samples got a PSNR of 20.07\n",
      "Linear model, 885 samples got a PSNR of 21.32\n",
      "Linear model, 1438 samples got a PSNR of 22.80\n",
      "Linear model, 2335 samples got a PSNR of 24.44\n",
      "Linear model, 3792 samples got a PSNR of 26.33\n",
      "Linear model, 6158 samples got a PSNR of 28.43\n",
      "Linear model, 10000 samples got a PSNR of 30.71\n"
     ]
    }
   ],
   "source": [
    "aligner_type = \"linear\"\n",
    "aligner = _LinearAlignment(resolution**2)\n",
    "log_file = f\"alignment/logs/aligner_{aligner_type}_snr_{snr}_seed_{seed}.txt\"\n",
    "\n",
    "with open(log_file, 'w') as f:\n",
    "    pass\n",
    "\n",
    "set_seed(seed)\n",
    "\n",
    "for n_samples in pilots_sets:\n",
    "\n",
    "    aligner_fp = f'alignment/models/plots/{folder}/aligner_linear_{n_samples}.pth'\n",
    "    aligner.load_state_dict(torch.load(aligner_fp, map_location=device))\n",
    "\n",
    "    aligned_model = AlignedDeepJSCC(encoder, decoder, aligner, val_snr, channel)\n",
    "\n",
    "    psnr_result = validation_vectorized(aligned_model, test_loader, times, device)\n",
    "    \n",
    "    result_msg = f\"Linear model, {n_samples} samples got a PSNR of {psnr_result:.2f}\"\n",
    "    print(result_msg)\n",
    "    \n",
    "    with open(log_file, 'a') as f:\n",
    "        f.write(f\"{result_msg}\\n\")"
   ]
  },
  {
   "cell_type": "markdown",
   "id": "e6f355d4",
   "metadata": {},
   "source": [
    "# Linear Neural"
   ]
  },
  {
   "cell_type": "code",
   "execution_count": null,
   "id": "979343a3",
   "metadata": {},
   "outputs": [
    {
     "name": "stderr",
     "output_type": "stream",
     "text": [
      "Training:   5%|▌         | 1/19 [00:03<01:06,  3.71s/it]"
     ]
    },
    {
     "name": "stdout",
     "output_type": "stream",
     "text": [
      "Done with 1. Trained for 260 epochs.\n"
     ]
    },
    {
     "name": "stderr",
     "output_type": "stream",
     "text": [
      "Training:  11%|█         | 2/19 [00:08<01:16,  4.49s/it]"
     ]
    },
    {
     "name": "stdout",
     "output_type": "stream",
     "text": [
      "Done with 2. Trained for 373 epochs.\n"
     ]
    },
    {
     "name": "stderr",
     "output_type": "stream",
     "text": [
      "Training:  16%|█▌        | 3/19 [00:14<01:24,  5.30s/it]"
     ]
    },
    {
     "name": "stdout",
     "output_type": "stream",
     "text": [
      "Done with 4. Trained for 458 epochs.\n"
     ]
    },
    {
     "name": "stderr",
     "output_type": "stream",
     "text": [
      "Training:  21%|██        | 4/19 [00:21<01:24,  5.67s/it]"
     ]
    },
    {
     "name": "stdout",
     "output_type": "stream",
     "text": [
      "Done with 6. Trained for 474 epochs.\n"
     ]
    },
    {
     "name": "stderr",
     "output_type": "stream",
     "text": [
      "Training:  26%|██▋       | 5/19 [00:33<01:51,  7.98s/it]"
     ]
    },
    {
     "name": "stdout",
     "output_type": "stream",
     "text": [
      "Done with 11. Trained for 867 epochs.\n"
     ]
    },
    {
     "name": "stderr",
     "output_type": "stream",
     "text": [
      "Training:  32%|███▏      | 6/19 [00:50<02:22, 10.96s/it]"
     ]
    },
    {
     "name": "stdout",
     "output_type": "stream",
     "text": [
      "Done with 18. Trained for 1074 epochs.\n"
     ]
    },
    {
     "name": "stderr",
     "output_type": "stream",
     "text": [
      "Training:  37%|███▋      | 7/19 [01:10<02:48, 14.04s/it]"
     ]
    },
    {
     "name": "stdout",
     "output_type": "stream",
     "text": [
      "Done with 29. Trained for 1293 epochs.\n"
     ]
    },
    {
     "name": "stderr",
     "output_type": "stream",
     "text": [
      "Training:  42%|████▏     | 8/19 [01:32<03:02, 16.57s/it]"
     ]
    },
    {
     "name": "stdout",
     "output_type": "stream",
     "text": [
      "Done with 48. Trained for 1212 epochs.\n"
     ]
    },
    {
     "name": "stderr",
     "output_type": "stream",
     "text": [
      "Training:  47%|████▋     | 9/19 [01:40<02:19, 13.97s/it]"
     ]
    },
    {
     "name": "stdout",
     "output_type": "stream",
     "text": [
      "Done with 78. Trained for 245 epochs.\n"
     ]
    },
    {
     "name": "stderr",
     "output_type": "stream",
     "text": [
      "Training:  53%|█████▎    | 10/19 [01:50<01:55, 12.80s/it]"
     ]
    },
    {
     "name": "stdout",
     "output_type": "stream",
     "text": [
      "Done with 127. Trained for 257 epochs.\n"
     ]
    },
    {
     "name": "stderr",
     "output_type": "stream",
     "text": [
      "Training:  58%|█████▊    | 11/19 [02:01<01:37, 12.22s/it]"
     ]
    },
    {
     "name": "stdout",
     "output_type": "stream",
     "text": [
      "Done with 206. Trained for 197 epochs.\n"
     ]
    },
    {
     "name": "stderr",
     "output_type": "stream",
     "text": [
      "Training:  63%|██████▎   | 12/19 [02:14<01:25, 12.25s/it]"
     ]
    },
    {
     "name": "stdout",
     "output_type": "stream",
     "text": [
      "Done with 335. Trained for 128 epochs.\n"
     ]
    },
    {
     "name": "stderr",
     "output_type": "stream",
     "text": [
      "Training:  68%|██████▊   | 13/19 [02:27<01:14, 12.50s/it]"
     ]
    },
    {
     "name": "stdout",
     "output_type": "stream",
     "text": [
      "Done with 545. Trained for 83 epochs.\n"
     ]
    },
    {
     "name": "stderr",
     "output_type": "stream",
     "text": [
      "Training:  74%|███████▎  | 14/19 [02:40<01:03, 12.78s/it]"
     ]
    },
    {
     "name": "stdout",
     "output_type": "stream",
     "text": [
      "Done with 885. Trained for 58 epochs.\n"
     ]
    },
    {
     "name": "stderr",
     "output_type": "stream",
     "text": [
      "Training:  79%|███████▉  | 15/19 [02:55<00:53, 13.38s/it]"
     ]
    },
    {
     "name": "stdout",
     "output_type": "stream",
     "text": [
      "Done with 1438. Trained for 39 epochs.\n"
     ]
    },
    {
     "name": "stderr",
     "output_type": "stream",
     "text": [
      "Training:  84%|████████▍ | 16/19 [03:17<00:47, 15.89s/it]"
     ]
    },
    {
     "name": "stdout",
     "output_type": "stream",
     "text": [
      "Done with 2335. Trained for 35 epochs.\n"
     ]
    },
    {
     "name": "stderr",
     "output_type": "stream",
     "text": [
      "Training:  89%|████████▉ | 17/19 [03:43<00:38, 19.18s/it]"
     ]
    },
    {
     "name": "stdout",
     "output_type": "stream",
     "text": [
      "Done with 3792. Trained for 27 epochs.\n"
     ]
    },
    {
     "name": "stderr",
     "output_type": "stream",
     "text": [
      "Training:  95%|█████████▍| 18/19 [04:24<00:25, 25.62s/it]"
     ]
    },
    {
     "name": "stdout",
     "output_type": "stream",
     "text": [
      "Done with 6158. Trained for 25 epochs.\n"
     ]
    },
    {
     "name": "stderr",
     "output_type": "stream",
     "text": [
      "Training: 100%|██████████| 19/19 [05:24<00:00, 17.06s/it]"
     ]
    },
    {
     "name": "stdout",
     "output_type": "stream",
     "text": [
      "Done with 10000. Trained for 23 epochs.\n"
     ]
    },
    {
     "name": "stderr",
     "output_type": "stream",
     "text": [
      "\n"
     ]
    }
   ],
   "source": [
    "aligner_type = \"neural\"\n",
    "data.flat = False\n",
    "\n",
    "set_seed(seed)\n",
    "permutation = torch.randperm(len(data))\n",
    "\n",
    "for n_samples in tqdm(pilots_sets, desc=\"Training\"):\n",
    "    \n",
    "    aligner, epoch = train_neural_aligner(data, permutation, n_samples, batch_size, resolution, 6, train_snr, device)\n",
    "\n",
    "    aligner_fp = f'alignment/models/plots/{folder}/aligner_{aligner_type}_{n_samples}.pth'\n",
    "    torch.save(aligner.state_dict(), aligner_fp)\n",
    "\n",
    "    # tqdm.write(f\"Done with {n_samples}. Trained for {epoch} epochs.\")"
   ]
  },
  {
   "cell_type": "code",
   "execution_count": 5,
   "id": "2bce7558",
   "metadata": {},
   "outputs": [
    {
     "name": "stdout",
     "output_type": "stream",
     "text": [
      "Neural model, 1 samples got a PSNR of 11.66\n",
      "Neural model, 2 samples got a PSNR of 12.32\n",
      "Neural model, 4 samples got a PSNR of 12.60\n",
      "Neural model, 6 samples got a PSNR of 13.10\n",
      "Neural model, 11 samples got a PSNR of 14.53\n",
      "Neural model, 18 samples got a PSNR of 15.41\n",
      "Neural model, 29 samples got a PSNR of 16.28\n",
      "Neural model, 48 samples got a PSNR of 17.20\n",
      "Neural model, 78 samples got a PSNR of 17.14\n",
      "Neural model, 127 samples got a PSNR of 18.17\n",
      "Neural model, 206 samples got a PSNR of 19.47\n",
      "Neural model, 335 samples got a PSNR of 20.94\n",
      "Neural model, 545 samples got a PSNR of 22.76\n",
      "Neural model, 885 samples got a PSNR of 25.18\n",
      "Neural model, 1438 samples got a PSNR of 27.43\n",
      "Neural model, 2335 samples got a PSNR of 31.19\n",
      "Neural model, 3792 samples got a PSNR of 31.81\n",
      "Neural model, 6158 samples got a PSNR of 33.30\n",
      "Neural model, 10000 samples got a PSNR of 34.02\n"
     ]
    }
   ],
   "source": [
    "aligner_type = \"neural\"\n",
    "aligner = _LinearAlignment(resolution**2)\n",
    "log_file = f\"alignment/logs/aligner_{aligner_type}_snr_{snr}_seed_{seed}.txt\"\n",
    "\n",
    "with open(log_file, 'w') as f:\n",
    "    pass\n",
    "\n",
    "set_seed(seed)\n",
    "\n",
    "for n_samples in pilots_sets:\n",
    "\n",
    "    aligner_fp = f'alignment/models/plots/{folder}/aligner_neural_{n_samples}.pth'\n",
    "    aligner.load_state_dict(torch.load(aligner_fp, map_location=device))\n",
    "\n",
    "    aligned_model = AlignedDeepJSCC(encoder, decoder, aligner, val_snr, \"AWGN\")\n",
    "\n",
    "    psnr_result = validation_vectorized(aligned_model, test_loader, times, device)\n",
    "    \n",
    "    result_msg = f\"Neural model, {n_samples} samples got a PSNR of {psnr_result:.2f}\"\n",
    "    print(result_msg)\n",
    "    \n",
    "    with open(log_file, 'a') as f:\n",
    "        f.write(f\"{result_msg}\\n\")"
   ]
  },
  {
   "cell_type": "markdown",
   "id": "6a182d8b",
   "metadata": {},
   "source": [
    "# MLP"
   ]
  },
  {
   "cell_type": "code",
   "execution_count": null,
   "id": "210c4b0d",
   "metadata": {},
   "outputs": [
    {
     "name": "stderr",
     "output_type": "stream",
     "text": [
      "Training:   5%|▌         | 1/19 [00:05<01:31,  5.07s/it]"
     ]
    },
    {
     "name": "stdout",
     "output_type": "stream",
     "text": [
      "Done with 1. Trained for 155 epochs.\n"
     ]
    },
    {
     "name": "stderr",
     "output_type": "stream",
     "text": [
      "Training:  11%|█         | 2/19 [00:06<00:54,  3.18s/it]"
     ]
    },
    {
     "name": "stdout",
     "output_type": "stream",
     "text": [
      "Done with 2. Trained for 21 epochs.\n"
     ]
    },
    {
     "name": "stderr",
     "output_type": "stream",
     "text": [
      "Training:  16%|█▌        | 3/19 [00:12<01:10,  4.43s/it]"
     ]
    },
    {
     "name": "stdout",
     "output_type": "stream",
     "text": [
      "Done with 4. Trained for 220 epochs.\n"
     ]
    },
    {
     "name": "stderr",
     "output_type": "stream",
     "text": [
      "Training:  21%|██        | 4/19 [00:14<00:51,  3.43s/it]"
     ]
    },
    {
     "name": "stdout",
     "output_type": "stream",
     "text": [
      "Done with 6. Trained for 21 epochs.\n"
     ]
    },
    {
     "name": "stderr",
     "output_type": "stream",
     "text": [
      "Training:  26%|██▋       | 5/19 [00:18<00:47,  3.41s/it]"
     ]
    },
    {
     "name": "stdout",
     "output_type": "stream",
     "text": [
      "Done with 11. Trained for 76 epochs.\n"
     ]
    },
    {
     "name": "stderr",
     "output_type": "stream",
     "text": [
      "Training:  32%|███▏      | 6/19 [00:21<00:44,  3.46s/it]"
     ]
    },
    {
     "name": "stdout",
     "output_type": "stream",
     "text": [
      "Done with 18. Trained for 75 epochs.\n"
     ]
    },
    {
     "name": "stderr",
     "output_type": "stream",
     "text": [
      "Training:  37%|███▋      | 7/19 [01:07<03:27, 17.29s/it]"
     ]
    },
    {
     "name": "stdout",
     "output_type": "stream",
     "text": [
      "Done with 29. Trained for 1573 epochs.\n"
     ]
    },
    {
     "name": "stderr",
     "output_type": "stream",
     "text": [
      "Training:  42%|████▏     | 8/19 [01:26<03:15, 17.80s/it]"
     ]
    },
    {
     "name": "stdout",
     "output_type": "stream",
     "text": [
      "Done with 48. Trained for 605 epochs.\n"
     ]
    },
    {
     "name": "stderr",
     "output_type": "stream",
     "text": [
      "Training:  47%|████▋     | 9/19 [01:32<02:22, 14.24s/it]"
     ]
    },
    {
     "name": "stdout",
     "output_type": "stream",
     "text": [
      "Done with 78. Trained for 89 epochs.\n"
     ]
    },
    {
     "name": "stderr",
     "output_type": "stream",
     "text": [
      "Training:  53%|█████▎    | 10/19 [01:38<01:45, 11.76s/it]"
     ]
    },
    {
     "name": "stdout",
     "output_type": "stream",
     "text": [
      "Done with 127. Trained for 75 epochs.\n"
     ]
    },
    {
     "name": "stderr",
     "output_type": "stream",
     "text": [
      "Training:  58%|█████▊    | 11/19 [02:06<02:11, 16.46s/it]"
     ]
    },
    {
     "name": "stdout",
     "output_type": "stream",
     "text": [
      "Done with 206. Trained for 285 epochs.\n"
     ]
    },
    {
     "name": "stderr",
     "output_type": "stream",
     "text": [
      "Training:  63%|██████▎   | 12/19 [02:51<02:56, 25.22s/it]"
     ]
    },
    {
     "name": "stdout",
     "output_type": "stream",
     "text": [
      "Done with 335. Trained for 308 epochs.\n"
     ]
    },
    {
     "name": "stderr",
     "output_type": "stream",
     "text": [
      "Training:  68%|██████▊   | 13/19 [03:57<03:45, 37.61s/it]"
     ]
    },
    {
     "name": "stdout",
     "output_type": "stream",
     "text": [
      "Done with 545. Trained for 273 epochs.\n"
     ]
    },
    {
     "name": "stderr",
     "output_type": "stream",
     "text": [
      "Training:  74%|███████▎  | 14/19 [05:10<04:01, 48.32s/it]"
     ]
    },
    {
     "name": "stdout",
     "output_type": "stream",
     "text": [
      "Done with 885. Trained for 186 epochs.\n"
     ]
    },
    {
     "name": "stderr",
     "output_type": "stream",
     "text": [
      "Training:  79%|███████▉  | 15/19 [06:22<03:41, 55.35s/it]"
     ]
    },
    {
     "name": "stdout",
     "output_type": "stream",
     "text": [
      "Done with 1438. Trained for 113 epochs.\n"
     ]
    },
    {
     "name": "stderr",
     "output_type": "stream",
     "text": [
      "Training:  84%|████████▍ | 16/19 [07:48<03:14, 64.79s/it]"
     ]
    },
    {
     "name": "stdout",
     "output_type": "stream",
     "text": [
      "Done with 2335. Trained for 88 epochs.\n"
     ]
    },
    {
     "name": "stderr",
     "output_type": "stream",
     "text": [
      "Training:  89%|████████▉ | 17/19 [09:19<02:25, 72.62s/it]"
     ]
    },
    {
     "name": "stdout",
     "output_type": "stream",
     "text": [
      "Done with 3792. Trained for 56 epochs.\n"
     ]
    }
   ],
   "source": [
    "aligner_type = \"mlp\"\n",
    "data.flat = False\n",
    "\n",
    "set_seed(seed)\n",
    "permutation = torch.randperm(len(data))\n",
    "\n",
    "for n_samples in tqdm(pilots_sets, desc=\"Training\"):\n",
    "    \n",
    "    aligner, epoch = train_mlp_aligner(data, permutation, n_samples, batch_size, resolution, 6, train_snr, device)\n",
    "\n",
    "    aligner_fp = f'alignment/models/plots/{folder}/aligner_{aligner_type}_{n_samples}.pth'\n",
    "    torch.save(aligner.state_dict(), aligner_fp)\n",
    "\n",
    "    # tqdm.write(f\"Done with {n_samples}. Trained for {epoch} epochs.\")"
   ]
  },
  {
   "cell_type": "code",
   "execution_count": null,
   "id": "2b4f91d3",
   "metadata": {},
   "outputs": [
    {
     "name": "stdout",
     "output_type": "stream",
     "text": [
      "MLP model, 1 samples got a PSNR of 9.16\n",
      "MLP model, 2 samples got a PSNR of 10.12\n",
      "MLP model, 4 samples got a PSNR of 10.90\n",
      "MLP model, 6 samples got a PSNR of 10.84\n",
      "MLP model, 11 samples got a PSNR of 12.84\n",
      "MLP model, 18 samples got a PSNR of 11.43\n",
      "MLP model, 29 samples got a PSNR of 11.86\n",
      "MLP model, 48 samples got a PSNR of 10.14\n",
      "MLP model, 78 samples got a PSNR of 16.26\n",
      "MLP model, 127 samples got a PSNR of 16.63\n",
      "MLP model, 206 samples got a PSNR of 17.96\n",
      "MLP model, 335 samples got a PSNR of 21.63\n",
      "MLP model, 545 samples got a PSNR of 18.68\n",
      "MLP model, 885 samples got a PSNR of 24.24\n",
      "MLP model, 1438 samples got a PSNR of 25.15\n",
      "MLP model, 2335 samples got a PSNR of 26.25\n",
      "MLP model, 3792 samples got a PSNR of 26.39\n",
      "MLP model, 6158 samples got a PSNR of 26.81\n",
      "MLP model, 10000 samples got a PSNR of 27.13\n"
     ]
    }
   ],
   "source": [
    "aligner_type = \"mlp\"\n",
    "aligner = _MLPAlignment(input_dim=resolution**2, hidden_dims=[resolution**2])\n",
    "log_file = f\"alignment/logs/aligner_{aligner_type}_snr_{snr}_seed_{seed}.txt\"\n",
    "\n",
    "with open(log_file, 'w') as f:\n",
    "    pass\n",
    "\n",
    "set_seed(seed)\n",
    "\n",
    "for n_samples in pilots_sets:\n",
    "\n",
    "    aligner_fp = f'alignment/models/plots/{folder}/aligner_mlp_{n_samples}.pth'\n",
    "    aligner.load_state_dict(torch.load(aligner_fp, map_location=device))\n",
    "\n",
    "    aligned_model = AlignedDeepJSCC(encoder, decoder, aligner, val_snr, \"AWGN\")\n",
    "\n",
    "    psnr_result = validation_vectorized(aligned_model, test_loader, times, device)\n",
    "    \n",
    "    result_msg = f\"MLP model, {n_samples} samples got a PSNR of {psnr_result:.2f}\"\n",
    "    print(result_msg)\n",
    "    \n",
    "    with open(log_file, 'a') as f:\n",
    "        f.write(f\"{result_msg}\\n\")"
   ]
  },
  {
   "cell_type": "markdown",
   "id": "6dc6147f",
   "metadata": {},
   "source": [
    "# Convolutional"
   ]
  },
  {
   "cell_type": "code",
   "execution_count": null,
   "id": "0209c166",
   "metadata": {},
   "outputs": [
    {
     "name": "stdout",
     "output_type": "stream",
     "text": [
      "Done with 1. Trained for 589 epochs.\n",
      "Done with 2. Trained for 514 epochs.\n",
      "Done with 4. Trained for 499 epochs.\n",
      "Done with 6. Trained for 764 epochs.\n",
      "Done with 11. Trained for 513 epochs.\n",
      "Done with 18. Trained for 511 epochs.\n",
      "Done with 29. Trained for 508 epochs.\n",
      "Done with 48. Trained for 537 epochs.\n",
      "Done with 78. Trained for 474 epochs.\n",
      "Done with 127. Trained for 661 epochs.\n",
      "Done with 206. Trained for 631 epochs.\n",
      "Done with 335. Trained for 333 epochs.\n",
      "Done with 545. Trained for 334 epochs.\n",
      "Done with 885. Trained for 225 epochs.\n",
      "Done with 1438. Trained for 162 epochs.\n",
      "Done with 2335. Trained for 179 epochs.\n",
      "Done with 3792. Trained for 109 epochs.\n",
      "Done with 6158. Trained for 101 epochs.\n",
      "Done with 10000. Trained for 60 epochs.\n"
     ]
    }
   ],
   "source": [
    "aligner_type = \"conv\"\n",
    "data.flat = False\n",
    "\n",
    "set_seed(seed)\n",
    "permutation = torch.randperm(len(data))\n",
    "\n",
    "for n_samples in tqdm(pilots_sets, desc=\"Training\"):\n",
    "\n",
    "    aligner, epoch = train_conv_aligner(data, permutation, n_samples, c, batch_size, train_snr, device)\n",
    "\n",
    "    aligner_fp = f'alignment/models/plots/{folder}/aligner_{aligner_type}_{n_samples}.pth'\n",
    "    torch.save(aligner.state_dict(), aligner_fp)\n",
    "\n",
    "    # tqdm.write(f\"Done with {n_samples}. Trained for {epoch} epochs.\")"
   ]
  },
  {
   "cell_type": "code",
   "execution_count": null,
   "id": "ee3286ac",
   "metadata": {},
   "outputs": [
    {
     "name": "stdout",
     "output_type": "stream",
     "text": [
      "Conv model, 1 samples got a PSNR of 22.47\n",
      "Conv model, 2 samples got a PSNR of 32.35\n",
      "Conv model, 4 samples got a PSNR of 36.16\n",
      "Conv model, 6 samples got a PSNR of 38.26\n",
      "Conv model, 11 samples got a PSNR of 37.65\n",
      "Conv model, 18 samples got a PSNR of 38.36\n",
      "Conv model, 29 samples got a PSNR of 37.95\n",
      "Conv model, 48 samples got a PSNR of 39.04\n",
      "Conv model, 78 samples got a PSNR of 39.81\n",
      "Conv model, 127 samples got a PSNR of 40.63\n",
      "Conv model, 206 samples got a PSNR of 41.07\n",
      "Conv model, 335 samples got a PSNR of 41.00\n",
      "Conv model, 545 samples got a PSNR of 41.32\n",
      "Conv model, 885 samples got a PSNR of 41.47\n",
      "Conv model, 1438 samples got a PSNR of 41.29\n",
      "Conv model, 2335 samples got a PSNR of 41.57\n",
      "Conv model, 3792 samples got a PSNR of 41.27\n",
      "Conv model, 6158 samples got a PSNR of 41.51\n",
      "Conv model, 10000 samples got a PSNR of 41.49\n"
     ]
    }
   ],
   "source": [
    "aligner_type = \"conv\"\n",
    "aligner = _ConvolutionalAlignment(in_channels=2*c, out_channels=2*c, kernel_size=5)\n",
    "log_file = f\"alignment/logs/aligner_{aligner_type}_snr_{snr}_seed_{seed}.txt\"\n",
    "\n",
    "with open(log_file, 'w') as f:\n",
    "    pass\n",
    "\n",
    "set_seed(seed)\n",
    "\n",
    "for n_samples in pilots_sets:\n",
    "\n",
    "    aligner_fp = f'alignment/models/plots/{folder}/aligner_conv_{n_samples}.pth'\n",
    "    aligner.load_state_dict(torch.load(aligner_fp, map_location=device))\n",
    "\n",
    "    aligned_model = AlignedDeepJSCC(encoder, decoder, aligner, val_snr, \"AWGN\")\n",
    "\n",
    "    psnr_result = validation_vectorized(aligned_model, test_loader, times, device)\n",
    "    \n",
    "    result_msg = f\"Conv model, {n_samples} samples got a PSNR of {psnr_result:.2f}\"\n",
    "    print(result_msg)\n",
    "    \n",
    "    with open(log_file, 'a') as f:\n",
    "        f.write(f\"{result_msg}\\n\")"
   ]
  },
  {
   "cell_type": "markdown",
   "id": "8ec1de4a",
   "metadata": {},
   "source": [
    "# Two Conv"
   ]
  },
  {
   "cell_type": "code",
   "execution_count": null,
   "id": "b0fb3237",
   "metadata": {},
   "outputs": [
    {
     "name": "stdout",
     "output_type": "stream",
     "text": [
      "Done with 1. Trained for 667 epochs.\n",
      "Done with 2. Trained for 625 epochs.\n",
      "Done with 4. Trained for 713 epochs.\n",
      "Done with 6. Trained for 500 epochs.\n",
      "Done with 11. Trained for 430 epochs.\n",
      "Done with 18. Trained for 419 epochs.\n",
      "Done with 29. Trained for 427 epochs.\n",
      "Done with 48. Trained for 534 epochs.\n",
      "Done with 78. Trained for 168 epochs.\n",
      "Done with 127. Trained for 153 epochs.\n",
      "Done with 206. Trained for 416 epochs.\n",
      "Done with 335. Trained for 162 epochs.\n",
      "Done with 545. Trained for 187 epochs.\n",
      "Done with 885. Trained for 101 epochs.\n",
      "Done with 1438. Trained for 160 epochs.\n",
      "Done with 2335. Trained for 235 epochs.\n",
      "Done with 3792. Trained for 138 epochs.\n",
      "Done with 6158. Trained for 129 epochs.\n",
      "Done with 10000. Trained for 164 epochs.\n"
     ]
    }
   ],
   "source": [
    "aligner_type = \"twoconv\"\n",
    "data.flat = False\n",
    "\n",
    "set_seed(seed)\n",
    "permutation = torch.randperm(len(data))\n",
    "\n",
    "for n_samples in tqdm(pilots_sets, desc=\"Training\"):\n",
    "\n",
    "    aligner, epoch = train_twoconv_aligner(data, permutation, n_samples, c, batch_size, train_snr, device)\n",
    "\n",
    "    aligner_fp = f'alignment/models/plots/{folder}/aligner_{aligner_type}_{n_samples}.pth'\n",
    "    torch.save(aligner.state_dict(), aligner_fp)\n",
    "\n",
    "    # tqdm.write(f\"Done with {n_samples}. Trained for {epoch} epochs.\")"
   ]
  },
  {
   "cell_type": "code",
   "execution_count": null,
   "id": "6847b8ae",
   "metadata": {},
   "outputs": [
    {
     "name": "stdout",
     "output_type": "stream",
     "text": [
      "Twoconv model, 1 samples got a PSNR of 25.85\n",
      "Twoconv model, 2 samples got a PSNR of 27.45\n",
      "Twoconv model, 4 samples got a PSNR of 32.31\n",
      "Twoconv model, 6 samples got a PSNR of 33.19\n",
      "Twoconv model, 11 samples got a PSNR of 35.35\n",
      "Twoconv model, 18 samples got a PSNR of 35.64\n",
      "Twoconv model, 29 samples got a PSNR of 36.32\n",
      "Twoconv model, 48 samples got a PSNR of 36.36\n",
      "Twoconv model, 78 samples got a PSNR of 34.07\n",
      "Twoconv model, 127 samples got a PSNR of 33.25\n",
      "Twoconv model, 206 samples got a PSNR of 40.30\n",
      "Twoconv model, 335 samples got a PSNR of 39.25\n",
      "Twoconv model, 545 samples got a PSNR of 40.32\n",
      "Twoconv model, 885 samples got a PSNR of 40.26\n",
      "Twoconv model, 1438 samples got a PSNR of 42.06\n",
      "Twoconv model, 2335 samples got a PSNR of 43.75\n",
      "Twoconv model, 3792 samples got a PSNR of 42.08\n",
      "Twoconv model, 6158 samples got a PSNR of 42.85\n",
      "Twoconv model, 10000 samples got a PSNR of 44.48\n"
     ]
    }
   ],
   "source": [
    "aligner_type = \"twoconv\"\n",
    "aligner = _TwoConvAlignment(in_channels=2*c, hidden_channels=2*c, out_channels=2*c, kernel_size=5)\n",
    "log_file = f\"alignment/logs/aligner_{aligner_type}_snr_{snr}_seed_{seed}.txt\"\n",
    "\n",
    "with open(log_file, 'w') as f:\n",
    "    pass\n",
    "\n",
    "set_seed(seed)\n",
    "\n",
    "for n_samples in pilots_sets:\n",
    "\n",
    "    aligner_fp = f'alignment/models/plots/{folder}/aligner_twoconv_{n_samples}.pth'\n",
    "    aligner.load_state_dict(torch.load(aligner_fp, map_location=device))\n",
    "\n",
    "    aligned_model = AlignedDeepJSCC(encoder, decoder, aligner, val_snr, \"AWGN\")\n",
    "\n",
    "    psnr_result = validation_vectorized(aligned_model, test_loader, times, device)\n",
    "    \n",
    "    result_msg = f\"Twoconv model, {n_samples} samples got a PSNR of {psnr_result:.2f}\"\n",
    "    print(result_msg)\n",
    "    \n",
    "    with open(log_file, 'a') as f:\n",
    "        f.write(f\"{result_msg}\\n\")"
   ]
  },
  {
   "cell_type": "markdown",
   "id": "320a2ce7",
   "metadata": {},
   "source": [
    "# Zero-shot"
   ]
  },
  {
   "cell_type": "code",
   "execution_count": null,
   "id": "d01102be",
   "metadata": {},
   "outputs": [
    {
     "name": "stdout",
     "output_type": "stream",
     "text": [
      "Done with 2.\n",
      "Done with 4.\n",
      "Done with 6.\n",
      "Done with 11.\n",
      "Done with 18.\n",
      "Done with 29.\n",
      "Done with 48.\n",
      "Done with 78.\n",
      "Done with 127.\n",
      "Done with 206.\n",
      "Done with 335.\n",
      "Done with 545.\n",
      "Done with 885.\n",
      "Done with 1438.\n",
      "Done with 2335.\n",
      "Done with 3792.\n",
      "Done with 6158.\n",
      "Done with 10000.\n"
     ]
    }
   ],
   "source": [
    "aligner_type = \"zeroshot\"\n",
    "data.flat = True\n",
    "\n",
    "set_seed(seed)\n",
    "permutation = torch.randperm(len(data))\n",
    "\n",
    "for n_samples in tqdm(pilots_sets[1:], desc=\"Training\"):\n",
    "\n",
    "    aligner = train_zeroshot_aligner(data, permutation, n_samples, train_snr, n_samples, device)\n",
    "\n",
    "    aligner_fp = f'alignment/models/plots/{folder}/aligner_{aligner_type}_{n_samples}.pth'\n",
    "    torch.save(aligner.state_dict(), aligner_fp)\n",
    "\n",
    "    # tqdm.write(f\"Done with {n_samples}.\")"
   ]
  },
  {
   "cell_type": "code",
   "execution_count": null,
   "id": "79f0bef4",
   "metadata": {},
   "outputs": [
    {
     "name": "stdout",
     "output_type": "stream",
     "text": [
      "Zeroshot model, 2 samples got a PSNR of 11.35\n",
      "Zeroshot model, 4 samples got a PSNR of 13.35\n",
      "Zeroshot model, 6 samples got a PSNR of 13.75\n",
      "Zeroshot model, 11 samples got a PSNR of 14.65\n",
      "Zeroshot model, 18 samples got a PSNR of 15.47\n",
      "Zeroshot model, 29 samples got a PSNR of 16.40\n",
      "Zeroshot model, 48 samples got a PSNR of 17.64\n",
      "Zeroshot model, 78 samples got a PSNR of 18.57\n",
      "Zeroshot model, 127 samples got a PSNR of 20.34\n",
      "Zeroshot model, 206 samples got a PSNR of 21.87\n",
      "Zeroshot model, 335 samples got a PSNR of 23.04\n",
      "Zeroshot model, 545 samples got a PSNR of 26.47\n",
      "Zeroshot model, 885 samples got a PSNR of 29.72\n",
      "Zeroshot model, 1438 samples got a PSNR of 33.36\n",
      "Zeroshot model, 2335 samples got a PSNR of 36.35\n",
      "Zeroshot model, 3792 samples got a PSNR of 37.58\n",
      "Zeroshot model, 6158 samples got a PSNR of 38.89\n",
      "Zeroshot model, 10000 samples got a PSNR of 38.43\n"
     ]
    }
   ],
   "source": [
    "aligner_type = \"twoconv\"\n",
    "log_file = f\"alignment/logs/aligner_{aligner_type}_snr_{snr}_seed_{seed}.txt\"\n",
    "\n",
    "with open(log_file, 'w') as f:\n",
    "    pass\n",
    "\n",
    "set_seed(seed)\n",
    "\n",
    "for n_samples in pilots_sets[1:]:\n",
    "\n",
    "    aligner = _ZeroShotAlignment(\n",
    "        F_tilde=torch.zeros(n_samples, resolution**2),\n",
    "        G_tilde=torch.zeros(resolution**2, n_samples), \n",
    "        G=torch.zeros(1, 1),\n",
    "        L=torch.zeros(n_samples, n_samples),\n",
    "        mean=torch.zeros(n_samples, 1)\n",
    "    )\n",
    "\n",
    "    aligner_fp = f'alignment/models/plots/{folder}/aligner_zeroshot_{n_samples}.pth'\n",
    "    aligner.load_state_dict(torch.load(aligner_fp, map_location=device))\n",
    "\n",
    "    aligned_model = AlignedDeepJSCC(encoder, decoder, aligner, val_snr, \"AWGN\")\n",
    "\n",
    "    psnr_result = validation_vectorized(aligned_model, test_loader, times, device)\n",
    "    \n",
    "    result_msg = f\"Zeroshot model, {n_samples} samples got a PSNR of {psnr_result:.2f}\"\n",
    "    print(result_msg)\n",
    "    \n",
    "    with open(log_file, 'a') as f:\n",
    "        f.write(f\"{result_msg}\\n\")"
   ]
  }
 ],
 "metadata": {
  "kernelspec": {
   "display_name": "base",
   "language": "python",
   "name": "python3"
  },
  "language_info": {
   "codemirror_mode": {
    "name": "ipython",
    "version": 3
   },
   "file_extension": ".py",
   "mimetype": "text/x-python",
   "name": "python",
   "nbconvert_exporter": "python",
   "pygments_lexer": "ipython3",
   "version": "3.13.2"
  }
 },
 "nbformat": 4,
 "nbformat_minor": 5
}
