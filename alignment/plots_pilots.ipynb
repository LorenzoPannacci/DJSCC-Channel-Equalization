{
 "cells": [
  {
   "cell_type": "code",
   "execution_count": 1,
   "id": "c3e4bda5",
   "metadata": {},
   "outputs": [
    {
     "name": "stdout",
     "output_type": "stream",
     "text": [
      "/home/lorenzo/repos/Deep-JSCC-PyTorch\n"
     ]
    }
   ],
   "source": [
    "%cd ..\n",
    "\n",
    "import os\n",
    "import torch\n",
    "import copy\n",
    "import numpy as np\n",
    "from tqdm.notebook import tqdm\n",
    "\n",
    "\n",
    "from alignment.alignment_utils import load_deep_jscc\n",
    "from alignment.alignment_model import *\n",
    "from alignment.alignment_model import _LinearAlignment, _MLPAlignment, _ConvolutionalAlignment, _ZeroShotAlignment, _TwoConvAlignment\n",
    "from alignment.alignment_training import *\n",
    "from alignment.alignment_validation import *"
   ]
  },
  {
   "cell_type": "code",
   "execution_count": null,
   "id": "8d4dce44",
   "metadata": {},
   "outputs": [
    {
     "name": "stderr",
     "output_type": "stream",
     "text": [
      "Caching inputs: 100%|██████████| 782/782 [00:02<00:00, 286.01it/s]\n"
     ]
    }
   ],
   "source": [
    "snr = 30\n",
    "seed = 42\n",
    "resolution = 32\n",
    "\n",
    "model1_fp = f'alignment/models/autoencoders/snr_{snr}_seed_42.pkl'\n",
    "model2_fp = f'alignment/models/autoencoders/snr_{snr}_seed_43.pkl'\n",
    "folder = f'psnr_vs_pilots'\n",
    "os.makedirs(f'alignment/models/plots/{folder}', exist_ok=True)\n",
    "\n",
    "dataset = \"cifar10\"\n",
    "channel = 'AWGN'\n",
    "batch_size = 64\n",
    "num_workers = 4\n",
    "\n",
    "logs_folder = f'alignment/logs_{resolution}'\n",
    "os.makedirs(logs_folder, exist_ok=True)\n",
    "\n",
    "train_snr = snr\n",
    "val_snr = snr\n",
    "times = 10\n",
    "c = 8\n",
    "\n",
    "n_points = 20\n",
    "pilots_sets = np.unique(np.logspace(0, np.log10(10000), num=n_points, base=10).astype(int))\n",
    "device = torch.device(\"cuda:0\" if torch.cuda.is_available() else 'cpu')\n",
    "\n",
    "encoder = copy.deepcopy(load_deep_jscc(model1_fp, val_snr, c, \"AWGN\").encoder)\n",
    "decoder = copy.deepcopy(load_deep_jscc(model2_fp, val_snr, c, \"AWGN\").decoder)\n",
    "\n",
    "train_loader, test_loader = get_data_loaders(dataset, resolution, batch_size, num_workers)\n",
    "data = load_alignment_dataset(model1_fp, model2_fp, train_snr, train_loader, c, device)"
   ]
  },
  {
   "cell_type": "markdown",
   "id": "35ea546b",
   "metadata": {},
   "source": [
    "# No mismatch - Unaligned - Zeroshot max"
   ]
  },
  {
   "cell_type": "code",
   "execution_count": null,
   "id": "3a66b1e7",
   "metadata": {},
   "outputs": [
    {
     "name": "stdout",
     "output_type": "stream",
     "text": [
      "unaligned 7.81\n"
     ]
    },
    {
     "ename": "FileNotFoundError",
     "evalue": "[Errno 2] No such file or directory: 'alignment/logs/lines_snr_30_seed_42.txt'",
     "output_type": "error",
     "traceback": [
      "\u001b[31m---------------------------------------------------------------------------\u001b[39m",
      "\u001b[31mFileNotFoundError\u001b[39m                         Traceback (most recent call last)",
      "\u001b[36mCell\u001b[39m\u001b[36m \u001b[39m\u001b[32mIn[3]\u001b[39m\u001b[32m, line 8\u001b[39m\n\u001b[32m      6\u001b[39m result_msg = \u001b[33mf\u001b[39m\u001b[33m\"\u001b[39m\u001b[33munaligned \u001b[39m\u001b[38;5;132;01m{\u001b[39;00mvalidation_vectorized(model,\u001b[38;5;250m \u001b[39mtest_loader,\u001b[38;5;250m \u001b[39mtimes,\u001b[38;5;250m \u001b[39mdevice)\u001b[38;5;132;01m:\u001b[39;00m\u001b[33m.2f\u001b[39m\u001b[38;5;132;01m}\u001b[39;00m\u001b[33m\"\u001b[39m\n\u001b[32m      7\u001b[39m \u001b[38;5;28mprint\u001b[39m(result_msg)\n\u001b[32m----> \u001b[39m\u001b[32m8\u001b[39m \u001b[38;5;28;01mwith\u001b[39;00m \u001b[38;5;28;43mopen\u001b[39;49m\u001b[43m(\u001b[49m\u001b[43mlog_file\u001b[49m\u001b[43m,\u001b[49m\u001b[43m \u001b[49m\u001b[33;43m'\u001b[39;49m\u001b[33;43ma\u001b[39;49m\u001b[33;43m'\u001b[39;49m\u001b[43m)\u001b[49m \u001b[38;5;28;01mas\u001b[39;00m f:\n\u001b[32m      9\u001b[39m         f.write(\u001b[33mf\u001b[39m\u001b[33m\"\u001b[39m\u001b[38;5;132;01m{\u001b[39;00mresult_msg\u001b[38;5;132;01m}\u001b[39;00m\u001b[38;5;130;01m\\n\u001b[39;00m\u001b[33m\"\u001b[39m)\n\u001b[32m     11\u001b[39m \u001b[38;5;66;03m# aligned\u001b[39;00m\n",
      "\u001b[36mFile \u001b[39m\u001b[32m~/miniconda3/lib/python3.13/site-packages/IPython/core/interactiveshell.py:343\u001b[39m, in \u001b[36m_modified_open\u001b[39m\u001b[34m(file, *args, **kwargs)\u001b[39m\n\u001b[32m    336\u001b[39m \u001b[38;5;28;01mif\u001b[39;00m file \u001b[38;5;129;01min\u001b[39;00m {\u001b[32m0\u001b[39m, \u001b[32m1\u001b[39m, \u001b[32m2\u001b[39m}:\n\u001b[32m    337\u001b[39m     \u001b[38;5;28;01mraise\u001b[39;00m \u001b[38;5;167;01mValueError\u001b[39;00m(\n\u001b[32m    338\u001b[39m         \u001b[33mf\u001b[39m\u001b[33m\"\u001b[39m\u001b[33mIPython won\u001b[39m\u001b[33m'\u001b[39m\u001b[33mt let you open fd=\u001b[39m\u001b[38;5;132;01m{\u001b[39;00mfile\u001b[38;5;132;01m}\u001b[39;00m\u001b[33m by default \u001b[39m\u001b[33m\"\u001b[39m\n\u001b[32m    339\u001b[39m         \u001b[33m\"\u001b[39m\u001b[33mas it is likely to crash IPython. If you know what you are doing, \u001b[39m\u001b[33m\"\u001b[39m\n\u001b[32m    340\u001b[39m         \u001b[33m\"\u001b[39m\u001b[33myou can use builtins\u001b[39m\u001b[33m'\u001b[39m\u001b[33m open.\u001b[39m\u001b[33m\"\u001b[39m\n\u001b[32m    341\u001b[39m     )\n\u001b[32m--> \u001b[39m\u001b[32m343\u001b[39m \u001b[38;5;28;01mreturn\u001b[39;00m \u001b[43mio_open\u001b[49m\u001b[43m(\u001b[49m\u001b[43mfile\u001b[49m\u001b[43m,\u001b[49m\u001b[43m \u001b[49m\u001b[43m*\u001b[49m\u001b[43margs\u001b[49m\u001b[43m,\u001b[49m\u001b[43m \u001b[49m\u001b[43m*\u001b[49m\u001b[43m*\u001b[49m\u001b[43mkwargs\u001b[49m\u001b[43m)\u001b[49m\n",
      "\u001b[31mFileNotFoundError\u001b[39m: [Errno 2] No such file or directory: 'alignment/logs/lines_snr_30_seed_42.txt'"
     ]
    }
   ],
   "source": [
    "log_file = f\"{logs_folder}/lines_snr_{snr}_seed_{seed}.txt\"\n",
    "\n",
    "# unaligned\n",
    "model = AlignedDeepJSCC(encoder, decoder, None, val_snr, \"AWGN\")\n",
    "\n",
    "result_msg = f\"unaligned {validation_vectorized(model, test_loader, times, device):.2f}\"\n",
    "print(result_msg)\n",
    "with open(log_file, 'a') as f:\n",
    "        f.write(f\"{result_msg}\\n\")\n",
    "\n",
    "# aligned\n",
    "model = AlignedDeepJSCC(encoder, copy.deepcopy(load_deep_jscc(model1_fp, val_snr, c, \"AWGN\").decoder), None, val_snr, \"AWGN\")\n",
    "\n",
    "result_msg = f\"aligned {validation_vectorized(model, test_loader, times, device):.2f}\"\n",
    "print(result_msg)\n",
    "with open(log_file, 'a') as f:\n",
    "        f.write(f\"{result_msg}\\n\")\n",
    "\n",
    "# zeroshot\n",
    "data.flat = True\n",
    "\n",
    "set_seed(seed)\n",
    "permutation = torch.randperm(len(data))\n",
    "\n",
    "aligner = train_zeroshot_aligner(data, permutation, resolution**2, train_snr, resolution**2, device)\n",
    "aligned_model = AlignedDeepJSCC(encoder, decoder, aligner, val_snr, \"AWGN\")\n",
    "\n",
    "result_msg = f\"zeroshot {validation_vectorized(aligned_model, test_loader, times, device):.2f}\"\n",
    "print(result_msg)\n",
    "with open(log_file, 'a') as f:\n",
    "        f.write(f\"{result_msg}\\n\")"
   ]
  },
  {
   "cell_type": "markdown",
   "id": "4b29cfc6",
   "metadata": {},
   "source": [
    "# Least Squares"
   ]
  },
  {
   "cell_type": "code",
   "execution_count": null,
   "id": "039882c4",
   "metadata": {},
   "outputs": [
    {
     "name": "stderr",
     "output_type": "stream",
     "text": [
      "Training: 100%|██████████| 19/19 [00:13<00:00,  1.44it/s]\n"
     ]
    }
   ],
   "source": [
    "aligner_type = \"linear\"\n",
    "data.flat = True\n",
    "\n",
    "set_seed(seed)\n",
    "permutation = torch.randperm(len(data))\n",
    "\n",
    "for n_samples in tqdm(pilots_sets, desc=\"Training\"):\n",
    "\n",
    "    aligner = train_linear_aligner(data, permutation, n_samples, train_snr)\n",
    "\n",
    "    aligner_fp = f'alignment/models/plots/{folder}/aligner_{aligner_type}_{n_samples}.pth'\n",
    "    torch.save(aligner.state_dict(), aligner_fp)\n",
    "\n",
    "    # tqdm.write(f\"Done with {n_samples}\")"
   ]
  },
  {
   "cell_type": "code",
   "execution_count": null,
   "id": "2b1dd758",
   "metadata": {},
   "outputs": [
    {
     "name": "stdout",
     "output_type": "stream",
     "text": [
      "Linear model, 1 samples got a PSNR of 12.25\n",
      "Linear model, 2 samples got a PSNR of 12.00\n",
      "Linear model, 4 samples got a PSNR of 12.98\n",
      "Linear model, 6 samples got a PSNR of 13.45\n",
      "Linear model, 11 samples got a PSNR of 13.67\n",
      "Linear model, 18 samples got a PSNR of 14.34\n",
      "Linear model, 29 samples got a PSNR of 14.89\n",
      "Linear model, 48 samples got a PSNR of 15.53\n",
      "Linear model, 78 samples got a PSNR of 16.24\n",
      "Linear model, 127 samples got a PSNR of 17.08\n",
      "Linear model, 206 samples got a PSNR of 17.90\n",
      "Linear model, 335 samples got a PSNR of 18.87\n",
      "Linear model, 545 samples got a PSNR of 19.98\n",
      "Linear model, 885 samples got a PSNR of 21.29\n",
      "Linear model, 1438 samples got a PSNR of 22.78\n",
      "Linear model, 2335 samples got a PSNR of 24.46\n",
      "Linear model, 3792 samples got a PSNR of 26.35\n",
      "Linear model, 6158 samples got a PSNR of 28.45\n",
      "Linear model, 10000 samples got a PSNR of 30.73\n"
     ]
    }
   ],
   "source": [
    "aligner_type = \"linear\"\n",
    "aligner = _LinearAlignment(resolution**2)\n",
    "log_file = f\"alignment/logs/aligner_{aligner_type}_snr_{snr}_seed_{seed}.txt\"\n",
    "\n",
    "with open(log_file, 'w') as f:\n",
    "    pass\n",
    "\n",
    "set_seed(seed)\n",
    "\n",
    "for n_samples in pilots_sets:\n",
    "\n",
    "    aligner_fp = f'alignment/models/plots/{folder}/aligner_{aligner_type}_{n_samples}.pth'\n",
    "    aligner.load_state_dict(torch.load(aligner_fp, map_location=device))\n",
    "\n",
    "    aligned_model = AlignedDeepJSCC(encoder, decoder, aligner, val_snr, channel)\n",
    "\n",
    "    psnr_result = validation_vectorized(aligned_model, test_loader, times, device)\n",
    "    \n",
    "    result_msg = f\"Linear model, {n_samples} samples got a PSNR of {psnr_result:.2f}\"\n",
    "    print(result_msg)\n",
    "    \n",
    "    with open(log_file, 'a') as f:\n",
    "        f.write(f\"{result_msg}\\n\")"
   ]
  },
  {
   "cell_type": "markdown",
   "id": "e6f355d4",
   "metadata": {},
   "source": [
    "# Linear Neural"
   ]
  },
  {
   "cell_type": "code",
   "execution_count": null,
   "id": "979343a3",
   "metadata": {},
   "outputs": [
    {
     "name": "stderr",
     "output_type": "stream",
     "text": [
      "Training: 100%|██████████| 19/19 [05:36<00:00, 17.69s/it]\n"
     ]
    }
   ],
   "source": [
    "aligner_type = \"neural\"\n",
    "data.flat = False\n",
    "\n",
    "set_seed(seed)\n",
    "permutation = torch.randperm(len(data))\n",
    "\n",
    "for n_samples in tqdm(pilots_sets, desc=\"Training\"):\n",
    "    \n",
    "    aligner, epoch = train_neural_aligner(data, permutation, n_samples, batch_size, resolution, 6, train_snr, device)\n",
    "\n",
    "    aligner_fp = f'alignment/models/plots/{folder}/aligner_{aligner_type}_{n_samples}.pth'\n",
    "    torch.save(aligner.state_dict(), aligner_fp)\n",
    "\n",
    "    # tqdm.write(f\"Done with {n_samples}. Trained for {epoch} epochs.\")"
   ]
  },
  {
   "cell_type": "code",
   "execution_count": null,
   "id": "2bce7558",
   "metadata": {},
   "outputs": [
    {
     "name": "stdout",
     "output_type": "stream",
     "text": [
      "Neural model, 1 samples got a PSNR of 11.19\n",
      "Neural model, 2 samples got a PSNR of 11.17\n",
      "Neural model, 4 samples got a PSNR of 13.66\n",
      "Neural model, 6 samples got a PSNR of 14.37\n",
      "Neural model, 11 samples got a PSNR of 15.00\n",
      "Neural model, 18 samples got a PSNR of 15.63\n",
      "Neural model, 29 samples got a PSNR of 16.43\n",
      "Neural model, 48 samples got a PSNR of 17.35\n",
      "Neural model, 78 samples got a PSNR of 17.38\n",
      "Neural model, 127 samples got a PSNR of 18.32\n",
      "Neural model, 206 samples got a PSNR of 19.88\n",
      "Neural model, 335 samples got a PSNR of 21.51\n",
      "Neural model, 545 samples got a PSNR of 22.97\n",
      "Neural model, 885 samples got a PSNR of 25.09\n",
      "Neural model, 1438 samples got a PSNR of 27.95\n",
      "Neural model, 2335 samples got a PSNR of 30.71\n"
     ]
    },
    {
     "name": "stdout",
     "output_type": "stream",
     "text": [
      "Neural model, 3792 samples got a PSNR of 32.64\n",
      "Neural model, 6158 samples got a PSNR of 34.04\n",
      "Neural model, 10000 samples got a PSNR of 34.08\n"
     ]
    }
   ],
   "source": [
    "aligner_type = \"neural\"\n",
    "aligner = _LinearAlignment(resolution**2)\n",
    "log_file = f\"alignment/logs/aligner_{aligner_type}_snr_{snr}_seed_{seed}.txt\"\n",
    "\n",
    "with open(log_file, 'w') as f:\n",
    "    pass\n",
    "\n",
    "set_seed(seed)\n",
    "\n",
    "for n_samples in pilots_sets:\n",
    "\n",
    "    aligner_fp = f'alignment/models/plots/{folder}/aligner_{aligner_type}_{n_samples}.pth'\n",
    "    aligner.load_state_dict(torch.load(aligner_fp, map_location=device))\n",
    "\n",
    "    aligned_model = AlignedDeepJSCC(encoder, decoder, aligner, val_snr, \"AWGN\")\n",
    "\n",
    "    psnr_result = validation_vectorized(aligned_model, test_loader, times, device)\n",
    "    \n",
    "    result_msg = f\"Neural model, {n_samples} samples got a PSNR of {psnr_result:.2f}\"\n",
    "    print(result_msg)\n",
    "    \n",
    "    with open(log_file, 'a') as f:\n",
    "        f.write(f\"{result_msg}\\n\")"
   ]
  },
  {
   "cell_type": "markdown",
   "id": "6a182d8b",
   "metadata": {},
   "source": [
    "# MLP"
   ]
  },
  {
   "cell_type": "code",
   "execution_count": null,
   "id": "210c4b0d",
   "metadata": {},
   "outputs": [
    {
     "name": "stderr",
     "output_type": "stream",
     "text": [
      "Training: 100%|██████████| 19/19 [14:37<00:00, 46.18s/it] \n"
     ]
    }
   ],
   "source": [
    "aligner_type = \"mlp\"\n",
    "data.flat = False\n",
    "\n",
    "set_seed(seed)\n",
    "permutation = torch.randperm(len(data))\n",
    "\n",
    "for n_samples in tqdm(pilots_sets, desc=\"Training\"):\n",
    "    \n",
    "    aligner, epoch = train_mlp_aligner(data, permutation, n_samples, batch_size, resolution, 6, train_snr, device)\n",
    "\n",
    "    aligner_fp = f'alignment/models/plots/{folder}/aligner_{aligner_type}_{n_samples}.pth'\n",
    "    torch.save(aligner.state_dict(), aligner_fp)\n",
    "\n",
    "    # tqdm.write(f\"Done with {n_samples}. Trained for {epoch} epochs.\")"
   ]
  },
  {
   "cell_type": "code",
   "execution_count": null,
   "id": "2b4f91d3",
   "metadata": {},
   "outputs": [
    {
     "name": "stdout",
     "output_type": "stream",
     "text": [
      "MLP model, 1 samples got a PSNR of 11.06\n",
      "MLP model, 2 samples got a PSNR of 10.94\n",
      "MLP model, 4 samples got a PSNR of 10.85\n",
      "MLP model, 6 samples got a PSNR of 11.96\n",
      "MLP model, 11 samples got a PSNR of 14.89\n",
      "MLP model, 18 samples got a PSNR of 15.47\n",
      "MLP model, 29 samples got a PSNR of 16.13\n",
      "MLP model, 48 samples got a PSNR of 15.91\n",
      "MLP model, 78 samples got a PSNR of 17.03\n",
      "MLP model, 127 samples got a PSNR of 17.57\n",
      "MLP model, 206 samples got a PSNR of 20.34\n",
      "MLP model, 335 samples got a PSNR of 21.69\n",
      "MLP model, 545 samples got a PSNR of 22.99\n",
      "MLP model, 885 samples got a PSNR of 24.11\n",
      "MLP model, 1438 samples got a PSNR of 25.10\n",
      "MLP model, 2335 samples got a PSNR of 26.12\n",
      "MLP model, 3792 samples got a PSNR of 26.48\n",
      "MLP model, 6158 samples got a PSNR of 26.88\n",
      "MLP model, 10000 samples got a PSNR of 27.01\n"
     ]
    }
   ],
   "source": [
    "aligner_type = \"mlp\"\n",
    "aligner = _MLPAlignment(input_dim=resolution**2, hidden_dims=[resolution**2])\n",
    "log_file = f\"alignment/logs/aligner_{aligner_type}_snr_{snr}_seed_{seed}.txt\"\n",
    "\n",
    "with open(log_file, 'w') as f:\n",
    "    pass\n",
    "\n",
    "set_seed(seed)\n",
    "\n",
    "for n_samples in pilots_sets:\n",
    "\n",
    "    aligner_fp = f'alignment/models/plots/{folder}/aligner_{aligner_type}_{n_samples}.pth'\n",
    "    aligner.load_state_dict(torch.load(aligner_fp, map_location=device))\n",
    "\n",
    "    aligned_model = AlignedDeepJSCC(encoder, decoder, aligner, val_snr, \"AWGN\")\n",
    "\n",
    "    psnr_result = validation_vectorized(aligned_model, test_loader, times, device)\n",
    "    \n",
    "    result_msg = f\"MLP model, {n_samples} samples got a PSNR of {psnr_result:.2f}\"\n",
    "    print(result_msg)\n",
    "    \n",
    "    with open(log_file, 'a') as f:\n",
    "        f.write(f\"{result_msg}\\n\")"
   ]
  },
  {
   "cell_type": "markdown",
   "id": "6dc6147f",
   "metadata": {},
   "source": [
    "# Convolutional"
   ]
  },
  {
   "cell_type": "code",
   "execution_count": null,
   "id": "0209c166",
   "metadata": {},
   "outputs": [
    {
     "name": "stderr",
     "output_type": "stream",
     "text": [
      "Training: 100%|██████████| 19/19 [08:23<00:00, 26.48s/it]\n"
     ]
    }
   ],
   "source": [
    "aligner_type = \"conv\"\n",
    "data.flat = False\n",
    "\n",
    "set_seed(seed)\n",
    "permutation = torch.randperm(len(data))\n",
    "\n",
    "for n_samples in tqdm(pilots_sets, desc=\"Training\"):\n",
    "\n",
    "    aligner, epoch = train_conv_aligner(data, permutation, n_samples, c, batch_size, train_snr, device)\n",
    "\n",
    "    aligner_fp = f'alignment/models/plots/{folder}/aligner_{aligner_type}_{n_samples}.pth'\n",
    "    torch.save(aligner.state_dict(), aligner_fp)\n",
    "\n",
    "    # tqdm.write(f\"Done with {n_samples}. Trained for {epoch} epochs.\")"
   ]
  },
  {
   "cell_type": "code",
   "execution_count": null,
   "id": "ee3286ac",
   "metadata": {},
   "outputs": [
    {
     "name": "stdout",
     "output_type": "stream",
     "text": [
      "Conv model, 1 samples got a PSNR of 32.57\n",
      "Conv model, 2 samples got a PSNR of 36.56\n",
      "Conv model, 4 samples got a PSNR of 37.97\n",
      "Conv model, 6 samples got a PSNR of 37.88\n",
      "Conv model, 11 samples got a PSNR of 37.34\n",
      "Conv model, 18 samples got a PSNR of 38.79\n",
      "Conv model, 29 samples got a PSNR of 39.44\n",
      "Conv model, 48 samples got a PSNR of 39.82\n",
      "Conv model, 78 samples got a PSNR of 40.62\n",
      "Conv model, 127 samples got a PSNR of 41.10\n",
      "Conv model, 206 samples got a PSNR of 41.32\n",
      "Conv model, 335 samples got a PSNR of 41.21\n",
      "Conv model, 545 samples got a PSNR of 41.43\n",
      "Conv model, 885 samples got a PSNR of 41.40\n",
      "Conv model, 1438 samples got a PSNR of 41.41\n",
      "Conv model, 2335 samples got a PSNR of 41.55\n",
      "Conv model, 3792 samples got a PSNR of 41.43\n",
      "Conv model, 6158 samples got a PSNR of 41.42\n",
      "Conv model, 10000 samples got a PSNR of 41.49\n"
     ]
    }
   ],
   "source": [
    "aligner_type = \"conv\"\n",
    "aligner = _ConvolutionalAlignment(in_channels=2*c, out_channels=2*c, kernel_size=5)\n",
    "log_file = f\"alignment/logs/aligner_{aligner_type}_snr_{snr}_seed_{seed}.txt\"\n",
    "\n",
    "with open(log_file, 'w') as f:\n",
    "    pass\n",
    "\n",
    "set_seed(seed)\n",
    "\n",
    "for n_samples in pilots_sets:\n",
    "\n",
    "    aligner_fp = f'alignment/models/plots/{folder}/aligner_{aligner_type}_{n_samples}.pth'\n",
    "    aligner.load_state_dict(torch.load(aligner_fp, map_location=device))\n",
    "\n",
    "    aligned_model = AlignedDeepJSCC(encoder, decoder, aligner, val_snr, \"AWGN\")\n",
    "\n",
    "    psnr_result = validation_vectorized(aligned_model, test_loader, times, device)\n",
    "    \n",
    "    result_msg = f\"Conv model, {n_samples} samples got a PSNR of {psnr_result:.2f}\"\n",
    "    print(result_msg)\n",
    "    \n",
    "    with open(log_file, 'a') as f:\n",
    "        f.write(f\"{result_msg}\\n\")"
   ]
  },
  {
   "cell_type": "markdown",
   "id": "8ec1de4a",
   "metadata": {},
   "source": [
    "# Two Conv"
   ]
  },
  {
   "cell_type": "code",
   "execution_count": null,
   "id": "b0fb3237",
   "metadata": {},
   "outputs": [
    {
     "name": "stderr",
     "output_type": "stream",
     "text": [
      "Training: 100%|██████████| 19/19 [13:56<00:00, 44.01s/it] \n"
     ]
    }
   ],
   "source": [
    "aligner_type = \"twoconv\"\n",
    "data.flat = False\n",
    "\n",
    "set_seed(seed)\n",
    "permutation = torch.randperm(len(data))\n",
    "\n",
    "for n_samples in tqdm(pilots_sets, desc=\"Training\"):\n",
    "\n",
    "    aligner, epoch = train_twoconv_aligner(data, permutation, n_samples, c, batch_size, train_snr, device)\n",
    "\n",
    "    aligner_fp = f'alignment/models/plots/{folder}/aligner_{aligner_type}_{n_samples}.pth'\n",
    "    torch.save(aligner.state_dict(), aligner_fp)\n",
    "\n",
    "    # tqdm.write(f\"Done with {n_samples}. Trained for {epoch} epochs.\")"
   ]
  },
  {
   "cell_type": "code",
   "execution_count": null,
   "id": "6847b8ae",
   "metadata": {},
   "outputs": [
    {
     "name": "stdout",
     "output_type": "stream",
     "text": [
      "Twoconv model, 1 samples got a PSNR of 23.81\n",
      "Twoconv model, 2 samples got a PSNR of 29.21\n",
      "Twoconv model, 4 samples got a PSNR of 34.44\n",
      "Twoconv model, 6 samples got a PSNR of 34.40\n",
      "Twoconv model, 11 samples got a PSNR of 36.36\n",
      "Twoconv model, 18 samples got a PSNR of 36.96\n",
      "Twoconv model, 29 samples got a PSNR of 37.17\n",
      "Twoconv model, 48 samples got a PSNR of 37.41\n",
      "Twoconv model, 78 samples got a PSNR of 36.48\n",
      "Twoconv model, 127 samples got a PSNR of 36.96\n",
      "Twoconv model, 206 samples got a PSNR of 41.38\n",
      "Twoconv model, 335 samples got a PSNR of 40.59\n",
      "Twoconv model, 545 samples got a PSNR of 42.24\n",
      "Twoconv model, 885 samples got a PSNR of 42.50\n",
      "Twoconv model, 1438 samples got a PSNR of 41.72\n",
      "Twoconv model, 2335 samples got a PSNR of 43.79\n",
      "Twoconv model, 3792 samples got a PSNR of 43.35\n",
      "Twoconv model, 6158 samples got a PSNR of 43.79\n",
      "Twoconv model, 10000 samples got a PSNR of 42.99\n"
     ]
    }
   ],
   "source": [
    "aligner_type = \"twoconv\"\n",
    "aligner = _TwoConvAlignment(in_channels=2*c, hidden_channels=2*c, out_channels=2*c, kernel_size=5)\n",
    "log_file = f\"alignment/logs/aligner_{aligner_type}_snr_{snr}_seed_{seed}.txt\"\n",
    "\n",
    "with open(log_file, 'w') as f:\n",
    "    pass\n",
    "\n",
    "set_seed(seed)\n",
    "\n",
    "for n_samples in pilots_sets:\n",
    "\n",
    "    aligner_fp = f'alignment/models/plots/{folder}/aligner_{aligner_type}_{n_samples}.pth'\n",
    "    aligner.load_state_dict(torch.load(aligner_fp, map_location=device))\n",
    "\n",
    "    aligned_model = AlignedDeepJSCC(encoder, decoder, aligner, val_snr, \"AWGN\")\n",
    "\n",
    "    psnr_result = validation_vectorized(aligned_model, test_loader, times, device)\n",
    "    \n",
    "    result_msg = f\"Twoconv model, {n_samples} samples got a PSNR of {psnr_result:.2f}\"\n",
    "    print(result_msg)\n",
    "    \n",
    "    with open(log_file, 'a') as f:\n",
    "        f.write(f\"{result_msg}\\n\")"
   ]
  },
  {
   "cell_type": "markdown",
   "id": "320a2ce7",
   "metadata": {},
   "source": [
    "# Zero-shot"
   ]
  },
  {
   "cell_type": "code",
   "execution_count": null,
   "id": "d01102be",
   "metadata": {},
   "outputs": [
    {
     "name": "stderr",
     "output_type": "stream",
     "text": [
      "Training: 100%|██████████| 18/18 [01:31<00:00,  5.07s/it]\n"
     ]
    }
   ],
   "source": [
    "aligner_type = \"zeroshot\"\n",
    "data.flat = True\n",
    "\n",
    "set_seed(seed)\n",
    "permutation = torch.randperm(len(data))\n",
    "\n",
    "for n_samples in tqdm(pilots_sets[1:], desc=\"Training\"):\n",
    "\n",
    "    aligner = train_zeroshot_aligner(data, permutation, n_samples, train_snr, n_samples, device)\n",
    "\n",
    "    aligner_fp = f'alignment/models/plots/{folder}/aligner_{aligner_type}_{n_samples}.pth'\n",
    "    torch.save(aligner.state_dict(), aligner_fp)\n",
    "\n",
    "    # tqdm.write(f\"Done with {n_samples}.\")"
   ]
  },
  {
   "cell_type": "code",
   "execution_count": null,
   "id": "79f0bef4",
   "metadata": {},
   "outputs": [
    {
     "name": "stdout",
     "output_type": "stream",
     "text": [
      "Zeroshot model, 2 samples got a PSNR of 11.12\n",
      "Zeroshot model, 4 samples got a PSNR of 13.74\n",
      "Zeroshot model, 6 samples got a PSNR of 14.50\n",
      "Zeroshot model, 11 samples got a PSNR of 15.11\n",
      "Zeroshot model, 18 samples got a PSNR of 15.75\n",
      "Zeroshot model, 29 samples got a PSNR of 16.63\n",
      "Zeroshot model, 48 samples got a PSNR of 17.68\n",
      "Zeroshot model, 78 samples got a PSNR of 18.83\n",
      "Zeroshot model, 127 samples got a PSNR of 20.14\n"
     ]
    },
    {
     "name": "stdout",
     "output_type": "stream",
     "text": [
      "Zeroshot model, 206 samples got a PSNR of 20.15\n",
      "Zeroshot model, 335 samples got a PSNR of 23.83\n",
      "Zeroshot model, 545 samples got a PSNR of 26.29\n",
      "Zeroshot model, 885 samples got a PSNR of 29.66\n",
      "Zeroshot model, 1438 samples got a PSNR of 33.37\n",
      "Zeroshot model, 2335 samples got a PSNR of 36.31\n",
      "Zeroshot model, 3792 samples got a PSNR of 37.55\n",
      "Zeroshot model, 6158 samples got a PSNR of 38.45\n",
      "Zeroshot model, 10000 samples got a PSNR of 38.43\n"
     ]
    }
   ],
   "source": [
    "aligner_type = \"zeroshot\"\n",
    "log_file = f\"alignment/logs/aligner_{aligner_type}_snr_{snr}_seed_{seed}.txt\"\n",
    "\n",
    "with open(log_file, 'w') as f:\n",
    "    pass\n",
    "\n",
    "set_seed(seed)\n",
    "\n",
    "for n_samples in pilots_sets[1:]:\n",
    "\n",
    "    aligner = _ZeroShotAlignment(\n",
    "        F_tilde=torch.zeros(n_samples, resolution**2),\n",
    "        G_tilde=torch.zeros(resolution**2, n_samples), \n",
    "        G=torch.zeros(1, 1),\n",
    "        L=torch.zeros(n_samples, n_samples),\n",
    "        mean=torch.zeros(n_samples, 1)\n",
    "    )\n",
    "\n",
    "    aligner_fp = f'alignment/models/plots/{folder}/aligner_{aligner_type}_{n_samples}.pth'\n",
    "    aligner.load_state_dict(torch.load(aligner_fp, map_location=device))\n",
    "\n",
    "    aligned_model = AlignedDeepJSCC(encoder, decoder, aligner, val_snr, \"AWGN\")\n",
    "\n",
    "    psnr_result = validation_vectorized(aligned_model, test_loader, times, device)\n",
    "    \n",
    "    result_msg = f\"Zeroshot model, {n_samples} samples got a PSNR of {psnr_result:.2f}\"\n",
    "    print(result_msg)\n",
    "    \n",
    "    with open(log_file, 'a') as f:\n",
    "        f.write(f\"{result_msg}\\n\")"
   ]
  }
 ],
 "metadata": {
  "kernelspec": {
   "display_name": "base",
   "language": "python",
   "name": "python3"
  },
  "language_info": {
   "codemirror_mode": {
    "name": "ipython",
    "version": 3
   },
   "file_extension": ".py",
   "mimetype": "text/x-python",
   "name": "python",
   "nbconvert_exporter": "python",
   "pygments_lexer": "ipython3",
   "version": "3.13.2"
  }
 },
 "nbformat": 4,
 "nbformat_minor": 5
}
