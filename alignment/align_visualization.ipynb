{
 "cells": [
  {
   "cell_type": "code",
   "execution_count": 1,
   "id": "8adfbc8b",
   "metadata": {},
   "outputs": [],
   "source": [
    "import torch\n",
    "import torch.nn as nn\n",
    "import torchvision\n",
    "from PIL import Image\n",
    "from torchvision import transforms\n",
    "import os\n",
    "import sys\n",
    "os.chdir('../')\n",
    "sys.path.append('./')\n",
    "os.getcwd()\n",
    "from model import DeepJSCC\n",
    "from stitching import StitchedDeepJSCC, AlignedDeepJSCC\n",
    "import matplotlib.pyplot as plt\n",
    "import matplotlib\n",
    "from utils import get_psnr, image_normalization\n",
    "import pickle"
   ]
  },
  {
   "cell_type": "code",
   "execution_count": 2,
   "id": "63f6f3de",
   "metadata": {},
   "outputs": [],
   "source": [
    "import os\n",
    "os.environ[\"KMP_DUPLICATE_LIB_OK\"] = \"TRUE\""
   ]
  },
  {
   "cell_type": "markdown",
   "id": "a32cb33e",
   "metadata": {},
   "source": [
    "### Eval para"
   ]
  },
  {
   "cell_type": "code",
   "execution_count": 3,
   "id": "0f01b089",
   "metadata": {},
   "outputs": [],
   "source": [
    "channel = 'AWGN'\n",
    "model1_fp = r'alignment\\models\\seed42_v1.pkl'\n",
    "model2_fp = r'alignment\\models\\seed43_v1.pkl'\n",
    "align_fp = r'alignment\\models\\aligner.pkl'\n",
    "saved = r'out\\checkpoints\\CIFAR10_8_7.0_0.17_AWGN_11h35m08s_on_Mar_27_2025\\epoch_999.pkl'\n",
    "\n",
    "snr = 7\n",
    "test_image_dir = r'demo\\0000.jpg'\n",
    "times = 10"
   ]
  },
  {
   "cell_type": "code",
   "execution_count": 4,
   "id": "e9088bae",
   "metadata": {},
   "outputs": [],
   "source": [
    "transform = transforms.Compose([transforms.ToTensor()])\n",
    "test_image = Image.open(test_image_dir)\n",
    "test_image.load()\n",
    "test_image = transform(test_image)"
   ]
  },
  {
   "cell_type": "markdown",
   "id": "5eb33780",
   "metadata": {},
   "source": [
    "### Trans from nn.DataParallel to nn.Module and Load model from checkpoint"
   ]
  },
  {
   "cell_type": "code",
   "execution_count": 5,
   "id": "b690bde3",
   "metadata": {},
   "outputs": [],
   "source": [
    "device = torch.device('cuda:0' if torch.cuda.is_available() else 'cpu')"
   ]
  },
  {
   "cell_type": "code",
   "execution_count": 14,
   "id": "bbb4b606",
   "metadata": {},
   "outputs": [],
   "source": [
    "def load_from_checkpoint(path, snr):\n",
    "    state_dict = torch.load(path, map_location=torch.device('cpu'))\n",
    "    from collections import OrderedDict\n",
    "    new_state_dict = OrderedDict()\n",
    "\n",
    "    for k, v in state_dict.items():\n",
    "        name = k.replace('module.','') # remove `module.`\n",
    "        new_state_dict[name] = v\n",
    "\n",
    "    file_name = os.path.basename(os.path.dirname(saved))\n",
    "    c = file_name.split('_')[1]\n",
    "    c = int(c)\n",
    "    model = DeepJSCC(c=c, channel_type=channel, snr=snr)\n",
    "\n",
    "    model.load_state_dict(new_state_dict)\n",
    "    model.change_channel(channel, snr)\n",
    "\n",
    "    return model\n",
    "\n",
    "model1 = load_from_checkpoint(model1_fp, snr)\n",
    "model2 = load_from_checkpoint(model2_fp, snr)\n",
    "\n",
    "with open(align_fp, 'rb') as f:\n",
    "    align_matrix = pickle.load(f)\n",
    "\n",
    "model = AlignedDeepJSCC(model1, model2, align_matrix)"
   ]
  },
  {
   "cell_type": "markdown",
   "id": "0ddd16db",
   "metadata": {},
   "source": [
    "### Eval for times"
   ]
  },
  {
   "cell_type": "code",
   "execution_count": 15,
   "id": "3908c33c",
   "metadata": {},
   "outputs": [
    {
     "name": "stdout",
     "output_type": "stream",
     "text": [
      "average psnr is 23.260086059570312 for 10 times on 0000.jpg\n"
     ]
    },
    {
     "data": {
      "image/png": "[encoded data removed]",
      "text/plain": [
       "<Figure size 32x64 with 1 Axes>"
      ]
     },
     "metadata": {},
     "output_type": "display_data"
    }
   ],
   "source": [
    "psnr_all = 0.0\n",
    "with torch.no_grad():\n",
    "\n",
    "    for i in range(times):\n",
    "        demo_image = model1(test_image)\n",
    "        demo_image = image_normalization('denormalization')(demo_image)\n",
    "        gt = image_normalization('denormalization')(test_image)\n",
    "        psnr_all += get_psnr(demo_image, gt)\n",
    "    demo_image = image_normalization('normalization')(demo_image)\n",
    "    demo_image = torch.cat([test_image, demo_image.squeeze()], dim=1)\n",
    "    demo_image = demo_image.numpy()\n",
    "\n",
    "dpi = 100\n",
    "height, width = demo_image.shape[1], demo_image.shape[2]\n",
    "figsize = (width / dpi, height / dpi)\n",
    "\n",
    "fig = plt.figure(figsize=figsize, dpi=dpi)\n",
    "plt.imshow(demo_image.transpose(1, 2, 0))\n",
    "plt.axis('off')\n",
    "\n",
    "print(\"average psnr is {} for {} times on {}\".format( psnr_all.item() / times, times, os.path.basename(test_image_dir)))"
   ]
  },
  {
   "cell_type": "code",
   "execution_count": 16,
   "id": "b94fffd9",
   "metadata": {},
   "outputs": [
    {
     "name": "stdout",
     "output_type": "stream",
     "text": [
      "average psnr is 25.61907043457031 for 10 times on 0000.jpg\n"
     ]
    },
    {
     "data": {
      "image/png": "[encoded data removed]",
      "text/plain": [
       "<Figure size 32x64 with 1 Axes>"
      ]
     },
     "metadata": {},
     "output_type": "display_data"
    }
   ],
   "source": [
    "psnr_all = 0.0\n",
    "with torch.no_grad():\n",
    "\n",
    "    for i in range(times):\n",
    "        demo_image = model(test_image)\n",
    "        demo_image = image_normalization('denormalization')(demo_image)\n",
    "        gt = image_normalization('denormalization')(test_image)\n",
    "        psnr_all += get_psnr(demo_image, gt)\n",
    "    demo_image = image_normalization('normalization')(demo_image)\n",
    "    demo_image = torch.cat([test_image, demo_image.squeeze()], dim=1)\n",
    "    demo_image = demo_image.numpy()\n",
    "\n",
    "dpi = 100\n",
    "height, width = demo_image.shape[1], demo_image.shape[2]\n",
    "figsize = (width / dpi, height / dpi)\n",
    "\n",
    "fig = plt.figure(figsize=figsize, dpi=dpi)\n",
    "plt.imshow(demo_image.transpose(1, 2, 0))\n",
    "plt.axis('off')\n",
    "\n",
    "print(\"average psnr is {} for {} times on {}\".format( psnr_all.item() / times, times, os.path.basename(test_image_dir)))"
   ]
  }
 ],
 "metadata": {
  "kernelspec": {
   "display_name": "base",
   "language": "python",
   "name": "python3"
  },
  "language_info": {
   "codemirror_mode": {
    "name": "ipython",
    "version": 3
   },
   "file_extension": ".py",
   "mimetype": "text/x-python",
   "name": "python",
   "nbconvert_exporter": "python",
   "pygments_lexer": "ipython3",
   "version": "3.12.4"
  }
 },
 "nbformat": 4,
 "nbformat_minor": 5
}
