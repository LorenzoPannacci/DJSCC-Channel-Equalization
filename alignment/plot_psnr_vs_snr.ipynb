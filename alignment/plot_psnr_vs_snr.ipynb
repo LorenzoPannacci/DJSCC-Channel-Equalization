{
 "cells": [
  {
   "cell_type": "code",
   "execution_count": 1,
   "id": "68d2fcea",
   "metadata": {},
   "outputs": [
    {
     "name": "stdout",
     "output_type": "stream",
     "text": [
      "/home/lorenzo/repos/Deep-JSCC-PyTorch\n"
     ]
    }
   ],
   "source": [
    "%cd ..\n",
    "\n",
    "import os\n",
    "import torch\n",
    "import copy\n",
    "import numpy as np\n",
    "from tqdm.notebook import tqdm\n",
    "\n",
    "\n",
    "from alignment.alignment_utils import load_deep_jscc\n",
    "from alignment.alignment_model import *\n",
    "from alignment.alignment_model import _LinearAlignment, _MLPAlignment, _ConvolutionalAlignment, _ZeroShotAlignment, _TwoConvAlignment\n",
    "from alignment.alignment_training import *\n",
    "from alignment.alignment_validation import *"
   ]
  },
  {
   "cell_type": "code",
   "execution_count": 2,
   "id": "45371a29",
   "metadata": {},
   "outputs": [
    {
     "name": "stderr",
     "output_type": "stream",
     "text": [
      "Caching inputs: 100%|██████████| 782/782 [00:04<00:00, 177.46it/s]\n"
     ]
    }
   ],
   "source": [
    "snr_ae = 30\n",
    "n_samples = 10000\n",
    "resolution = 96\n",
    "\n",
    "snrs = [-20, -10, 0, 10, 20, 30]\n",
    "seeds = [42, 43, 44, 45, 46]\n",
    "\n",
    "model1_fp = f'alignment/models/autoencoders/snr_{snr_ae}_seed_42.pkl'\n",
    "model2_fp = f'alignment/models/autoencoders/snr_{snr_ae}_seed_43.pkl'\n",
    "folder = f'psnr_vs_snr'\n",
    "os.makedirs(f'alignment/models/plots/{folder}', exist_ok=True)\n",
    "\n",
    "dataset = \"cifar10\"\n",
    "channel = 'AWGN'\n",
    "batch_size = 64\n",
    "num_workers = 4\n",
    "\n",
    "logs_folder = f'alignment/logs_mismatch_{resolution}'\n",
    "os.makedirs(logs_folder, exist_ok=True)\n",
    "\n",
    "times = 10\n",
    "c = 8\n",
    "\n",
    "device = torch.device(\"cuda:0\" if torch.cuda.is_available() else 'cpu')\n",
    "\n",
    "train_loader, test_loader = get_data_loaders(dataset, resolution, batch_size, num_workers)\n",
    "data = load_alignment_dataset(model1_fp, model2_fp, snr_ae, train_loader, c, device)"
   ]
  },
  {
   "cell_type": "markdown",
   "id": "2db6274b",
   "metadata": {},
   "source": [
    "# No mismatch - Unaligned - Zeroshot max"
   ]
  },
  {
   "cell_type": "code",
   "execution_count": 3,
   "id": "c1fd62c3",
   "metadata": {},
   "outputs": [
    {
     "name": "stdout",
     "output_type": "stream",
     "text": [
      "unaligned 5.23\n",
      "aligned 7.28\n",
      "zeroshot 5.85\n",
      "unaligned 5.23\n",
      "aligned 7.28\n",
      "zeroshot 5.86\n",
      "unaligned 5.23\n",
      "aligned 7.28\n",
      "zeroshot 5.86\n",
      "unaligned 5.23\n",
      "aligned 7.28\n",
      "zeroshot 5.86\n",
      "unaligned 5.23\n",
      "aligned 7.28\n",
      "zeroshot 5.87\n",
      "unaligned 5.55\n",
      "aligned 14.39\n",
      "zeroshot 8.66\n",
      "unaligned 5.55\n",
      "aligned 14.39\n",
      "zeroshot 8.72\n",
      "unaligned 5.55\n",
      "aligned 14.39\n",
      "zeroshot 8.69\n",
      "unaligned 5.55\n",
      "aligned 14.39\n",
      "zeroshot 8.67\n",
      "unaligned 5.55\n",
      "aligned 14.39\n",
      "zeroshot 8.70\n",
      "unaligned 5.47\n",
      "aligned 25.21\n",
      "zeroshot 15.90\n",
      "unaligned 5.47\n",
      "aligned 25.21\n",
      "zeroshot 16.02\n",
      "unaligned 5.47\n",
      "aligned 25.21\n",
      "zeroshot 15.95\n",
      "unaligned 5.47\n",
      "aligned 25.21\n",
      "zeroshot 15.91\n",
      "unaligned 5.47\n",
      "aligned 25.21\n",
      "zeroshot 15.97\n",
      "unaligned 5.40\n",
      "aligned 35.10\n",
      "zeroshot 25.29\n",
      "unaligned 5.40\n",
      "aligned 35.10\n",
      "zeroshot 25.42\n",
      "unaligned 5.40\n",
      "aligned 35.10\n",
      "zeroshot 25.34\n",
      "unaligned 5.40\n",
      "aligned 35.10\n",
      "zeroshot 25.30\n",
      "unaligned 5.40\n",
      "aligned 35.10\n",
      "zeroshot 25.36\n",
      "unaligned 5.39\n",
      "aligned 43.75\n",
      "zeroshot 33.85\n",
      "unaligned 5.39\n",
      "aligned 43.75\n",
      "zeroshot 33.96\n",
      "unaligned 5.39\n",
      "aligned 43.75\n",
      "zeroshot 33.90\n",
      "unaligned 5.39\n",
      "aligned 43.75\n",
      "zeroshot 33.86\n",
      "unaligned 5.39\n",
      "aligned 43.75\n",
      "zeroshot 33.91\n",
      "unaligned 5.39\n",
      "aligned 48.50\n",
      "zeroshot 38.33\n",
      "unaligned 5.39\n",
      "aligned 48.50\n",
      "zeroshot 38.38\n",
      "unaligned 5.39\n",
      "aligned 48.50\n",
      "zeroshot 38.36\n",
      "unaligned 5.39\n",
      "aligned 48.50\n",
      "zeroshot 38.34\n",
      "unaligned 5.39\n",
      "aligned 48.50\n",
      "zeroshot 38.36\n"
     ]
    }
   ],
   "source": [
    "for snr in snrs:\n",
    "    for seed in seeds:\n",
    "        encoder = copy.deepcopy(load_deep_jscc(model1_fp, snr_ae, c, \"AWGN\").encoder)\n",
    "        decoder = copy.deepcopy(load_deep_jscc(model2_fp, snr_ae, c, \"AWGN\").decoder)\n",
    "\n",
    "        log_file = f\"{logs_folder}/lines_ae_{snr_ae}_snr_{snr}_seed_{seed}.txt\"\n",
    "\n",
    "        # unaligned\n",
    "        model = AlignedDeepJSCC(encoder, decoder, None, snr, \"AWGN\")\n",
    "\n",
    "        result_msg = f\"unaligned {validation_vectorized(model, test_loader, times, device):.2f}\"\n",
    "        print(result_msg)\n",
    "        with open(log_file, 'a') as f:\n",
    "            f.write(f\"{result_msg}\\n\")\n",
    "\n",
    "        # aligned\n",
    "        model = AlignedDeepJSCC(encoder, copy.deepcopy(load_deep_jscc(model1_fp, snr, c, \"AWGN\").decoder), None, snr, \"AWGN\")\n",
    "\n",
    "        result_msg = f\"aligned {validation_vectorized(model, test_loader, times, device):.2f}\"\n",
    "        print(result_msg)\n",
    "        with open(log_file, 'a') as f:\n",
    "                f.write(f\"{result_msg}\\n\")\n",
    "\n",
    "        # zeroshot\n",
    "        data.flat = True\n",
    "\n",
    "        set_seed(seed)\n",
    "        permutation = torch.randperm(len(data))\n",
    "\n",
    "        aligner = train_zeroshot_aligner(data, permutation, resolution**2, snr, resolution**2, device)\n",
    "        aligned_model = AlignedDeepJSCC(encoder, decoder, aligner, snr, \"AWGN\")\n",
    "\n",
    "        result_msg = f\"zeroshot {validation_vectorized(aligned_model, test_loader, times, device):.2f}\"\n",
    "        print(result_msg)\n",
    "        with open(log_file, 'a') as f:\n",
    "                f.write(f\"{result_msg}\\n\")"
   ]
  },
  {
   "cell_type": "markdown",
   "id": "2d3ffe23",
   "metadata": {},
   "source": [
    "# Least Squares"
   ]
  },
  {
   "cell_type": "code",
   "execution_count": 4,
   "id": "9b3e962a",
   "metadata": {},
   "outputs": [
    {
     "name": "stdout",
     "output_type": "stream",
     "text": [
      "Done with SNR -20 SEED 42.\n",
      "Done with SNR -20 SEED 43.\n",
      "Done with SNR -20 SEED 44.\n",
      "Done with SNR -20 SEED 45.\n",
      "Done with SNR -20 SEED 46.\n",
      "Done with SNR -10 SEED 42.\n",
      "Done with SNR -10 SEED 43.\n",
      "Done with SNR -10 SEED 44.\n",
      "Done with SNR -10 SEED 45.\n",
      "Done with SNR -10 SEED 46.\n",
      "Done with SNR 0 SEED 42.\n",
      "Done with SNR 0 SEED 43.\n",
      "Done with SNR 0 SEED 44.\n",
      "Done with SNR 0 SEED 45.\n",
      "Done with SNR 0 SEED 46.\n",
      "Done with SNR 10 SEED 42.\n",
      "Done with SNR 10 SEED 43.\n",
      "Done with SNR 10 SEED 44.\n",
      "Done with SNR 10 SEED 45.\n",
      "Done with SNR 10 SEED 46.\n",
      "Done with SNR 20 SEED 42.\n",
      "Done with SNR 20 SEED 43.\n",
      "Done with SNR 20 SEED 44.\n",
      "Done with SNR 20 SEED 45.\n",
      "Done with SNR 20 SEED 46.\n",
      "Done with SNR 30 SEED 42.\n",
      "Done with SNR 30 SEED 43.\n",
      "Done with SNR 30 SEED 44.\n",
      "Done with SNR 30 SEED 45.\n",
      "Done with SNR 30 SEED 46.\n"
     ]
    }
   ],
   "source": [
    "aligner_type = \"linear\"\n",
    "data.flat = True\n",
    "\n",
    "for snr in snrs:\n",
    "    for seed in seeds:\n",
    "        set_seed(seed)\n",
    "        permutation = torch.randperm(len(data))\n",
    "\n",
    "        aligner = train_linear_aligner(data, permutation, n_samples, snr)\n",
    "\n",
    "        aligner_fp = f'alignment/models/plots/{folder}/aligner_{aligner_type}_ae_{snr_ae}_snr_{snr}_seed_{seed}.pth'\n",
    "        torch.save(aligner.state_dict(), aligner_fp)\n",
    "\n",
    "        print(f\"Done with SNR {snr} SEED {seed}.\")"
   ]
  },
  {
   "cell_type": "code",
   "execution_count": 5,
   "id": "ebeb3c05",
   "metadata": {},
   "outputs": [
    {
     "name": "stdout",
     "output_type": "stream",
     "text": [
      "Linear model, AE 30 SNR -20 SEED 42 got a PSNR of 9.89\n",
      "Linear model, AE 30 SNR -20 SEED 43 got a PSNR of 9.89\n",
      "Linear model, AE 30 SNR -20 SEED 44 got a PSNR of 9.89\n",
      "Linear model, AE 30 SNR -20 SEED 45 got a PSNR of 9.89\n",
      "Linear model, AE 30 SNR -20 SEED 46 got a PSNR of 9.89\n",
      "Linear model, AE 30 SNR -10 SEED 42 got a PSNR of 17.60\n",
      "Linear model, AE 30 SNR -10 SEED 43 got a PSNR of 17.59\n",
      "Linear model, AE 30 SNR -10 SEED 44 got a PSNR of 17.60\n",
      "Linear model, AE 30 SNR -10 SEED 45 got a PSNR of 17.60\n",
      "Linear model, AE 30 SNR -10 SEED 46 got a PSNR of 17.59\n",
      "Linear model, AE 30 SNR 0 SEED 42 got a PSNR of 26.51\n",
      "Linear model, AE 30 SNR 0 SEED 43 got a PSNR of 26.51\n",
      "Linear model, AE 30 SNR 0 SEED 44 got a PSNR of 26.51\n",
      "Linear model, AE 30 SNR 0 SEED 45 got a PSNR of 26.51\n",
      "Linear model, AE 30 SNR 0 SEED 46 got a PSNR of 26.51\n",
      "Linear model, AE 30 SNR 10 SEED 42 got a PSNR of 34.91\n",
      "Linear model, AE 30 SNR 10 SEED 43 got a PSNR of 34.91\n",
      "Linear model, AE 30 SNR 10 SEED 44 got a PSNR of 34.91\n",
      "Linear model, AE 30 SNR 10 SEED 45 got a PSNR of 34.91\n",
      "Linear model, AE 30 SNR 10 SEED 46 got a PSNR of 34.91\n",
      "Linear model, AE 30 SNR 20 SEED 42 got a PSNR of 40.54\n",
      "Linear model, AE 30 SNR 20 SEED 43 got a PSNR of 40.56\n",
      "Linear model, AE 30 SNR 20 SEED 44 got a PSNR of 40.55\n",
      "Linear model, AE 30 SNR 20 SEED 45 got a PSNR of 40.55\n",
      "Linear model, AE 30 SNR 20 SEED 46 got a PSNR of 40.54\n",
      "Linear model, AE 30 SNR 30 SEED 42 got a PSNR of 42.59\n",
      "Linear model, AE 30 SNR 30 SEED 43 got a PSNR of 42.61\n",
      "Linear model, AE 30 SNR 30 SEED 44 got a PSNR of 42.62\n",
      "Linear model, AE 30 SNR 30 SEED 45 got a PSNR of 42.63\n",
      "Linear model, AE 30 SNR 30 SEED 46 got a PSNR of 42.62\n"
     ]
    }
   ],
   "source": [
    "aligner_type = \"linear\"\n",
    "aligner = _LinearAlignment(resolution**2)\n",
    "\n",
    "for snr in snrs:\n",
    "    for seed in seeds:\n",
    "\n",
    "        log_file = f\"{logs_folder}/aligner_{aligner_type}_ae_{snr_ae}_snr_{snr}_seed_{seed}.txt\"\n",
    "\n",
    "        with open(log_file, 'w') as f:\n",
    "            pass\n",
    "\n",
    "        set_seed(seed)\n",
    "\n",
    "        aligner_fp = f'alignment/models/plots/{folder}/aligner_{aligner_type}_ae_{snr_ae}_snr_{snr}_seed_{seed}.pth'\n",
    "        aligner.load_state_dict(torch.load(aligner_fp, map_location=device))\n",
    "\n",
    "        aligned_model = AlignedDeepJSCC(encoder, decoder, aligner, snr, channel)\n",
    "\n",
    "        psnr_result = validation_vectorized(aligned_model, test_loader, times, device)\n",
    "        \n",
    "        result_msg = f\"Linear model, AE {snr_ae} SNR {snr} SEED {seed} got a PSNR of {psnr_result:.2f}\"\n",
    "        print(result_msg)\n",
    "        \n",
    "        with open(log_file, 'a') as f:\n",
    "            f.write(f\"{result_msg}\\n\")"
   ]
  },
  {
   "cell_type": "markdown",
   "id": "2fd6950f",
   "metadata": {},
   "source": [
    "# Linear Neural"
   ]
  },
  {
   "cell_type": "code",
   "execution_count": 6,
   "id": "de24e69e",
   "metadata": {},
   "outputs": [
    {
     "name": "stdout",
     "output_type": "stream",
     "text": [
      "Done with SNR -20 SEED 42.\n",
      "Done with SNR -20 SEED 43.\n",
      "Done with SNR -20 SEED 44.\n",
      "Done with SNR -20 SEED 45.\n",
      "Done with SNR -20 SEED 46.\n",
      "Done with SNR -10 SEED 42.\n",
      "Done with SNR -10 SEED 43.\n",
      "Done with SNR -10 SEED 44.\n",
      "Done with SNR -10 SEED 45.\n",
      "Done with SNR -10 SEED 46.\n"
     ]
    },
    {
     "ename": "KeyboardInterrupt",
     "evalue": "",
     "output_type": "error",
     "traceback": [
      "\u001b[31m---------------------------------------------------------------------------\u001b[39m",
      "\u001b[31mKeyboardInterrupt\u001b[39m                         Traceback (most recent call last)",
      "\u001b[36mCell\u001b[39m\u001b[36m \u001b[39m\u001b[32mIn[6]\u001b[39m\u001b[32m, line 9\u001b[39m\n\u001b[32m      6\u001b[39m set_seed(seed)\n\u001b[32m      7\u001b[39m permutation = torch.randperm(\u001b[38;5;28mlen\u001b[39m(data))\n\u001b[32m----> \u001b[39m\u001b[32m9\u001b[39m aligner, epoch = \u001b[43mtrain_neural_aligner\u001b[49m\u001b[43m(\u001b[49m\u001b[43mdata\u001b[49m\u001b[43m,\u001b[49m\u001b[43m \u001b[49m\u001b[43mpermutation\u001b[49m\u001b[43m,\u001b[49m\u001b[43m \u001b[49m\u001b[43mn_samples\u001b[49m\u001b[43m,\u001b[49m\u001b[43m \u001b[49m\u001b[43mbatch_size\u001b[49m\u001b[43m,\u001b[49m\u001b[43m \u001b[49m\u001b[43mresolution\u001b[49m\u001b[43m,\u001b[49m\u001b[43m \u001b[49m\u001b[32;43m6\u001b[39;49m\u001b[43m,\u001b[49m\u001b[43m \u001b[49m\u001b[43msnr\u001b[49m\u001b[43m,\u001b[49m\u001b[43m \u001b[49m\u001b[43mdevice\u001b[49m\u001b[43m)\u001b[49m\n\u001b[32m     11\u001b[39m aligner_fp = \u001b[33mf\u001b[39m\u001b[33m'\u001b[39m\u001b[33malignment/models/plots/\u001b[39m\u001b[38;5;132;01m{\u001b[39;00mfolder\u001b[38;5;132;01m}\u001b[39;00m\u001b[33m/aligner_\u001b[39m\u001b[38;5;132;01m{\u001b[39;00maligner_type\u001b[38;5;132;01m}\u001b[39;00m\u001b[33m_ae_\u001b[39m\u001b[38;5;132;01m{\u001b[39;00msnr_ae\u001b[38;5;132;01m}\u001b[39;00m\u001b[33m_snr_\u001b[39m\u001b[38;5;132;01m{\u001b[39;00msnr\u001b[38;5;132;01m}\u001b[39;00m\u001b[33m_seed_\u001b[39m\u001b[38;5;132;01m{\u001b[39;00mseed\u001b[38;5;132;01m}\u001b[39;00m\u001b[33m.pth\u001b[39m\u001b[33m'\u001b[39m\n\u001b[32m     12\u001b[39m torch.save(aligner.state_dict(), aligner_fp)\n",
      "\u001b[36mFile \u001b[39m\u001b[32m~/repos/Deep-JSCC-PyTorch/alignment/alignment_training.py:246\u001b[39m, in \u001b[36mtrain_neural_aligner\u001b[39m\u001b[34m(data, permutation, n_samples, batch_size, resolution, ratio, train_snr, device)\u001b[39m\n\u001b[32m    243\u001b[39m aligner.train()\n\u001b[32m    244\u001b[39m train_loss = \u001b[32m0.0\u001b[39m\n\u001b[32m--> \u001b[39m\u001b[32m246\u001b[39m \u001b[43m\u001b[49m\u001b[38;5;28;43;01mfor\u001b[39;49;00m\u001b[43m \u001b[49m\u001b[43minputs\u001b[49m\u001b[43m,\u001b[49m\u001b[43m \u001b[49m\u001b[43mtargets\u001b[49m\u001b[43m \u001b[49m\u001b[38;5;129;43;01min\u001b[39;49;00m\u001b[43m \u001b[49m\u001b[43mtrain_dataloader\u001b[49m\u001b[43m:\u001b[49m\n\u001b[32m    247\u001b[39m \u001b[43m    \u001b[49m\u001b[38;5;28;43;01mif\u001b[39;49;00m\u001b[43m \u001b[49m\u001b[43mtrain_snr\u001b[49m\u001b[43m \u001b[49m\u001b[38;5;129;43;01mis\u001b[39;49;00m\u001b[43m \u001b[49m\u001b[38;5;129;43;01mnot\u001b[39;49;00m\u001b[43m \u001b[49m\u001b[38;5;28;43;01mNone\u001b[39;49;00m\u001b[43m:\u001b[49m\n\u001b[32m    248\u001b[39m \u001b[43m        \u001b[49m\u001b[43minputs\u001b[49m\u001b[43m \u001b[49m\u001b[43m=\u001b[49m\u001b[43m \u001b[49m\u001b[43mchannel\u001b[49m\u001b[43m(\u001b[49m\u001b[43minputs\u001b[49m\u001b[43m)\u001b[49m\n",
      "\u001b[36mFile \u001b[39m\u001b[32m~/miniconda3/lib/python3.13/site-packages/torch/utils/data/dataloader.py:733\u001b[39m, in \u001b[36m_BaseDataLoaderIter.__next__\u001b[39m\u001b[34m(self)\u001b[39m\n\u001b[32m    730\u001b[39m \u001b[38;5;28;01mif\u001b[39;00m \u001b[38;5;28mself\u001b[39m._sampler_iter \u001b[38;5;129;01mis\u001b[39;00m \u001b[38;5;28;01mNone\u001b[39;00m:\n\u001b[32m    731\u001b[39m     \u001b[38;5;66;03m# TODO(https://github.com/pytorch/pytorch/issues/76750)\u001b[39;00m\n\u001b[32m    732\u001b[39m     \u001b[38;5;28mself\u001b[39m._reset()  \u001b[38;5;66;03m# type: ignore[call-arg]\u001b[39;00m\n\u001b[32m--> \u001b[39m\u001b[32m733\u001b[39m data = \u001b[38;5;28;43mself\u001b[39;49m\u001b[43m.\u001b[49m\u001b[43m_next_data\u001b[49m\u001b[43m(\u001b[49m\u001b[43m)\u001b[49m\n\u001b[32m    734\u001b[39m \u001b[38;5;28mself\u001b[39m._num_yielded += \u001b[32m1\u001b[39m\n\u001b[32m    735\u001b[39m \u001b[38;5;28;01mif\u001b[39;00m (\n\u001b[32m    736\u001b[39m     \u001b[38;5;28mself\u001b[39m._dataset_kind == _DatasetKind.Iterable\n\u001b[32m    737\u001b[39m     \u001b[38;5;129;01mand\u001b[39;00m \u001b[38;5;28mself\u001b[39m._IterableDataset_len_called \u001b[38;5;129;01mis\u001b[39;00m \u001b[38;5;129;01mnot\u001b[39;00m \u001b[38;5;28;01mNone\u001b[39;00m\n\u001b[32m    738\u001b[39m     \u001b[38;5;129;01mand\u001b[39;00m \u001b[38;5;28mself\u001b[39m._num_yielded > \u001b[38;5;28mself\u001b[39m._IterableDataset_len_called\n\u001b[32m    739\u001b[39m ):\n",
      "\u001b[36mFile \u001b[39m\u001b[32m~/miniconda3/lib/python3.13/site-packages/torch/utils/data/dataloader.py:789\u001b[39m, in \u001b[36m_SingleProcessDataLoaderIter._next_data\u001b[39m\u001b[34m(self)\u001b[39m\n\u001b[32m    787\u001b[39m \u001b[38;5;28;01mdef\u001b[39;00m\u001b[38;5;250m \u001b[39m\u001b[34m_next_data\u001b[39m(\u001b[38;5;28mself\u001b[39m):\n\u001b[32m    788\u001b[39m     index = \u001b[38;5;28mself\u001b[39m._next_index()  \u001b[38;5;66;03m# may raise StopIteration\u001b[39;00m\n\u001b[32m--> \u001b[39m\u001b[32m789\u001b[39m     data = \u001b[38;5;28;43mself\u001b[39;49m\u001b[43m.\u001b[49m\u001b[43m_dataset_fetcher\u001b[49m\u001b[43m.\u001b[49m\u001b[43mfetch\u001b[49m\u001b[43m(\u001b[49m\u001b[43mindex\u001b[49m\u001b[43m)\u001b[49m  \u001b[38;5;66;03m# may raise StopIteration\u001b[39;00m\n\u001b[32m    790\u001b[39m     \u001b[38;5;28;01mif\u001b[39;00m \u001b[38;5;28mself\u001b[39m._pin_memory:\n\u001b[32m    791\u001b[39m         data = _utils.pin_memory.pin_memory(data, \u001b[38;5;28mself\u001b[39m._pin_memory_device)\n",
      "\u001b[36mFile \u001b[39m\u001b[32m~/miniconda3/lib/python3.13/site-packages/torch/utils/data/_utils/fetch.py:52\u001b[39m, in \u001b[36m_MapDatasetFetcher.fetch\u001b[39m\u001b[34m(self, possibly_batched_index)\u001b[39m\n\u001b[32m     50\u001b[39m         data = \u001b[38;5;28mself\u001b[39m.dataset.__getitems__(possibly_batched_index)\n\u001b[32m     51\u001b[39m     \u001b[38;5;28;01melse\u001b[39;00m:\n\u001b[32m---> \u001b[39m\u001b[32m52\u001b[39m         data = [\u001b[38;5;28;43mself\u001b[39;49m\u001b[43m.\u001b[49m\u001b[43mdataset\u001b[49m\u001b[43m[\u001b[49m\u001b[43midx\u001b[49m\u001b[43m]\u001b[49m \u001b[38;5;28;01mfor\u001b[39;00m idx \u001b[38;5;129;01min\u001b[39;00m possibly_batched_index]\n\u001b[32m     53\u001b[39m \u001b[38;5;28;01melse\u001b[39;00m:\n\u001b[32m     54\u001b[39m     data = \u001b[38;5;28mself\u001b[39m.dataset[possibly_batched_index]\n",
      "\u001b[36mFile \u001b[39m\u001b[32m~/repos/Deep-JSCC-PyTorch/alignment/alignment_training.py:107\u001b[39m, in \u001b[36mAlignmentSubset.__getitem__\u001b[39m\u001b[34m(self, idx)\u001b[39m\n\u001b[32m    106\u001b[39m \u001b[38;5;28;01mdef\u001b[39;00m\u001b[38;5;250m \u001b[39m\u001b[34m__getitem__\u001b[39m(\u001b[38;5;28mself\u001b[39m, idx):\n\u001b[32m--> \u001b[39m\u001b[32m107\u001b[39m     \u001b[38;5;28;01mreturn\u001b[39;00m \u001b[38;5;28;43mself\u001b[39;49m\u001b[43m.\u001b[49m\u001b[43mdataset\u001b[49m\u001b[43m[\u001b[49m\u001b[38;5;28;43mself\u001b[39;49m\u001b[43m.\u001b[49m\u001b[43mindices\u001b[49m\u001b[43m[\u001b[49m\u001b[43midx\u001b[49m\u001b[43m]\u001b[49m\u001b[43m]\u001b[49m\n",
      "\u001b[36mFile \u001b[39m\u001b[32m~/repos/Deep-JSCC-PyTorch/alignment/alignment_training.py:89\u001b[39m, in \u001b[36mAlignmentDataset.__getitem__\u001b[39m\u001b[34m(self, idx)\u001b[39m\n\u001b[32m     87\u001b[39m \u001b[38;5;28;01mdef\u001b[39;00m\u001b[38;5;250m \u001b[39m\u001b[34m__getitem__\u001b[39m(\u001b[38;5;28mself\u001b[39m, idx):\n\u001b[32m     88\u001b[39m     out1 = \u001b[38;5;28mself\u001b[39m.inputs[idx].to(\u001b[38;5;28mself\u001b[39m.device)\n\u001b[32m---> \u001b[39m\u001b[32m89\u001b[39m     out2 = \u001b[38;5;28;43mself\u001b[39;49m\u001b[43m.\u001b[49m\u001b[43moutputs\u001b[49m\u001b[43m[\u001b[49m\u001b[43midx\u001b[49m\u001b[43m]\u001b[49m\u001b[43m.\u001b[49m\u001b[43mto\u001b[49m\u001b[43m(\u001b[49m\u001b[38;5;28;43mself\u001b[39;49m\u001b[43m.\u001b[49m\u001b[43mdevice\u001b[49m\u001b[43m)\u001b[49m\n\u001b[32m     91\u001b[39m     \u001b[38;5;28;01mif\u001b[39;00m \u001b[38;5;28mself\u001b[39m.flat:\n\u001b[32m     92\u001b[39m         out1 = out1.flatten()\n",
      "\u001b[31mKeyboardInterrupt\u001b[39m: "
     ]
    }
   ],
   "source": [
    "aligner_type = \"neural\"\n",
    "data.flat = False\n",
    "\n",
    "for snr in snrs:\n",
    "    for seed in seeds:\n",
    "        set_seed(seed)\n",
    "        permutation = torch.randperm(len(data))\n",
    "    \n",
    "        aligner, epoch = train_neural_aligner(data, permutation, n_samples, batch_size, resolution, 6, snr, device)\n",
    "\n",
    "        aligner_fp = f'alignment/models/plots/{folder}/aligner_{aligner_type}_ae_{snr_ae}_snr_{snr}_seed_{seed}.pth'\n",
    "        torch.save(aligner.state_dict(), aligner_fp)\n",
    "\n",
    "        print(f\"Done with SNR {snr} SEED {seed}.\")"
   ]
  },
  {
   "cell_type": "code",
   "execution_count": null,
   "id": "72007140",
   "metadata": {},
   "outputs": [
    {
     "name": "stdout",
     "output_type": "stream",
     "text": [
      "Neural model, 1 samples got a PSNR of 12.60\n"
     ]
    },
    {
     "name": "stdout",
     "output_type": "stream",
     "text": [
      "Neural model, 2 samples got a PSNR of 12.78\n",
      "Neural model, 4 samples got a PSNR of 12.06\n",
      "Neural model, 6 samples got a PSNR of 12.69\n",
      "Neural model, 11 samples got a PSNR of 12.92\n",
      "Neural model, 18 samples got a PSNR of 13.27\n",
      "Neural model, 29 samples got a PSNR of 13.52\n",
      "Neural model, 48 samples got a PSNR of 13.96\n",
      "Neural model, 78 samples got a PSNR of 14.55\n",
      "Neural model, 127 samples got a PSNR of 15.00\n",
      "Neural model, 206 samples got a PSNR of 15.41\n",
      "Neural model, 335 samples got a PSNR of 15.98\n",
      "Neural model, 545 samples got a PSNR of 16.68\n",
      "Neural model, 885 samples got a PSNR of 18.00\n",
      "Neural model, 1438 samples got a PSNR of 18.58\n",
      "Neural model, 2335 samples got a PSNR of 20.09\n",
      "Neural model, 3792 samples got a PSNR of 21.40\n",
      "Neural model, 6158 samples got a PSNR of 23.84\n",
      "Neural model, 10000 samples got a PSNR of 25.22\n"
     ]
    }
   ],
   "source": [
    "aligner_type = \"neural\"\n",
    "aligner = _LinearAlignment(resolution**2)\n",
    "\n",
    "for snr in snrs:\n",
    "    for seed in seeds:\n",
    "\n",
    "        log_file = f\"{logs_folder}/aligner_{aligner_type}_ae_{snr_ae}_snr_{snr}_seed_{seed}.txt\"\n",
    "\n",
    "        with open(log_file, 'w') as f:\n",
    "            pass\n",
    "\n",
    "        set_seed(seed)\n",
    "\n",
    "        aligner_fp = f'alignment/models/plots/{folder}/aligner_{aligner_type}_ae_{snr_ae}_snr_{snr}_seed_{seed}.pth'\n",
    "        aligner.load_state_dict(torch.load(aligner_fp, map_location=device))\n",
    "\n",
    "        aligned_model = AlignedDeepJSCC(encoder, decoder, aligner, snr, channel)\n",
    "\n",
    "        psnr_result = validation_vectorized(aligned_model, test_loader, times, device)\n",
    "        \n",
    "        result_msg = f\"Linear model, AE {snr_ae} SNR {snr} SEED {seed} got a PSNR of {psnr_result:.2f}\"\n",
    "        print(result_msg)\n",
    "        \n",
    "        with open(log_file, 'a') as f:\n",
    "            f.write(f\"{result_msg}\\n\")"
   ]
  },
  {
   "cell_type": "markdown",
   "id": "addc3073",
   "metadata": {},
   "source": [
    "# MLP"
   ]
  },
  {
   "cell_type": "code",
   "execution_count": null,
   "id": "7fecaa57",
   "metadata": {},
   "outputs": [
    {
     "name": "stderr",
     "output_type": "stream",
     "text": [
      "Training: 100%|██████████| 1/1 [02:20<00:00, 140.62s/it]\n"
     ]
    }
   ],
   "source": [
    "aligner_type = \"mlp\"\n",
    "data.flat = False\n",
    "\n",
    "for snr in snrs:\n",
    "    for seed in seeds:\n",
    "        set_seed(seed)\n",
    "        permutation = torch.randperm(len(data))\n",
    "\n",
    "        aligner, epoch = train_mlp_aligner(data, permutation, n_samples, batch_size, resolution, 6, snr, device)\n",
    "\n",
    "        aligner_fp = f'alignment/models/plots/{folder}/aligner_{aligner_type}_ae_{snr_ae}_snr_{snr}_seed_{seed}.pth'\n",
    "        torch.save(aligner.state_dict(), aligner_fp)\n",
    "\n",
    "        print(f\"Done with SNR {snr} SEED {seed}.\")"
   ]
  },
  {
   "cell_type": "code",
   "execution_count": null,
   "id": "6bd6200c",
   "metadata": {},
   "outputs": [
    {
     "name": "stdout",
     "output_type": "stream",
     "text": [
      "MLP model, 10000 samples got a PSNR of 27.07\n"
     ]
    }
   ],
   "source": [
    "aligner_type = \"mlp\"\n",
    "aligner = _MLPAlignment(input_dim=resolution**2, hidden_dims=[resolution**2])\n",
    "\n",
    "for snr in snrs:\n",
    "    for seed in seeds:\n",
    "\n",
    "        log_file = f\"{logs_folder}/aligner_{aligner_type}_ae_{snr_ae}_snr_{snr}_seed_{seed}.txt\"\n",
    "\n",
    "        with open(log_file, 'w') as f:\n",
    "            pass\n",
    "\n",
    "        set_seed(seed)\n",
    "\n",
    "        aligner_fp = f'alignment/models/plots/{folder}/aligner_{aligner_type}_ae_{snr_ae}_snr_{snr}_seed_{seed}.pth'\n",
    "        aligner.load_state_dict(torch.load(aligner_fp, map_location=device))\n",
    "\n",
    "        aligned_model = AlignedDeepJSCC(encoder, decoder, aligner, snr, channel)\n",
    "\n",
    "        psnr_result = validation_vectorized(aligned_model, test_loader, times, device)\n",
    "        \n",
    "        result_msg = f\"Linear model, AE {snr_ae} SNR {snr} SEED {seed} got a PSNR of {psnr_result:.2f}\"\n",
    "        print(result_msg)\n",
    "        \n",
    "        with open(log_file, 'a') as f:\n",
    "            f.write(f\"{result_msg}\\n\")"
   ]
  },
  {
   "cell_type": "markdown",
   "id": "425501bb",
   "metadata": {},
   "source": [
    "# Convolutional"
   ]
  },
  {
   "cell_type": "code",
   "execution_count": 7,
   "id": "faeafe5b",
   "metadata": {},
   "outputs": [
    {
     "name": "stdout",
     "output_type": "stream",
     "text": [
      "Done with SNR -20 SEED 42.\n",
      "Done with SNR -20 SEED 43.\n",
      "Done with SNR -20 SEED 44.\n",
      "Done with SNR -20 SEED 45.\n",
      "Done with SNR -20 SEED 46.\n",
      "Done with SNR -10 SEED 42.\n",
      "Done with SNR -10 SEED 43.\n",
      "Done with SNR -10 SEED 44.\n",
      "Done with SNR -10 SEED 45.\n",
      "Done with SNR -10 SEED 46.\n",
      "Done with SNR 0 SEED 42.\n",
      "Done with SNR 0 SEED 43.\n",
      "Done with SNR 0 SEED 44.\n",
      "Done with SNR 0 SEED 45.\n",
      "Done with SNR 0 SEED 46.\n",
      "Done with SNR 10 SEED 42.\n",
      "Done with SNR 10 SEED 43.\n",
      "Done with SNR 10 SEED 44.\n",
      "Done with SNR 10 SEED 45.\n",
      "Done with SNR 10 SEED 46.\n",
      "Done with SNR 20 SEED 42.\n",
      "Done with SNR 20 SEED 43.\n",
      "Done with SNR 20 SEED 44.\n",
      "Done with SNR 20 SEED 45.\n",
      "Done with SNR 20 SEED 46.\n",
      "Done with SNR 30 SEED 42.\n",
      "Done with SNR 30 SEED 43.\n",
      "Done with SNR 30 SEED 44.\n",
      "Done with SNR 30 SEED 45.\n",
      "Done with SNR 30 SEED 46.\n"
     ]
    }
   ],
   "source": [
    "aligner_type = \"conv\"\n",
    "data.flat = False\n",
    "\n",
    "for snr in snrs:\n",
    "    for seed in seeds:\n",
    "        set_seed(seed)\n",
    "        permutation = torch.randperm(len(data))\n",
    "\n",
    "        aligner, epoch = train_conv_aligner(data, permutation, n_samples, c, batch_size, snr, device)\n",
    "\n",
    "        aligner_fp = f'alignment/models/plots/{folder}/aligner_{aligner_type}_ae_{snr_ae}_snr_{snr}_seed_{seed}.pth'\n",
    "        torch.save(aligner.state_dict(), aligner_fp)\n",
    "\n",
    "        print(f\"Done with SNR {snr} SEED {seed}.\")"
   ]
  },
  {
   "cell_type": "code",
   "execution_count": 8,
   "id": "6afdb31f",
   "metadata": {},
   "outputs": [
    {
     "name": "stdout",
     "output_type": "stream",
     "text": [
      "Linear model, AE 30 SNR -20 SEED 42 got a PSNR of 14.74\n",
      "Linear model, AE 30 SNR -20 SEED 43 got a PSNR of 14.75\n",
      "Linear model, AE 30 SNR -20 SEED 44 got a PSNR of 14.76\n",
      "Linear model, AE 30 SNR -20 SEED 45 got a PSNR of 14.75\n",
      "Linear model, AE 30 SNR -20 SEED 46 got a PSNR of 14.75\n",
      "Linear model, AE 30 SNR -10 SEED 42 got a PSNR of 19.56\n",
      "Linear model, AE 30 SNR -10 SEED 43 got a PSNR of 19.56\n",
      "Linear model, AE 30 SNR -10 SEED 44 got a PSNR of 19.57\n",
      "Linear model, AE 30 SNR -10 SEED 45 got a PSNR of 19.57\n",
      "Linear model, AE 30 SNR -10 SEED 46 got a PSNR of 19.56\n",
      "Linear model, AE 30 SNR 0 SEED 42 got a PSNR of 26.58\n",
      "Linear model, AE 30 SNR 0 SEED 43 got a PSNR of 26.60\n",
      "Linear model, AE 30 SNR 0 SEED 44 got a PSNR of 26.60\n",
      "Linear model, AE 30 SNR 0 SEED 45 got a PSNR of 26.59\n",
      "Linear model, AE 30 SNR 0 SEED 46 got a PSNR of 26.63\n",
      "Linear model, AE 30 SNR 10 SEED 42 got a PSNR of 34.44\n",
      "Linear model, AE 30 SNR 10 SEED 43 got a PSNR of 34.43\n",
      "Linear model, AE 30 SNR 10 SEED 44 got a PSNR of 34.45\n",
      "Linear model, AE 30 SNR 10 SEED 45 got a PSNR of 34.39\n",
      "Linear model, AE 30 SNR 10 SEED 46 got a PSNR of 34.49\n",
      "Linear model, AE 30 SNR 20 SEED 42 got a PSNR of 39.77\n",
      "Linear model, AE 30 SNR 20 SEED 43 got a PSNR of 39.77\n",
      "Linear model, AE 30 SNR 20 SEED 44 got a PSNR of 39.83\n",
      "Linear model, AE 30 SNR 20 SEED 45 got a PSNR of 39.80\n",
      "Linear model, AE 30 SNR 20 SEED 46 got a PSNR of 39.78\n",
      "Linear model, AE 30 SNR 30 SEED 42 got a PSNR of 41.57\n",
      "Linear model, AE 30 SNR 30 SEED 43 got a PSNR of 41.52\n",
      "Linear model, AE 30 SNR 30 SEED 44 got a PSNR of 41.51\n",
      "Linear model, AE 30 SNR 30 SEED 45 got a PSNR of 41.46\n",
      "Linear model, AE 30 SNR 30 SEED 46 got a PSNR of 41.54\n"
     ]
    }
   ],
   "source": [
    "aligner_type = \"conv\"\n",
    "aligner = _ConvolutionalAlignment(in_channels=2*c, out_channels=2*c, kernel_size=5)\n",
    "\n",
    "for snr in snrs:\n",
    "    for seed in seeds:\n",
    "\n",
    "        log_file = f\"{logs_folder}/aligner_{aligner_type}_ae_{snr_ae}_snr_{snr}_seed_{seed}.txt\"\n",
    "\n",
    "        with open(log_file, 'w') as f:\n",
    "            pass\n",
    "\n",
    "        set_seed(seed)\n",
    "\n",
    "        aligner_fp = f'alignment/models/plots/{folder}/aligner_{aligner_type}_ae_{snr_ae}_snr_{snr}_seed_{seed}.pth'\n",
    "        aligner.load_state_dict(torch.load(aligner_fp, map_location=device))\n",
    "\n",
    "        aligned_model = AlignedDeepJSCC(encoder, decoder, aligner, snr, channel)\n",
    "\n",
    "        psnr_result = validation_vectorized(aligned_model, test_loader, times, device)\n",
    "        \n",
    "        result_msg = f\"Linear model, AE {snr_ae} SNR {snr} SEED {seed} got a PSNR of {psnr_result:.2f}\"\n",
    "        print(result_msg)\n",
    "        \n",
    "        with open(log_file, 'a') as f:\n",
    "            f.write(f\"{result_msg}\\n\")"
   ]
  },
  {
   "cell_type": "markdown",
   "id": "cb9fde86",
   "metadata": {},
   "source": [
    "# Two Conv"
   ]
  },
  {
   "cell_type": "code",
   "execution_count": null,
   "id": "184c4f2c",
   "metadata": {},
   "outputs": [
    {
     "name": "stderr",
     "output_type": "stream",
     "text": [
      "Training: 100%|██████████| 19/19 [16:56<00:00, 53.52s/it] \n"
     ]
    }
   ],
   "source": [
    "aligner_type = \"twoconv\"\n",
    "data.flat = False\n",
    "\n",
    "for snr in snrs:\n",
    "    for seed in seeds:\n",
    "        set_seed(seed)\n",
    "        permutation = torch.randperm(len(data))\n",
    "\n",
    "        aligner, epoch = train_twoconv_aligner(data, permutation, n_samples, c, batch_size, snr, device)\n",
    "\n",
    "        aligner_fp = f'alignment/models/plots/{folder}/aligner_{aligner_type}_ae_{snr_ae}_snr_{snr}_seed_{seed}.pth'\n",
    "        torch.save(aligner.state_dict(), aligner_fp)\n",
    "\n",
    "        print(f\"Done with SNR {snr} SEED {seed}.\")"
   ]
  },
  {
   "cell_type": "code",
   "execution_count": null,
   "id": "56820867",
   "metadata": {},
   "outputs": [
    {
     "name": "stdout",
     "output_type": "stream",
     "text": [
      "Twoconv model, 1 samples got a PSNR of 16.13\n",
      "Twoconv model, 2 samples got a PSNR of 24.65\n",
      "Twoconv model, 4 samples got a PSNR of 30.05\n",
      "Twoconv model, 6 samples got a PSNR of 31.60\n",
      "Twoconv model, 11 samples got a PSNR of 32.94\n",
      "Twoconv model, 18 samples got a PSNR of 33.66\n",
      "Twoconv model, 29 samples got a PSNR of 35.74\n",
      "Twoconv model, 48 samples got a PSNR of 36.88\n",
      "Twoconv model, 78 samples got a PSNR of 37.24\n",
      "Twoconv model, 127 samples got a PSNR of 37.55\n",
      "Twoconv model, 206 samples got a PSNR of 37.68\n",
      "Twoconv model, 335 samples got a PSNR of 37.92\n",
      "Twoconv model, 545 samples got a PSNR of 37.86\n",
      "Twoconv model, 885 samples got a PSNR of 38.43\n",
      "Twoconv model, 1438 samples got a PSNR of 38.45\n",
      "Twoconv model, 2335 samples got a PSNR of 38.72\n",
      "Twoconv model, 3792 samples got a PSNR of 38.53\n",
      "Twoconv model, 6158 samples got a PSNR of 38.11\n",
      "Twoconv model, 10000 samples got a PSNR of 38.74\n"
     ]
    }
   ],
   "source": [
    "aligner_type = \"twoconv\"\n",
    "aligner = _TwoConvAlignment(in_channels=2*c, hidden_channels=2*c, out_channels=2*c, kernel_size=5)\n",
    "\n",
    "for snr in snrs:\n",
    "    for seed in seeds:\n",
    "\n",
    "        log_file = f\"{logs_folder}/aligner_{aligner_type}_ae_{snr_ae}_snr_{snr}_seed_{seed}.txt\"\n",
    "\n",
    "        with open(log_file, 'w') as f:\n",
    "            pass\n",
    "\n",
    "        set_seed(seed)\n",
    "\n",
    "        aligner_fp = f'alignment/models/plots/{folder}/aligner_{aligner_type}_ae_{snr_ae}_snr_{snr}_seed_{seed}.pth'\n",
    "        aligner.load_state_dict(torch.load(aligner_fp, map_location=device))\n",
    "\n",
    "        aligned_model = AlignedDeepJSCC(encoder, decoder, aligner, snr, channel)\n",
    "\n",
    "        psnr_result = validation_vectorized(aligned_model, test_loader, times, device)\n",
    "        \n",
    "        result_msg = f\"Linear model, AE {snr_ae} SNR {snr} SEED {seed} got a PSNR of {psnr_result:.2f}\"\n",
    "        print(result_msg)\n",
    "        \n",
    "        with open(log_file, 'a') as f:\n",
    "            f.write(f\"{result_msg}\\n\")"
   ]
  },
  {
   "cell_type": "markdown",
   "id": "c6853c80",
   "metadata": {},
   "source": [
    "# Zero-shot"
   ]
  },
  {
   "cell_type": "code",
   "execution_count": null,
   "id": "c935ef43",
   "metadata": {},
   "outputs": [
    {
     "name": "stderr",
     "output_type": "stream",
     "text": [
      "Training: 100%|██████████| 18/18 [01:31<00:00,  5.10s/it]\n"
     ]
    }
   ],
   "source": [
    "aligner_type = \"zeroshot\"\n",
    "data.flat = True\n",
    "\n",
    "for snr in snrs:\n",
    "    for seed in seeds:\n",
    "        set_seed(seed)\n",
    "        permutation = torch.randperm(len(data))\n",
    "\n",
    "        aligner = train_zeroshot_aligner(data, permutation, n_samples, train_snr, n_samples, device)\n",
    "\n",
    "        aligner_fp = f'alignment/models/plots/{folder}/aligner_{aligner_type}_ae_{snr_ae}_snr_{snr}_seed_{seed}.pth'\n",
    "        torch.save(aligner.state_dict(), aligner_fp)\n",
    "\n",
    "        print(f\"Done with SNR {snr} SEED {seed}.\")"
   ]
  },
  {
   "cell_type": "code",
   "execution_count": null,
   "id": "44fc234b",
   "metadata": {},
   "outputs": [
    {
     "name": "stdout",
     "output_type": "stream",
     "text": [
      "Zeroshot model, 2 samples got a PSNR of 11.28\n",
      "Zeroshot model, 4 samples got a PSNR of 11.55\n",
      "Zeroshot model, 6 samples got a PSNR of 11.77\n",
      "Zeroshot model, 11 samples got a PSNR of 11.90\n",
      "Zeroshot model, 18 samples got a PSNR of 12.72\n",
      "Zeroshot model, 29 samples got a PSNR of 13.34\n",
      "Zeroshot model, 48 samples got a PSNR of 13.29\n",
      "Zeroshot model, 78 samples got a PSNR of 14.30\n",
      "Zeroshot model, 127 samples got a PSNR of 15.11\n",
      "Zeroshot model, 206 samples got a PSNR of 15.08\n",
      "Zeroshot model, 335 samples got a PSNR of 16.24\n",
      "Zeroshot model, 545 samples got a PSNR of 15.94\n",
      "Zeroshot model, 885 samples got a PSNR of 16.95\n",
      "Zeroshot model, 1438 samples got a PSNR of 19.43\n",
      "Zeroshot model, 2335 samples got a PSNR of 18.31\n",
      "Zeroshot model, 3792 samples got a PSNR of 22.53\n",
      "Zeroshot model, 6158 samples got a PSNR of 26.78\n",
      "Zeroshot model, 10000 samples got a PSNR of 28.33\n"
     ]
    }
   ],
   "source": [
    "aligner_type = \"zeroshot\"\n",
    "aligner = _ZeroShotAlignment(\n",
    "    F_tilde=torch.zeros(n_samples, resolution**2),\n",
    "    G_tilde=torch.zeros(resolution**2, n_samples), \n",
    "    G=torch.zeros(1, 1),\n",
    "    L=torch.zeros(n_samples, n_samples),\n",
    "    mean=torch.zeros(n_samples, 1)\n",
    ")\n",
    "\n",
    "for snr in snrs:\n",
    "    for seed in seeds:\n",
    "\n",
    "        log_file = f\"{logs_folder}/aligner_{aligner_type}_ae_{snr_ae}_snr_{snr}_seed_{seed}.txt\"\n",
    "\n",
    "        with open(log_file, 'w') as f:\n",
    "            pass\n",
    "\n",
    "        set_seed(seed)\n",
    "\n",
    "        aligner_fp = f'alignment/models/plots/{folder}/aligner_{aligner_type}_ae_{snr_ae}_snr_{snr}_seed_{seed}.pth'\n",
    "        aligner.load_state_dict(torch.load(aligner_fp, map_location=device))\n",
    "\n",
    "        aligned_model = AlignedDeepJSCC(encoder, decoder, aligner, snr, channel)\n",
    "\n",
    "        psnr_result = validation_vectorized(aligned_model, test_loader, times, device)\n",
    "        \n",
    "        result_msg = f\"Linear model, AE {snr_ae} SNR {snr} SEED {seed} got a PSNR of {psnr_result:.2f}\"\n",
    "        print(result_msg)\n",
    "        \n",
    "        with open(log_file, 'a') as f:\n",
    "            f.write(f\"{result_msg}\\n\")"
   ]
  }
 ],
 "metadata": {
  "kernelspec": {
   "display_name": "base",
   "language": "python",
   "name": "python3"
  },
  "language_info": {
   "codemirror_mode": {
    "name": "ipython",
    "version": 3
   },
   "file_extension": ".py",
   "mimetype": "text/x-python",
   "name": "python",
   "nbconvert_exporter": "python",
   "pygments_lexer": "ipython3",
   "version": "3.13.2"
  }
 },
 "nbformat": 4,
 "nbformat_minor": 5
}
