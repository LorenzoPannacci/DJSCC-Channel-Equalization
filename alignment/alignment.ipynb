{
 "cells": [
  {
   "cell_type": "code",
   "execution_count": 1,
   "id": "25b9b5b5",
   "metadata": {},
   "outputs": [
    {
     "name": "stdout",
     "output_type": "stream",
     "text": [
      "d:\\Github repos\\Deep-JSCC-PyTorch\n"
     ]
    }
   ],
   "source": [
    "%cd ..\n",
    "\n",
    "import os\n",
    "import torch\n",
    "import torch.nn as nn\n",
    "import torch.optim as optim\n",
    "import copy\n",
    "\n",
    "from torch.utils.data import Dataset, DataLoader\n",
    "from torchvision import transforms\n",
    "from torchvision import datasets\n",
    "\n",
    "from alignment.alignment_utils import load_deep_jscc, get_batch_psnr\n",
    "from alignment.alignment_model import _ConvolutionalAlignment, _LinearAlignment, AlignedDeepJSCC\n",
    "from utils import image_normalization\n",
    "import matplotlib.pyplot as plt\n",
    "\n",
    "from dataset import Vanilla\n",
    "from model import DeepJSCC\n",
    "from tqdm import tqdm\n",
    "import pickle"
   ]
  },
  {
   "cell_type": "code",
   "execution_count": 11,
   "id": "b8954683",
   "metadata": {},
   "outputs": [],
   "source": [
    "model1_fp = r'alignment\\models\\upscaled_42.pkl'\n",
    "model2_fp = r'alignment\\models\\upscaled_43.pkl'\n",
    "saved = r'out\\checkpoints\\CIFAR10_8_7.0_0.17_AWGN_11h35m08s_on_Mar_27_2025\\epoch_999.pkl'\n",
    "\n",
    "snr = 7\n",
    "times = 10\n",
    "\n",
    "dataset = \"imagenette\"\n",
    "resolution = 64\n",
    "\n",
    "batch_size = 64\n",
    "num_workers = 4\n",
    "channel = 'AWGN'\n",
    "\n",
    "device = torch.device(\"cuda:0\" if torch.cuda.is_available() else 'cpu')"
   ]
  },
  {
   "cell_type": "markdown",
   "id": "a8b8fd63",
   "metadata": {},
   "source": [
    "# Init"
   ]
  },
  {
   "cell_type": "markdown",
   "id": "9ba2a97c",
   "metadata": {},
   "source": [
    "## Data"
   ]
  },
  {
   "cell_type": "code",
   "execution_count": 3,
   "id": "444df1f4",
   "metadata": {},
   "outputs": [
    {
     "name": "stderr",
     "output_type": "stream",
     "text": [
      "100%|██████████| 1.56G/1.56G [07:33<00:00, 3.44MB/s] \n"
     ]
    }
   ],
   "source": [
    "############\n",
    "# GET DATA #\n",
    "############\n",
    "\n",
    "if dataset == 'cifar10':\n",
    "    transform = transforms.Compose([transforms.ToTensor(), transforms.Resize((resolution, resolution))])\n",
    "\n",
    "    train_dataset = datasets.CIFAR10(root='../dataset/', train=True, download=True, transform=transform)\n",
    "    train_loader = DataLoader(train_dataset, shuffle=True, batch_size=batch_size, num_workers=num_workers)\n",
    "\n",
    "    test_dataset = datasets.CIFAR10(root='../dataset/', train=False, download=True, transform=transform)\n",
    "    test_loader = DataLoader(test_dataset, shuffle=True, batch_size=batch_size, num_workers=num_workers)\n",
    "\n",
    "elif dataset == 'imagenet':\n",
    "    # the size of paper is 128\n",
    "    transform = transforms.Compose([transforms.ToTensor(), transforms.Resize((resolution, resolution))])\n",
    "\n",
    "    print(\"loading data of imagenet\")\n",
    "\n",
    "    train_dataset = datasets.ImageFolder(root='./dataset/ImageNet/train', transform=transform)\n",
    "    train_loader = DataLoader(train_dataset, shuffle=True, batch_size=batch_size, num_workers=num_workers)\n",
    "\n",
    "    test_dataset = Vanilla(root='./dataset/ImageNet/val', transform=transform)\n",
    "    test_loader = DataLoader(test_dataset, shuffle=True, batch_size=batch_size, num_workers=num_workers)\n",
    "\n",
    "elif dataset == 'imagenette':\n",
    "    transform = transforms.Compose([transforms.ToTensor(), transforms.Resize((resolution, resolution))])\n",
    "\n",
    "    train_dataset = datasets.Imagenette(root='../dataset/', split=\"train\", download=True, transform=transform)\n",
    "    train_loader = DataLoader(train_dataset, shuffle=True, batch_size=batch_size, num_workers=num_workers)\n",
    "\n",
    "    test_dataset = datasets.Imagenette(root='../dataset/', split=\"val\", download=True, transform=transform)\n",
    "    test_loader = DataLoader(test_dataset, shuffle=True, batch_size=batch_size, num_workers=num_workers)\n",
    "\n",
    "else:\n",
    "    raise Exception('Unknown dataset')"
   ]
  },
  {
   "cell_type": "code",
   "execution_count": 4,
   "id": "d398c283",
   "metadata": {},
   "outputs": [],
   "source": [
    "class AlignmentDataset(Dataset):\n",
    "    def __init__(self, dataloader, model1, model2, flat=False):\n",
    "        self.outputs = []\n",
    "\n",
    "        model1.eval()\n",
    "        model1.to(device)\n",
    "\n",
    "        model2.eval()\n",
    "        model2.to(device)\n",
    "\n",
    "        with torch.no_grad():\n",
    "            for inputs, _ in tqdm(dataloader, desc=\"Computing model outputs\"):\n",
    "                inputs = inputs.to(device)\n",
    "\n",
    "                out1 = model1(inputs)\n",
    "                out2 = model2(inputs)\n",
    "\n",
    "                for o1, o2 in zip(out1, out2):\n",
    "                    if flat:\n",
    "                        o1 = o1.flatten()\n",
    "                        o2 = o2.flatten()\n",
    "\n",
    "                    self.outputs.append((o1.cpu(), o2.cpu()))\n",
    "\n",
    "    def __len__(self):\n",
    "        return len(self.outputs)\n",
    "\n",
    "    def __getitem__(self, idx):\n",
    "        return self.outputs[idx]  "
   ]
  },
  {
   "cell_type": "markdown",
   "id": "f9b4ba54",
   "metadata": {},
   "source": [
    "## Utils"
   ]
  },
  {
   "cell_type": "code",
   "execution_count": 5,
   "id": "86a1a197",
   "metadata": {},
   "outputs": [],
   "source": [
    "def validation(model, dataloader, times):\n",
    "\n",
    "    model = model.to(device)\n",
    "    batch_psnr_list = []\n",
    "\n",
    "    with torch.no_grad():\n",
    "        for inputs, _ in dataloader:\n",
    "\n",
    "            inputs = inputs.to(device)\n",
    "            psnr = torch.zeros(size=(inputs.shape[0], ), device=device)\n",
    "\n",
    "            for _ in range(times):\n",
    "                demo_image = model(inputs)\n",
    "                demo_image = image_normalization('denormalization')(demo_image)\n",
    "                gt = image_normalization('denormalization')(inputs)\n",
    "                psnr += get_batch_psnr(demo_image, gt)\n",
    "\n",
    "            psnr /= times\n",
    "            batch_mean_psnr = psnr.mean().item()\n",
    "            batch_psnr_list.append(batch_mean_psnr)\n",
    "\n",
    "    overall_mean_psnr = sum(batch_psnr_list) / len(batch_psnr_list)\n",
    "\n",
    "    return overall_mean_psnr\n",
    "\n",
    "def load_from_checkpoint(path, snr):\n",
    "    state_dict = torch.load(path, map_location=device)\n",
    "    from collections import OrderedDict\n",
    "    new_state_dict = OrderedDict()\n",
    "\n",
    "    for k, v in state_dict.items():\n",
    "        name = k.replace('module.','') # remove `module.`\n",
    "        new_state_dict[name] = v\n",
    "\n",
    "    file_name = os.path.basename(os.path.dirname(saved))\n",
    "    c = file_name.split('_')[1]\n",
    "    c = int(c)\n",
    "    model = DeepJSCC(c=c, channel_type=channel, snr=snr)\n",
    "\n",
    "    model.load_state_dict(new_state_dict)\n",
    "    model.change_channel(channel, snr)\n",
    "\n",
    "    return model"
   ]
  },
  {
   "cell_type": "markdown",
   "id": "70a9ac44",
   "metadata": {},
   "source": [
    "# Least Squares"
   ]
  },
  {
   "cell_type": "markdown",
   "id": "c2838faa",
   "metadata": {},
   "source": [
    "## Train"
   ]
  },
  {
   "cell_type": "code",
   "execution_count": 8,
   "id": "80e3e6d7",
   "metadata": {},
   "outputs": [
    {
     "name": "stderr",
     "output_type": "stream",
     "text": [
      "Computing model outputs:   0%|          | 0/148 [00:00<?, ?it/s]"
     ]
    },
    {
     "name": "stderr",
     "output_type": "stream",
     "text": [
      "Computing model outputs: 100%|██████████| 148/148 [01:13<00:00,  2.01it/s]\n"
     ]
    }
   ],
   "source": [
    "model1 = load_from_checkpoint(model1_fp, snr).encoder\n",
    "model2 = load_from_checkpoint(model2_fp, snr).encoder\n",
    "\n",
    "\n",
    "data = AlignmentDataset(train_loader, model1, model2, flat=True)"
   ]
  },
  {
   "cell_type": "code",
   "execution_count": 9,
   "id": "6c5ead13",
   "metadata": {},
   "outputs": [],
   "source": [
    "def dataset_to_matrices(dataset, batch_size=128):\n",
    "    loader = DataLoader(dataset, batch_size=batch_size, shuffle=False)\n",
    "    data_1 = []\n",
    "    data_2 = []\n",
    "    \n",
    "    for batch in loader:\n",
    "        data_1.append(batch[0])\n",
    "        data_2.append(batch[1])\n",
    "\n",
    "    return torch.cat(data_1, dim=0), torch.cat(data_2, dim=0)\n",
    "\n",
    "matrix_1, matrix_2 = dataset_to_matrices(data)"
   ]
  },
  {
   "cell_type": "code",
   "execution_count": 10,
   "id": "ef2f5aa6",
   "metadata": {},
   "outputs": [],
   "source": [
    "#################\n",
    "# LEAST SQUARES #\n",
    "#################\n",
    "\n",
    "Y = matrix_1.T\n",
    "Z = matrix_2.T\n",
    "\n",
    "Q = Y @ Z.T @ torch.inverse(Z @ Z.T)\n",
    "\n",
    "with open(r'alignment\\models\\aligner_64_imagenette.pkl', 'wb') as f:\n",
    "    pickle.dump(Q, f)"
   ]
  },
  {
   "cell_type": "markdown",
   "id": "7db1f2b3",
   "metadata": {},
   "source": [
    "## Validation"
   ]
  },
  {
   "cell_type": "code",
   "execution_count": 6,
   "id": "781fe8f2",
   "metadata": {},
   "outputs": [],
   "source": [
    "channel_type = 'AWGN'\n",
    "model1_fp = r'alignment\\models\\seed42_v1.pkl'\n",
    "model2_fp = r'alignment\\models\\seed43_v1.pkl'\n",
    "aligner_fp = r'alignment\\models\\aligner_32.pkl'\n",
    "\n",
    "device = torch.device('cuda:0' if torch.cuda.is_available() else 'cpu')\n",
    "c = 8\n",
    "\n",
    "model1 = load_deep_jscc(model1_fp, snr, c, channel_type)\n",
    "model2 = load_deep_jscc(model2_fp, snr, c, channel_type)\n",
    "\n",
    "with open(aligner_fp, 'rb') as f:\n",
    "    align_matrix = pickle.load(f)\n",
    "\n",
    "encoder = copy.deepcopy(model1.encoder)\n",
    "decoder = copy.deepcopy(model2.decoder)\n",
    "aligner = _LinearAlignment(align_matrix)\n",
    "\n",
    "aligned_model = AlignedDeepJSCC(encoder, decoder, aligner, snr, channel_type)\n",
    "unaligned_model = AlignedDeepJSCC(encoder, decoder, None, snr, channel_type)"
   ]
  },
  {
   "cell_type": "code",
   "execution_count": 7,
   "id": "256cad5f",
   "metadata": {},
   "outputs": [
    {
     "name": "stdout",
     "output_type": "stream",
     "text": [
      "22.738093528018634\n",
      "10.387505458418731\n",
      "27.894939070294615\n"
     ]
    }
   ],
   "source": [
    "print(validation(model1, test_loader, times))\n",
    "print(validation(unaligned_model, test_loader, times))\n",
    "print(validation(aligned_model, test_loader, times))"
   ]
  },
  {
   "cell_type": "markdown",
   "id": "b688011c",
   "metadata": {},
   "source": [
    "## Plot"
   ]
  },
  {
   "cell_type": "code",
   "execution_count": null,
   "id": "9d0715d0",
   "metadata": {},
   "outputs": [],
   "source": [
    "def increasing_dataset_size():\n",
    "    batch_size = 128\n",
    "    n_batches = 782\n",
    "    times = 10\n",
    "\n",
    "    for b in range(1, n_batches+1):\n",
    "\n",
    "        # dataset to matrices\n",
    "        loader = DataLoader(data, batch_size=batch_size, shuffle=False)\n",
    "        data_1 = []\n",
    "        data_2 = []\n",
    "\n",
    "        i = 0\n",
    "        for batch in loader:\n",
    "            data_1.append(batch[0])\n",
    "            data_2.append(batch[1])\n",
    "            i += 1\n",
    "\n",
    "            if i == b:\n",
    "                break\n",
    "\n",
    "        matrix_1 = torch.cat(data_1, dim=0)\n",
    "        matrix_2 = torch.cat(data_2, dim=0)\n",
    "\n",
    "        # get model\n",
    "        Y = matrix_1.T\n",
    "        Z = matrix_2.T\n",
    "\n",
    "        Q = Y @ Z.T @ torch.inverse(Z @ Z.T)\n",
    "\n",
    "        with open(r'alignment\\models\\aligner.pkl', 'wb') as f:\n",
    "            pickle.dump(Q, f)\n",
    "\n",
    "        # load aligned model\n",
    "        aligned_model = load_aligned_model(model1_fp, model2_fp, r'alignment\\models\\aligner.pkl', \"linear\" snr, c, channel)\n",
    "\n",
    "        print(f\"For {b} batches we get a PSNR of {validation(aligned_model, test_loader, times):.2f}\")"
   ]
  },
  {
   "cell_type": "code",
   "execution_count": 43,
   "id": "1b891173",
   "metadata": {},
   "outputs": [
    {
     "name": "stdout",
     "output_type": "stream",
     "text": [
      "For 1 batches we get a PSNR of 5.22\n",
      "For 2 batches we get a PSNR of 5.37\n",
      "For 3 batches we get a PSNR of 5.15\n",
      "For 4 batches we get a PSNR of 5.26\n",
      "For 5 batches we get a PSNR of 5.38\n",
      "For 6 batches we get a PSNR of 5.14\n",
      "For 7 batches we get a PSNR of 5.36\n",
      "For 8 batches we get a PSNR of 6.40\n",
      "For 9 batches we get a PSNR of 18.09\n",
      "For 10 batches we get a PSNR of 21.53\n",
      "For 11 batches we get a PSNR of 23.44\n",
      "For 12 batches we get a PSNR of 24.43\n",
      "For 13 batches we get a PSNR of 25.09\n",
      "For 14 batches we get a PSNR of 25.57\n",
      "For 15 batches we get a PSNR of 25.88\n",
      "For 16 batches we get a PSNR of 26.14\n",
      "For 17 batches we get a PSNR of 26.33\n",
      "For 18 batches we get a PSNR of 26.50\n",
      "For 19 batches we get a PSNR of 26.63\n",
      "For 20 batches we get a PSNR of 26.74\n",
      "For 21 batches we get a PSNR of 26.84\n",
      "For 22 batches we get a PSNR of 26.90\n",
      "For 23 batches we get a PSNR of 26.97\n",
      "For 24 batches we get a PSNR of 27.03\n",
      "For 25 batches we get a PSNR of 27.08\n",
      "For 26 batches we get a PSNR of 27.13\n",
      "For 27 batches we get a PSNR of 27.17\n",
      "For 28 batches we get a PSNR of 27.21\n",
      "For 29 batches we get a PSNR of 27.25\n",
      "For 30 batches we get a PSNR of 27.28\n",
      "For 31 batches we get a PSNR of 27.30\n",
      "For 32 batches we get a PSNR of 27.33\n",
      "For 33 batches we get a PSNR of 27.36\n",
      "For 34 batches we get a PSNR of 27.39\n",
      "For 35 batches we get a PSNR of 27.41\n",
      "For 36 batches we get a PSNR of 27.43\n",
      "For 37 batches we get a PSNR of 27.44\n",
      "For 38 batches we get a PSNR of 27.46\n",
      "For 39 batches we get a PSNR of 27.47\n",
      "For 40 batches we get a PSNR of 27.49\n",
      "For 41 batches we get a PSNR of 27.50\n",
      "For 42 batches we get a PSNR of 27.51\n",
      "For 43 batches we get a PSNR of 27.53\n",
      "For 44 batches we get a PSNR of 27.54\n",
      "For 45 batches we get a PSNR of 27.54\n",
      "For 46 batches we get a PSNR of 27.56\n",
      "For 47 batches we get a PSNR of 27.57\n",
      "For 48 batches we get a PSNR of 27.58\n",
      "For 49 batches we get a PSNR of 27.58\n",
      "For 50 batches we get a PSNR of 27.60\n",
      "For 51 batches we get a PSNR of 27.60\n",
      "For 52 batches we get a PSNR of 27.61\n",
      "For 53 batches we get a PSNR of 27.62\n",
      "For 54 batches we get a PSNR of 27.63\n",
      "For 55 batches we get a PSNR of 27.63\n",
      "For 56 batches we get a PSNR of 27.64\n",
      "For 57 batches we get a PSNR of 27.64\n",
      "For 58 batches we get a PSNR of 27.65\n"
     ]
    },
    {
     "ename": "KeyboardInterrupt",
     "evalue": "",
     "output_type": "error",
     "traceback": [
      "\u001b[1;31m---------------------------------------------------------------------------\u001b[0m",
      "\u001b[1;31mKeyboardInterrupt\u001b[0m                         Traceback (most recent call last)",
      "Cell \u001b[1;32mIn[43], line 1\u001b[0m\n\u001b[1;32m----> 1\u001b[0m increasing_dataset_size()\n",
      "Cell \u001b[1;32mIn[42], line 54\u001b[0m, in \u001b[0;36mincreasing_dataset_size\u001b[1;34m()\u001b[0m\n\u001b[0;32m     51\u001b[0m \u001b[38;5;66;03m# load aligned model\u001b[39;00m\n\u001b[0;32m     52\u001b[0m aligned_model \u001b[38;5;241m=\u001b[39m load_aligned_model(model1_fp, model2_fp, aligner_fp, snr, c, channel)\n\u001b[1;32m---> 54\u001b[0m \u001b[38;5;28mprint\u001b[39m(\u001b[38;5;124mf\u001b[39m\u001b[38;5;124m\"\u001b[39m\u001b[38;5;124mFor \u001b[39m\u001b[38;5;132;01m{\u001b[39;00mb\u001b[38;5;132;01m}\u001b[39;00m\u001b[38;5;124m batches we get a PSNR of \u001b[39m\u001b[38;5;132;01m{\u001b[39;00mvalidation(aligned_model,\u001b[38;5;250m \u001b[39mtest_loader,\u001b[38;5;250m \u001b[39mtimes)\u001b[38;5;132;01m:\u001b[39;00m\u001b[38;5;124m.2f\u001b[39m\u001b[38;5;132;01m}\u001b[39;00m\u001b[38;5;124m\"\u001b[39m)\n",
      "Cell \u001b[1;32mIn[41], line 14\u001b[0m, in \u001b[0;36mvalidation\u001b[1;34m(model, dataloader, times)\u001b[0m\n\u001b[0;32m     11\u001b[0m batch_psnr_list \u001b[38;5;241m=\u001b[39m []\n\u001b[0;32m     13\u001b[0m \u001b[38;5;28;01mwith\u001b[39;00m torch\u001b[38;5;241m.\u001b[39mno_grad():\n\u001b[1;32m---> 14\u001b[0m     \u001b[38;5;28;01mfor\u001b[39;00m inputs, _ \u001b[38;5;129;01min\u001b[39;00m dataloader:\n\u001b[0;32m     16\u001b[0m         inputs \u001b[38;5;241m=\u001b[39m inputs\u001b[38;5;241m.\u001b[39mto(device)\n\u001b[0;32m     17\u001b[0m         psnr \u001b[38;5;241m=\u001b[39m torch\u001b[38;5;241m.\u001b[39mzeros(size\u001b[38;5;241m=\u001b[39m(inputs\u001b[38;5;241m.\u001b[39mshape[\u001b[38;5;241m0\u001b[39m], ), device\u001b[38;5;241m=\u001b[39mdevice)\n",
      "File \u001b[1;32mc:\\ProgramData\\anaconda3\\Lib\\site-packages\\torch\\utils\\data\\dataloader.py:491\u001b[0m, in \u001b[0;36mDataLoader.__iter__\u001b[1;34m(self)\u001b[0m\n\u001b[0;32m    489\u001b[0m     \u001b[38;5;28;01mreturn\u001b[39;00m \u001b[38;5;28mself\u001b[39m\u001b[38;5;241m.\u001b[39m_iterator\n\u001b[0;32m    490\u001b[0m \u001b[38;5;28;01melse\u001b[39;00m:\n\u001b[1;32m--> 491\u001b[0m     \u001b[38;5;28;01mreturn\u001b[39;00m \u001b[38;5;28mself\u001b[39m\u001b[38;5;241m.\u001b[39m_get_iterator()\n",
      "File \u001b[1;32mc:\\ProgramData\\anaconda3\\Lib\\site-packages\\torch\\utils\\data\\dataloader.py:422\u001b[0m, in \u001b[0;36mDataLoader._get_iterator\u001b[1;34m(self)\u001b[0m\n\u001b[0;32m    420\u001b[0m \u001b[38;5;28;01melse\u001b[39;00m:\n\u001b[0;32m    421\u001b[0m     \u001b[38;5;28mself\u001b[39m\u001b[38;5;241m.\u001b[39mcheck_worker_number_rationality()\n\u001b[1;32m--> 422\u001b[0m     \u001b[38;5;28;01mreturn\u001b[39;00m _MultiProcessingDataLoaderIter(\u001b[38;5;28mself\u001b[39m)\n",
      "File \u001b[1;32mc:\\ProgramData\\anaconda3\\Lib\\site-packages\\torch\\utils\\data\\dataloader.py:1146\u001b[0m, in \u001b[0;36m_MultiProcessingDataLoaderIter.__init__\u001b[1;34m(self, loader)\u001b[0m\n\u001b[0;32m   1139\u001b[0m w\u001b[38;5;241m.\u001b[39mdaemon \u001b[38;5;241m=\u001b[39m \u001b[38;5;28;01mTrue\u001b[39;00m\n\u001b[0;32m   1140\u001b[0m \u001b[38;5;66;03m# NB: Process.start() actually take some time as it needs to\u001b[39;00m\n\u001b[0;32m   1141\u001b[0m \u001b[38;5;66;03m#     start a process and pass the arguments over via a pipe.\u001b[39;00m\n\u001b[0;32m   1142\u001b[0m \u001b[38;5;66;03m#     Therefore, we only add a worker to self._workers list after\u001b[39;00m\n\u001b[0;32m   1143\u001b[0m \u001b[38;5;66;03m#     it started, so that we do not call .join() if program dies\u001b[39;00m\n\u001b[0;32m   1144\u001b[0m \u001b[38;5;66;03m#     before it starts, and __del__ tries to join but will get:\u001b[39;00m\n\u001b[0;32m   1145\u001b[0m \u001b[38;5;66;03m#     AssertionError: can only join a started process.\u001b[39;00m\n\u001b[1;32m-> 1146\u001b[0m w\u001b[38;5;241m.\u001b[39mstart()\n\u001b[0;32m   1147\u001b[0m \u001b[38;5;28mself\u001b[39m\u001b[38;5;241m.\u001b[39m_index_queues\u001b[38;5;241m.\u001b[39mappend(index_queue)\n\u001b[0;32m   1148\u001b[0m \u001b[38;5;28mself\u001b[39m\u001b[38;5;241m.\u001b[39m_workers\u001b[38;5;241m.\u001b[39mappend(w)\n",
      "File \u001b[1;32mc:\\ProgramData\\anaconda3\\Lib\\multiprocessing\\process.py:121\u001b[0m, in \u001b[0;36mBaseProcess.start\u001b[1;34m(self)\u001b[0m\n\u001b[0;32m    118\u001b[0m \u001b[38;5;28;01massert\u001b[39;00m \u001b[38;5;129;01mnot\u001b[39;00m _current_process\u001b[38;5;241m.\u001b[39m_config\u001b[38;5;241m.\u001b[39mget(\u001b[38;5;124m'\u001b[39m\u001b[38;5;124mdaemon\u001b[39m\u001b[38;5;124m'\u001b[39m), \\\n\u001b[0;32m    119\u001b[0m        \u001b[38;5;124m'\u001b[39m\u001b[38;5;124mdaemonic processes are not allowed to have children\u001b[39m\u001b[38;5;124m'\u001b[39m\n\u001b[0;32m    120\u001b[0m _cleanup()\n\u001b[1;32m--> 121\u001b[0m \u001b[38;5;28mself\u001b[39m\u001b[38;5;241m.\u001b[39m_popen \u001b[38;5;241m=\u001b[39m \u001b[38;5;28mself\u001b[39m\u001b[38;5;241m.\u001b[39m_Popen(\u001b[38;5;28mself\u001b[39m)\n\u001b[0;32m    122\u001b[0m \u001b[38;5;28mself\u001b[39m\u001b[38;5;241m.\u001b[39m_sentinel \u001b[38;5;241m=\u001b[39m \u001b[38;5;28mself\u001b[39m\u001b[38;5;241m.\u001b[39m_popen\u001b[38;5;241m.\u001b[39msentinel\n\u001b[0;32m    123\u001b[0m \u001b[38;5;66;03m# Avoid a refcycle if the target function holds an indirect\u001b[39;00m\n\u001b[0;32m    124\u001b[0m \u001b[38;5;66;03m# reference to the process object (see bpo-30775)\u001b[39;00m\n",
      "File \u001b[1;32mc:\\ProgramData\\anaconda3\\Lib\\multiprocessing\\context.py:224\u001b[0m, in \u001b[0;36mProcess._Popen\u001b[1;34m(process_obj)\u001b[0m\n\u001b[0;32m    222\u001b[0m \u001b[38;5;129m@staticmethod\u001b[39m\n\u001b[0;32m    223\u001b[0m \u001b[38;5;28;01mdef\u001b[39;00m \u001b[38;5;21m_Popen\u001b[39m(process_obj):\n\u001b[1;32m--> 224\u001b[0m     \u001b[38;5;28;01mreturn\u001b[39;00m _default_context\u001b[38;5;241m.\u001b[39mget_context()\u001b[38;5;241m.\u001b[39mProcess\u001b[38;5;241m.\u001b[39m_Popen(process_obj)\n",
      "File \u001b[1;32mc:\\ProgramData\\anaconda3\\Lib\\multiprocessing\\context.py:337\u001b[0m, in \u001b[0;36mSpawnProcess._Popen\u001b[1;34m(process_obj)\u001b[0m\n\u001b[0;32m    334\u001b[0m \u001b[38;5;129m@staticmethod\u001b[39m\n\u001b[0;32m    335\u001b[0m \u001b[38;5;28;01mdef\u001b[39;00m \u001b[38;5;21m_Popen\u001b[39m(process_obj):\n\u001b[0;32m    336\u001b[0m     \u001b[38;5;28;01mfrom\u001b[39;00m \u001b[38;5;21;01m.\u001b[39;00m\u001b[38;5;21;01mpopen_spawn_win32\u001b[39;00m \u001b[38;5;28;01mimport\u001b[39;00m Popen\n\u001b[1;32m--> 337\u001b[0m     \u001b[38;5;28;01mreturn\u001b[39;00m Popen(process_obj)\n",
      "File \u001b[1;32mc:\\ProgramData\\anaconda3\\Lib\\multiprocessing\\popen_spawn_win32.py:95\u001b[0m, in \u001b[0;36mPopen.__init__\u001b[1;34m(self, process_obj)\u001b[0m\n\u001b[0;32m     93\u001b[0m \u001b[38;5;28;01mtry\u001b[39;00m:\n\u001b[0;32m     94\u001b[0m     reduction\u001b[38;5;241m.\u001b[39mdump(prep_data, to_child)\n\u001b[1;32m---> 95\u001b[0m     reduction\u001b[38;5;241m.\u001b[39mdump(process_obj, to_child)\n\u001b[0;32m     96\u001b[0m \u001b[38;5;28;01mfinally\u001b[39;00m:\n\u001b[0;32m     97\u001b[0m     set_spawning_popen(\u001b[38;5;28;01mNone\u001b[39;00m)\n",
      "File \u001b[1;32mc:\\ProgramData\\anaconda3\\Lib\\multiprocessing\\reduction.py:60\u001b[0m, in \u001b[0;36mdump\u001b[1;34m(obj, file, protocol)\u001b[0m\n\u001b[0;32m     58\u001b[0m \u001b[38;5;28;01mdef\u001b[39;00m \u001b[38;5;21mdump\u001b[39m(obj, file, protocol\u001b[38;5;241m=\u001b[39m\u001b[38;5;28;01mNone\u001b[39;00m):\n\u001b[0;32m     59\u001b[0m \u001b[38;5;250m    \u001b[39m\u001b[38;5;124;03m'''Replacement for pickle.dump() using ForkingPickler.'''\u001b[39;00m\n\u001b[1;32m---> 60\u001b[0m     ForkingPickler(file, protocol)\u001b[38;5;241m.\u001b[39mdump(obj)\n",
      "\u001b[1;31mKeyboardInterrupt\u001b[0m: "
     ]
    }
   ],
   "source": [
    "increasing_dataset_size()"
   ]
  },
  {
   "cell_type": "code",
   "execution_count": null,
   "id": "c6eb805c",
   "metadata": {},
   "outputs": [
    {
     "data": {
      "image/png": "[encoded data removed]",
      "text/plain": [
       "<Figure size 1200x600 with 1 Axes>"
      ]
     },
     "metadata": {},
     "output_type": "display_data"
    }
   ],
   "source": [
    "psnr_values = [\n",
    "    5.22, 5.37, 5.15, 5.26, 5.38, 5.14, 5.36, 6.40, 18.09, 21.53,\n",
    "    23.44, 24.43, 25.09, 25.57, 25.88, 26.14, 26.33, 26.50, 26.63, 26.74,\n",
    "    26.84, 26.90, 26.97, 27.03, 27.08, 27.13, 27.17, 27.21, 27.25, 27.28,\n",
    "    27.30, 27.33, 27.36, 27.39, 27.41, 27.43, 27.44, 27.46, 27.47, 27.49,\n",
    "    27.50, 27.51, 27.53, 27.54, 27.54, 27.56, 27.57, 27.58, 27.58, 27.60,\n",
    "    27.60, 27.61, 27.62, 27.63, 27.63, 27.64, 27.64, 27.65\n",
    "]\n",
    "\n",
    "batches = list(range(1, len(psnr_values) + 1))\n",
    "\n",
    "# Convert batches to number of elements (batch size = 128)\n",
    "elements = [batch * 128 for batch in batches]\n",
    "\n",
    "# Plotting with elements instead of batches\n",
    "plt.figure(figsize=(12, 6))\n",
    "plt.plot(elements, psnr_values, marker='o', linestyle='-', color='b', label='PSNR')\n",
    "\n",
    "# Adding horizontal lines\n",
    "plt.axhline(y=27.90, color='g', linestyle='--', linewidth=1.5, label='Whole dataset')\n",
    "plt.axhline(y=22.74, color='orange', linestyle='--', linewidth=1.5, label='No mismatch')\n",
    "plt.axhline(y=10.39, color='red', linestyle='--', linewidth=1.5, label='No alignment')\n",
    "\n",
    "# Titles and labels\n",
    "plt.title('PSNR vs. Number of pilots')\n",
    "plt.xlabel('Pilots')\n",
    "plt.ylabel('PSNR')\n",
    "plt.legend()\n",
    "plt.grid(True)\n",
    "plt.tight_layout()\n",
    "plt.show()\n"
   ]
  },
  {
   "cell_type": "markdown",
   "id": "6e1631af",
   "metadata": {},
   "source": [
    "# Convolutional"
   ]
  },
  {
   "cell_type": "markdown",
   "id": "31cdd5e8",
   "metadata": {},
   "source": [
    "## Train"
   ]
  },
  {
   "cell_type": "code",
   "execution_count": 12,
   "id": "03e3bcbe",
   "metadata": {},
   "outputs": [
    {
     "name": "stderr",
     "output_type": "stream",
     "text": [
      "Computing model outputs:   0%|          | 0/148 [00:00<?, ?it/s]"
     ]
    },
    {
     "name": "stderr",
     "output_type": "stream",
     "text": [
      "Computing model outputs: 100%|██████████| 148/148 [00:52<00:00,  2.80it/s]\n"
     ]
    }
   ],
   "source": [
    "model1 = load_from_checkpoint(model1_fp, snr).encoder\n",
    "model2 = load_from_checkpoint(model2_fp, snr).encoder\n",
    "\n",
    "data = AlignmentDataset(train_loader, model1, model2, flat=False)\n",
    "dataloader = DataLoader(data, batch_size=1024, shuffle=True)"
   ]
  },
  {
   "cell_type": "code",
   "execution_count": 13,
   "id": "33c8d0a1",
   "metadata": {},
   "outputs": [],
   "source": [
    "c = 8\n",
    "aligner = _ConvolutionalAlignment(in_channels=2*c, out_channels=2*c, kernel_size=5)\n",
    "\n",
    "criterion = nn.MSELoss()\n",
    "optimizer = optim.Adam(aligner.parameters(), lr=1e-3)\n",
    "epochs = 100"
   ]
  },
  {
   "cell_type": "code",
   "execution_count": 14,
   "id": "bfab8579",
   "metadata": {},
   "outputs": [
    {
     "name": "stdout",
     "output_type": "stream",
     "text": [
      "Epoch 1, Loss: 0.9976\n",
      "Epoch 2, Loss: 0.8271\n",
      "Epoch 3, Loss: 0.7119\n",
      "Epoch 4, Loss: 0.6321\n",
      "Epoch 5, Loss: 0.5720\n",
      "Epoch 6, Loss: 0.5371\n",
      "Epoch 7, Loss: 0.4983\n",
      "Epoch 8, Loss: 0.4646\n",
      "Epoch 9, Loss: 0.4466\n",
      "Epoch 10, Loss: 0.4267\n",
      "Epoch 11, Loss: 0.4116\n",
      "Epoch 12, Loss: 0.3968\n",
      "Epoch 13, Loss: 0.3829\n",
      "Epoch 14, Loss: 0.3700\n",
      "Epoch 15, Loss: 0.3637\n",
      "Epoch 16, Loss: 0.3551\n",
      "Epoch 17, Loss: 0.3451\n",
      "Epoch 18, Loss: 0.3410\n",
      "Epoch 19, Loss: 0.3324\n",
      "Epoch 20, Loss: 0.3289\n",
      "Epoch 21, Loss: 0.3230\n",
      "Epoch 22, Loss: 0.3183\n",
      "Epoch 23, Loss: 0.3147\n",
      "Epoch 24, Loss: 0.3123\n",
      "Epoch 25, Loss: 0.3091\n",
      "Epoch 26, Loss: 0.3050\n",
      "Epoch 27, Loss: 0.3040\n",
      "Epoch 28, Loss: 0.3002\n",
      "Epoch 29, Loss: 0.2966\n",
      "Epoch 30, Loss: 0.2969\n",
      "Epoch 31, Loss: 0.2959\n",
      "Epoch 32, Loss: 0.2941\n",
      "Epoch 33, Loss: 0.2904\n",
      "Epoch 34, Loss: 0.2889\n",
      "Epoch 35, Loss: 0.2893\n",
      "Epoch 36, Loss: 0.2852\n",
      "Epoch 37, Loss: 0.2869\n",
      "Epoch 38, Loss: 0.2862\n",
      "Epoch 39, Loss: 0.2837\n",
      "Epoch 40, Loss: 0.2818\n",
      "Epoch 41, Loss: 0.2782\n",
      "Epoch 42, Loss: 0.2786\n",
      "Epoch 43, Loss: 0.2773\n",
      "Epoch 44, Loss: 0.2794\n",
      "Epoch 45, Loss: 0.2789\n",
      "Epoch 46, Loss: 0.2768\n",
      "Epoch 47, Loss: 0.2764\n",
      "Epoch 48, Loss: 0.2766\n",
      "Epoch 49, Loss: 0.2770\n",
      "Epoch 50, Loss: 0.2769\n",
      "Epoch 51, Loss: 0.2732\n",
      "Epoch 52, Loss: 0.2728\n",
      "Epoch 53, Loss: 0.2736\n",
      "Epoch 54, Loss: 0.2726\n",
      "Epoch 55, Loss: 0.2740\n",
      "Epoch 56, Loss: 0.2704\n",
      "Epoch 57, Loss: 0.2745\n",
      "Epoch 58, Loss: 0.2735\n",
      "Epoch 59, Loss: 0.2733\n",
      "Epoch 60, Loss: 0.2711\n",
      "Epoch 61, Loss: 0.2720\n",
      "Epoch 62, Loss: 0.2712\n",
      "Epoch 63, Loss: 0.2714\n",
      "Epoch 64, Loss: 0.2704\n",
      "Epoch 65, Loss: 0.2728\n",
      "Epoch 66, Loss: 0.2705\n",
      "Epoch 67, Loss: 0.2682\n",
      "Epoch 68, Loss: 0.2696\n",
      "Epoch 69, Loss: 0.2709\n",
      "Epoch 70, Loss: 0.2671\n",
      "Epoch 71, Loss: 0.2690\n",
      "Epoch 72, Loss: 0.2686\n",
      "Epoch 73, Loss: 0.2690\n",
      "Epoch 74, Loss: 0.2686\n",
      "Epoch 75, Loss: 0.2672\n",
      "Epoch 76, Loss: 0.2669\n",
      "Epoch 77, Loss: 0.2663\n",
      "Epoch 78, Loss: 0.2702\n",
      "Epoch 79, Loss: 0.2701\n",
      "Epoch 80, Loss: 0.2699\n",
      "Epoch 81, Loss: 0.2698\n",
      "Epoch 82, Loss: 0.2693\n",
      "Epoch 83, Loss: 0.2674\n",
      "Epoch 84, Loss: 0.2668\n",
      "Epoch 85, Loss: 0.2653\n",
      "Epoch 86, Loss: 0.2685\n",
      "Epoch 87, Loss: 0.2679\n",
      "Epoch 88, Loss: 0.2680\n",
      "Epoch 89, Loss: 0.2671\n",
      "Epoch 90, Loss: 0.2677\n",
      "Epoch 91, Loss: 0.2684\n",
      "Epoch 92, Loss: 0.2671\n",
      "Epoch 93, Loss: 0.2661\n",
      "Epoch 94, Loss: 0.2675\n",
      "Epoch 95, Loss: 0.2661\n",
      "Epoch 96, Loss: 0.2671\n",
      "Epoch 97, Loss: 0.2664\n",
      "Epoch 98, Loss: 0.2677\n",
      "Epoch 99, Loss: 0.2652\n",
      "Epoch 100, Loss: 0.2687\n"
     ]
    }
   ],
   "source": [
    "for epoch in range(epochs):\n",
    "    for inputs, targets in dataloader:\n",
    "        optimizer.zero_grad()\n",
    "        outputs = aligner(inputs)\n",
    "        loss = criterion(outputs, targets)\n",
    "        loss.backward()\n",
    "        optimizer.step()\n",
    "\n",
    "    print(f\"Epoch {epoch+1}, Loss: {loss.item():.4f}\")"
   ]
  },
  {
   "cell_type": "code",
   "execution_count": 15,
   "id": "418de35e",
   "metadata": {},
   "outputs": [],
   "source": [
    "with open(r'alignment\\models\\aligner_conv_upscaled.pkl', 'wb') as f:\n",
    "    pickle.dump(aligner, f)"
   ]
  },
  {
   "cell_type": "markdown",
   "id": "f237d2f8",
   "metadata": {},
   "source": [
    "## Validation"
   ]
  },
  {
   "cell_type": "code",
   "execution_count": 6,
   "id": "38b69dff",
   "metadata": {},
   "outputs": [],
   "source": [
    "channel = 'AWGN'\n",
    "model1_fp = r'alignment\\models\\seed42_v1.pkl'\n",
    "model2_fp = r'alignment\\models\\seed43_v1.pkl'\n",
    "aligner_fp = r'alignment\\models\\aligner_conv.pkl'\n",
    "\n",
    "device = torch.device('cuda:0' if torch.cuda.is_available() else 'cpu')\n",
    "\n",
    "snr = 7\n",
    "times = 10\n",
    "c = 8\n",
    "\n",
    "model1 = load_deep_jscc(model1_fp, snr, c, channel)\n",
    "unaligned_model = load_aligned_model(model1_fp, model2_fp, None, \"linear\", snr, c, channel)\n",
    "aligned_model = load_aligned_model(model1_fp, model2_fp, aligner_fp, \"conv\", snr, c, channel)"
   ]
  },
  {
   "cell_type": "code",
   "execution_count": 7,
   "id": "dec66597",
   "metadata": {},
   "outputs": [
    {
     "name": "stdout",
     "output_type": "stream",
     "text": [
      "22.736292711488762\n",
      "10.38290393732156\n",
      "28.825688441088246\n"
     ]
    }
   ],
   "source": [
    "print(validation(model1, test_loader, times))\n",
    "print(validation(unaligned_model, test_loader, times))\n",
    "print(validation(aligned_model, test_loader, times))"
   ]
  },
  {
   "cell_type": "markdown",
   "id": "d49b541d",
   "metadata": {},
   "source": [
    "## Plot"
   ]
  },
  {
   "cell_type": "code",
   "execution_count": 20,
   "id": "8f3b233a",
   "metadata": {},
   "outputs": [],
   "source": [
    "from torch.utils.data import DataLoader, Subset\n",
    "import matplotlib.pyplot as plt"
   ]
  },
  {
   "cell_type": "code",
   "execution_count": 21,
   "id": "a03bbd4d",
   "metadata": {},
   "outputs": [],
   "source": [
    "def increasing_dataset_size():\n",
    "    batch_size = 1024\n",
    "    n_batches = 782\n",
    "    times = 10\n",
    "    c = 8\n",
    "    granularity = 128\n",
    "    model1 = load_from_checkpoint(model1_fp, snr).encoder\n",
    "    model2 = load_from_checkpoint(model2_fp, snr).encoder\n",
    "\n",
    "    subset_sizes = [i * granularity for i in range(1, n_batches + 1)]\n",
    "\n",
    "    data = AlignmentDataset(train_loader, model1, model2, flat=False)\n",
    "\n",
    "    for n in subset_sizes:\n",
    "        # initialize dataset\n",
    "        # indices = torch.randperm(len(data))[:n]\n",
    "        indices = list(range(n))\n",
    "        subset = Subset(data, indices)\n",
    "        dataloader = DataLoader(subset, batch_size=batch_size, shuffle=True)\n",
    "\n",
    "        # initialize aligner\n",
    "        aligner = _ConvolutionalAlignment(in_channels=2*c, out_channels=2*c, kernel_size=5)\n",
    "        epochs = 100\n",
    "        criterion = nn.MSELoss()\n",
    "        optimizer = optim.Adam(aligner.parameters(), lr=1e-3)\n",
    "\n",
    "        # train aligner\n",
    "        for epoch in range(epochs):\n",
    "            for inputs, targets in dataloader:\n",
    "                optimizer.zero_grad()\n",
    "                outputs = aligner(inputs)\n",
    "                loss = criterion(outputs, targets)\n",
    "                loss.backward()\n",
    "                optimizer.step()\n",
    "\n",
    "        # save aligner\n",
    "        with open(r'alignment\\models\\aligner.pkl', 'wb') as f:\n",
    "            pickle.dump(aligner, f)\n",
    "\n",
    "        # load aligned model\n",
    "        aligned_model = load_aligned_model(model1_fp, model2_fp, r'alignment\\models\\aligner.pkl', \"conv\", snr, c, channel)\n",
    "\n",
    "        # validate and print\n",
    "        print(f\"For {n} elements we get a PSNR of {validation(aligned_model, test_loader, times):.2f}\")"
   ]
  },
  {
   "cell_type": "code",
   "execution_count": 22,
   "id": "1f518c08",
   "metadata": {},
   "outputs": [
    {
     "name": "stderr",
     "output_type": "stream",
     "text": [
      "Computing model outputs: 100%|██████████| 782/782 [00:32<00:00, 24.04it/s]\n"
     ]
    },
    {
     "name": "stdout",
     "output_type": "stream",
     "text": [
      "For 128 elements we get a PSNR of 21.95\n",
      "For 256 elements we get a PSNR of 22.40\n",
      "For 384 elements we get a PSNR of 22.58\n",
      "For 512 elements we get a PSNR of 22.37\n",
      "For 640 elements we get a PSNR of 22.28\n",
      "For 768 elements we get a PSNR of 22.21\n",
      "For 896 elements we get a PSNR of 22.32\n",
      "For 1024 elements we get a PSNR of 22.22\n",
      "For 1152 elements we get a PSNR of 25.39\n",
      "For 1280 elements we get a PSNR of 25.45\n",
      "For 1408 elements we get a PSNR of 25.35\n",
      "For 1536 elements we get a PSNR of 25.37\n",
      "For 1664 elements we get a PSNR of 25.37\n",
      "For 1792 elements we get a PSNR of 25.36\n",
      "For 1920 elements we get a PSNR of 25.28\n",
      "For 2048 elements we get a PSNR of 25.38\n",
      "For 2176 elements we get a PSNR of 26.81\n",
      "For 2304 elements we get a PSNR of 27.01\n",
      "For 2432 elements we get a PSNR of 26.79\n",
      "For 2560 elements we get a PSNR of 26.83\n",
      "For 2688 elements we get a PSNR of 26.88\n",
      "For 2816 elements we get a PSNR of 26.88\n",
      "For 2944 elements we get a PSNR of 26.71\n",
      "For 3072 elements we get a PSNR of 26.86\n",
      "For 3200 elements we get a PSNR of 27.68\n",
      "For 3328 elements we get a PSNR of 27.61\n",
      "For 3456 elements we get a PSNR of 27.75\n",
      "For 3584 elements we get a PSNR of 27.69\n",
      "For 3712 elements we get a PSNR of 27.67\n",
      "For 3840 elements we get a PSNR of 27.60\n",
      "For 3968 elements we get a PSNR of 27.76\n",
      "For 4096 elements we get a PSNR of 27.69\n",
      "For 4224 elements we get a PSNR of 28.05\n",
      "For 4352 elements we get a PSNR of 28.08\n",
      "For 4480 elements we get a PSNR of 28.05\n",
      "For 4608 elements we get a PSNR of 28.05\n",
      "For 4736 elements we get a PSNR of 28.16\n",
      "For 4864 elements we get a PSNR of 28.11\n",
      "For 4992 elements we get a PSNR of 28.14\n",
      "For 5120 elements we get a PSNR of 28.10\n",
      "For 5248 elements we get a PSNR of 28.38\n",
      "For 5376 elements we get a PSNR of 28.33\n",
      "For 5504 elements we get a PSNR of 28.42\n",
      "For 5632 elements we get a PSNR of 28.32\n",
      "For 5760 elements we get a PSNR of 28.40\n",
      "For 5888 elements we get a PSNR of 28.45\n",
      "For 6016 elements we get a PSNR of 28.31\n",
      "For 6144 elements we get a PSNR of 28.42\n",
      "For 6272 elements we get a PSNR of 28.55\n",
      "For 6400 elements we get a PSNR of 28.56\n",
      "For 6528 elements we get a PSNR of 28.50\n",
      "For 6656 elements we get a PSNR of 28.56\n",
      "For 6784 elements we get a PSNR of 28.57\n",
      "For 6912 elements we get a PSNR of 28.56\n",
      "For 7040 elements we get a PSNR of 28.52\n",
      "For 7168 elements we get a PSNR of 28.56\n",
      "For 7296 elements we get a PSNR of 28.68\n",
      "For 7424 elements we get a PSNR of 28.64\n",
      "For 7552 elements we get a PSNR of 28.67\n",
      "For 7680 elements we get a PSNR of 28.65\n",
      "For 7808 elements we get a PSNR of 28.68\n",
      "For 7936 elements we get a PSNR of 28.69\n",
      "For 8064 elements we get a PSNR of 28.65\n"
     ]
    },
    {
     "ename": "KeyboardInterrupt",
     "evalue": "",
     "output_type": "error",
     "traceback": [
      "\u001b[1;31m---------------------------------------------------------------------------\u001b[0m",
      "\u001b[1;31mKeyboardInterrupt\u001b[0m                         Traceback (most recent call last)",
      "Cell \u001b[1;32mIn[22], line 1\u001b[0m\n\u001b[1;32m----> 1\u001b[0m increasing_dataset_size()\n",
      "Cell \u001b[1;32mIn[21], line 33\u001b[0m, in \u001b[0;36mincreasing_dataset_size\u001b[1;34m()\u001b[0m\n\u001b[0;32m     31\u001b[0m         outputs \u001b[38;5;241m=\u001b[39m aligner(inputs)\n\u001b[0;32m     32\u001b[0m         loss \u001b[38;5;241m=\u001b[39m criterion(outputs, targets)\n\u001b[1;32m---> 33\u001b[0m         loss\u001b[38;5;241m.\u001b[39mbackward()\n\u001b[0;32m     34\u001b[0m         optimizer\u001b[38;5;241m.\u001b[39mstep()\n\u001b[0;32m     36\u001b[0m \u001b[38;5;66;03m# save aligner\u001b[39;00m\n",
      "File \u001b[1;32mc:\\ProgramData\\anaconda3\\Lib\\site-packages\\torch\\_tensor.py:626\u001b[0m, in \u001b[0;36mTensor.backward\u001b[1;34m(self, gradient, retain_graph, create_graph, inputs)\u001b[0m\n\u001b[0;32m    616\u001b[0m \u001b[38;5;28;01mif\u001b[39;00m has_torch_function_unary(\u001b[38;5;28mself\u001b[39m):\n\u001b[0;32m    617\u001b[0m     \u001b[38;5;28;01mreturn\u001b[39;00m handle_torch_function(\n\u001b[0;32m    618\u001b[0m         Tensor\u001b[38;5;241m.\u001b[39mbackward,\n\u001b[0;32m    619\u001b[0m         (\u001b[38;5;28mself\u001b[39m,),\n\u001b[1;32m   (...)\u001b[0m\n\u001b[0;32m    624\u001b[0m         inputs\u001b[38;5;241m=\u001b[39minputs,\n\u001b[0;32m    625\u001b[0m     )\n\u001b[1;32m--> 626\u001b[0m torch\u001b[38;5;241m.\u001b[39mautograd\u001b[38;5;241m.\u001b[39mbackward(\n\u001b[0;32m    627\u001b[0m     \u001b[38;5;28mself\u001b[39m, gradient, retain_graph, create_graph, inputs\u001b[38;5;241m=\u001b[39minputs\n\u001b[0;32m    628\u001b[0m )\n",
      "File \u001b[1;32mc:\\ProgramData\\anaconda3\\Lib\\site-packages\\torch\\autograd\\__init__.py:347\u001b[0m, in \u001b[0;36mbackward\u001b[1;34m(tensors, grad_tensors, retain_graph, create_graph, grad_variables, inputs)\u001b[0m\n\u001b[0;32m    342\u001b[0m     retain_graph \u001b[38;5;241m=\u001b[39m create_graph\n\u001b[0;32m    344\u001b[0m \u001b[38;5;66;03m# The reason we repeat the same comment below is that\u001b[39;00m\n\u001b[0;32m    345\u001b[0m \u001b[38;5;66;03m# some Python versions print out the first line of a multi-line function\u001b[39;00m\n\u001b[0;32m    346\u001b[0m \u001b[38;5;66;03m# calls in the traceback and some print out the last line\u001b[39;00m\n\u001b[1;32m--> 347\u001b[0m _engine_run_backward(\n\u001b[0;32m    348\u001b[0m     tensors,\n\u001b[0;32m    349\u001b[0m     grad_tensors_,\n\u001b[0;32m    350\u001b[0m     retain_graph,\n\u001b[0;32m    351\u001b[0m     create_graph,\n\u001b[0;32m    352\u001b[0m     inputs,\n\u001b[0;32m    353\u001b[0m     allow_unreachable\u001b[38;5;241m=\u001b[39m\u001b[38;5;28;01mTrue\u001b[39;00m,\n\u001b[0;32m    354\u001b[0m     accumulate_grad\u001b[38;5;241m=\u001b[39m\u001b[38;5;28;01mTrue\u001b[39;00m,\n\u001b[0;32m    355\u001b[0m )\n",
      "File \u001b[1;32mc:\\ProgramData\\anaconda3\\Lib\\site-packages\\torch\\autograd\\graph.py:823\u001b[0m, in \u001b[0;36m_engine_run_backward\u001b[1;34m(t_outputs, *args, **kwargs)\u001b[0m\n\u001b[0;32m    821\u001b[0m     unregister_hooks \u001b[38;5;241m=\u001b[39m _register_logging_hooks_on_whole_graph(t_outputs)\n\u001b[0;32m    822\u001b[0m \u001b[38;5;28;01mtry\u001b[39;00m:\n\u001b[1;32m--> 823\u001b[0m     \u001b[38;5;28;01mreturn\u001b[39;00m Variable\u001b[38;5;241m.\u001b[39m_execution_engine\u001b[38;5;241m.\u001b[39mrun_backward(  \u001b[38;5;66;03m# Calls into the C++ engine to run the backward pass\u001b[39;00m\n\u001b[0;32m    824\u001b[0m         t_outputs, \u001b[38;5;241m*\u001b[39margs, \u001b[38;5;241m*\u001b[39m\u001b[38;5;241m*\u001b[39mkwargs\n\u001b[0;32m    825\u001b[0m     )  \u001b[38;5;66;03m# Calls into the C++ engine to run the backward pass\u001b[39;00m\n\u001b[0;32m    826\u001b[0m \u001b[38;5;28;01mfinally\u001b[39;00m:\n\u001b[0;32m    827\u001b[0m     \u001b[38;5;28;01mif\u001b[39;00m attach_logging_hooks:\n",
      "\u001b[1;31mKeyboardInterrupt\u001b[0m: "
     ]
    }
   ],
   "source": [
    "increasing_dataset_size()"
   ]
  },
  {
   "cell_type": "code",
   "execution_count": null,
   "id": "98cc1f81",
   "metadata": {},
   "outputs": [],
   "source": [
    "\"\"\"\n",
    "For 32 elements we get a PSNR of 20.96\n",
    "For 64 elements we get a PSNR of 21.48\n",
    "For 96 elements we get a PSNR of 21.94\n",
    "For 128 elements we get a PSNR of 21.96\n",
    "For 160 elements we get a PSNR of 22.06\n",
    "For 192 elements we get a PSNR of 21.95\n",
    "For 224 elements we get a PSNR of 21.77\n",
    "For 256 elements we get a PSNR of 22.09\n",
    "For 288 elements we get a PSNR of 22.49\n",
    "For 320 elements we get a PSNR of 22.56\n",
    "For 352 elements we get a PSNR of 22.21\n",
    "For 384 elements we get a PSNR of 22.15\n",
    "For 416 elements we get a PSNR of 22.08\n",
    "For 448 elements we get a PSNR of 22.29\n",
    "For 480 elements we get a PSNR of 22.62\n",
    "For 512 elements we get a PSNR of 21.91\n",
    "For 544 elements we get a PSNR of 22.28\n",
    "For 576 elements we get a PSNR of 22.12\n",
    "For 608 elements we get a PSNR of 22.50\n",
    "For 640 elements we get a PSNR of 22.23\n",
    "For 672 elements we get a PSNR of 22.13\n",
    "For 704 elements we get a PSNR of 22.49\n",
    "For 736 elements we get a PSNR of 22.20\n",
    "For 768 elements we get a PSNR of 22.30\n",
    "For 800 elements we get a PSNR of 22.06\n",
    "For 832 elements we get a PSNR of 22.17\n",
    "For 864 elements we get a PSNR of 22.42\n",
    "For 896 elements we get a PSNR of 22.26\n",
    "For 928 elements we get a PSNR of 22.40\n",
    "For 960 elements we get a PSNR of 22.41\n",
    "For 992 elements we get a PSNR of 21.85\n",
    "For 1024 elements we get a PSNR of 22.06\n",
    "For 1056 elements we get a PSNR of 25.61\n",
    "For 1088 elements we get a PSNR of 25.39\n",
    "For 1120 elements we get a PSNR of 25.30\n",
    "For 1152 elements we get a PSNR of 25.36\n",
    "For 1184 elements we get a PSNR of 25.59\n",
    "For 1216 elements we get a PSNR of 25.38\n",
    "For 1248 elements we get a PSNR of 25.36\n",
    "For 1280 elements we get a PSNR of 25.50\n",
    "For 1312 elements we get a PSNR of 25.49\n",
    "For 1344 elements we get a PSNR of 25.49\n",
    "For 1376 elements we get a PSNR of 25.37\n",
    "For 1408 elements we get a PSNR of 25.41\n",
    "For 1440 elements we get a PSNR of 25.18\n",
    "For 1472 elements we get a PSNR of 25.30\n",
    "For 1504 elements we get a PSNR of 25.44\n",
    "For 1536 elements we get a PSNR of 25.25\n",
    "For 1568 elements we get a PSNR of 25.36\n",
    "For 1600 elements we get a PSNR of 25.07\n",
    "For 1632 elements we get a PSNR of 25.58\n",
    "For 1664 elements we get a PSNR of 25.30\n",
    "For 1696 elements we get a PSNR of 25.35\n",
    "For 1728 elements we get a PSNR of 25.45\n",
    "For 1760 elements we get a PSNR of 25.44\n",
    "For 1792 elements we get a PSNR of 25.26\n",
    "For 1824 elements we get a PSNR of 25.33\n",
    "For 1856 elements we get a PSNR of 25.21\n",
    "For 1888 elements we get a PSNR of 25.32\n",
    "For 1920 elements we get a PSNR of 25.34\n",
    "For 1952 elements we get a PSNR of 25.59\n",
    "For 1984 elements we get a PSNR of 25.51\n",
    "\"\"\""
   ]
  },
  {
   "cell_type": "code",
   "execution_count": null,
   "id": "17ee924f",
   "metadata": {},
   "outputs": [],
   "source": [
    "\"\"\"\n",
    "For 128 elements we get a PSNR of 21.95\n",
    "For 256 elements we get a PSNR of 22.40\n",
    "For 384 elements we get a PSNR of 22.58\n",
    "For 512 elements we get a PSNR of 22.37\n",
    "For 640 elements we get a PSNR of 22.28\n",
    "For 768 elements we get a PSNR of 22.21\n",
    "For 896 elements we get a PSNR of 22.32\n",
    "For 1024 elements we get a PSNR of 22.22\n",
    "For 1152 elements we get a PSNR of 25.39\n",
    "For 1280 elements we get a PSNR of 25.45\n",
    "For 1408 elements we get a PSNR of 25.35\n",
    "For 1536 elements we get a PSNR of 25.37\n",
    "For 1664 elements we get a PSNR of 25.37\n",
    "For 1792 elements we get a PSNR of 25.36\n",
    "For 1920 elements we get a PSNR of 25.28\n",
    "For 2048 elements we get a PSNR of 25.38\n",
    "For 2176 elements we get a PSNR of 26.81\n",
    "For 2304 elements we get a PSNR of 27.01\n",
    "For 2432 elements we get a PSNR of 26.79\n",
    "For 2560 elements we get a PSNR of 26.83\n",
    "For 2688 elements we get a PSNR of 26.88\n",
    "For 2816 elements we get a PSNR of 26.88\n",
    "For 2944 elements we get a PSNR of 26.71\n",
    "For 3072 elements we get a PSNR of 26.86\n",
    "For 3200 elements we get a PSNR of 27.68\n",
    "For 3328 elements we get a PSNR of 27.61\n",
    "For 3456 elements we get a PSNR of 27.75\n",
    "For 3584 elements we get a PSNR of 27.69\n",
    "For 3712 elements we get a PSNR of 27.67\n",
    "For 3840 elements we get a PSNR of 27.60\n",
    "For 3968 elements we get a PSNR of 27.76\n",
    "For 4096 elements we get a PSNR of 27.69\n",
    "For 4224 elements we get a PSNR of 28.05\n",
    "For 4352 elements we get a PSNR of 28.08\n",
    "For 4480 elements we get a PSNR of 28.05\n",
    "For 4608 elements we get a PSNR of 28.05\n",
    "For 4736 elements we get a PSNR of 28.16\n",
    "For 4864 elements we get a PSNR of 28.11\n",
    "For 4992 elements we get a PSNR of 28.14\n",
    "For 5120 elements we get a PSNR of 28.10\n",
    "For 5248 elements we get a PSNR of 28.38\n",
    "For 5376 elements we get a PSNR of 28.33\n",
    "For 5504 elements we get a PSNR of 28.42\n",
    "For 5632 elements we get a PSNR of 28.32\n",
    "For 5760 elements we get a PSNR of 28.40\n",
    "For 5888 elements we get a PSNR of 28.45\n",
    "For 6016 elements we get a PSNR of 28.31\n",
    "For 6144 elements we get a PSNR of 28.42\n",
    "For 6272 elements we get a PSNR of 28.55\n",
    "For 6400 elements we get a PSNR of 28.56\n",
    "For 6528 elements we get a PSNR of 28.50\n",
    "For 6656 elements we get a PSNR of 28.56\n",
    "For 6784 elements we get a PSNR of 28.57\n",
    "For 6912 elements we get a PSNR of 28.56\n",
    "For 7040 elements we get a PSNR of 28.52\n",
    "For 7168 elements we get a PSNR of 28.56\n",
    "For 7296 elements we get a PSNR of 28.68\n",
    "For 7424 elements we get a PSNR of 28.64\n",
    "For 7552 elements we get a PSNR of 28.67\n",
    "For 7680 elements we get a PSNR of 28.65\n",
    "For 7808 elements we get a PSNR of 28.68\n",
    "For 7936 elements we get a PSNR of 28.69\n",
    "For 8064 elements we get a PSNR of 28.65\n",
    "\n",
    "\"\"\""
   ]
  },
  {
   "cell_type": "code",
   "execution_count": 2,
   "id": "4e698a7b",
   "metadata": {},
   "outputs": [
    {
     "data": {
      "image/png": "[encoded data removed]",
      "text/plain": [
       "<Figure size 1200x600 with 1 Axes>"
      ]
     },
     "metadata": {},
     "output_type": "display_data"
    }
   ],
   "source": [
    "import matplotlib.pyplot as plt\n",
    "\n",
    "elements = [\n",
    "    128, 256, 384, 512, 640, 768, 896, 1024, 1152, 1280, 1408, 1536, 1664, 1792, 1920, 2048,\n",
    "    2176, 2304, 2432, 2560, 2688, 2816, 2944, 3072, 3200, 3328, 3456, 3584, 3712, 3840, 3968, 4096,\n",
    "    4224, 4352, 4480, 4608, 4736, 4864, 4992, 5120, 5248, 5376, 5504, 5632, 5760, 5888, 6016, 6144,\n",
    "    6272, 6400, 6528, 6656, 6784, 6912, 7040, 7168, 7296, 7424, 7552, 7680, 7808, 7936, 8064\n",
    "]\n",
    "\n",
    "psnr_values = [\n",
    "    21.95, 22.40, 22.58, 22.37, 22.28, 22.21, 22.32, 22.22, 25.39, 25.45, 25.35, 25.37, 25.37, 25.36, 25.28, 25.38,\n",
    "    26.81, 27.01, 26.79, 26.83, 26.88, 26.88, 26.71, 26.86, 27.68, 27.61, 27.75, 27.69, 27.67, 27.60, 27.76, 27.69,\n",
    "    28.05, 28.08, 28.05, 28.05, 28.16, 28.11, 28.14, 28.10, 28.38, 28.33, 28.42, 28.32, 28.40, 28.45, 28.31, 28.42,\n",
    "    28.55, 28.56, 28.50, 28.56, 28.57, 28.56, 28.52, 28.56, 28.68, 28.64, 28.67, 28.65, 28.68, 28.69, 28.65\n",
    "]\n",
    "\n",
    "# Plotting with elements instead of elements\n",
    "plt.figure(figsize=(12, 6))\n",
    "plt.plot(elements, psnr_values, marker='o', linestyle='-', color='b', label='PSNR')\n",
    "\n",
    "# Titles and labels\n",
    "plt.title('PSNR vs. Number of pilots')\n",
    "plt.xlabel('Pilots')\n",
    "plt.ylabel('PSNR')\n",
    "plt.legend()\n",
    "plt.grid(True)\n",
    "plt.tight_layout()\n",
    "plt.show()"
   ]
  },
  {
   "cell_type": "markdown",
   "id": "57eea9ab",
   "metadata": {},
   "source": [
    "## Neural"
   ]
  },
  {
   "cell_type": "code",
   "execution_count": 9,
   "id": "d8d75218",
   "metadata": {},
   "outputs": [
    {
     "name": "stderr",
     "output_type": "stream",
     "text": [
      "  0%|          | 0/1000 [00:00<?, ?it/s]\n"
     ]
    },
    {
     "ename": "TypeError",
     "evalue": "cannot unpack non-iterable int object",
     "output_type": "error",
     "traceback": [
      "\u001b[1;31m---------------------------------------------------------------------------\u001b[0m",
      "\u001b[1;31mTypeError\u001b[0m                                 Traceback (most recent call last)",
      "Cell \u001b[1;32mIn[9], line 17\u001b[0m\n\u001b[0;32m     15\u001b[0m \u001b[38;5;66;03m# training loop\u001b[39;00m\n\u001b[0;32m     16\u001b[0m num_epochs \u001b[38;5;241m=\u001b[39m \u001b[38;5;241m1000\u001b[39m\n\u001b[1;32m---> 17\u001b[0m \u001b[38;5;28;01mfor\u001b[39;00m epoch, _ \u001b[38;5;129;01min\u001b[39;00m tqdm(\u001b[38;5;28mrange\u001b[39m(num_epochs)):\n\u001b[0;32m     18\u001b[0m     optimizer\u001b[38;5;241m.\u001b[39mzero_grad()\n\u001b[0;32m     19\u001b[0m     outputs \u001b[38;5;241m=\u001b[39m model(X)\n",
      "\u001b[1;31mTypeError\u001b[0m: cannot unpack non-iterable int object"
     ]
    }
   ],
   "source": [
    "#############################\n",
    "# LINEAR MODEL SGD TRAINING #\n",
    "#############################\n",
    "\n",
    "X = matrix_1\n",
    "Y = matrix_2\n",
    "\n",
    "# define linear model\n",
    "model = nn.Linear(1024, 1024, bias=True)\n",
    "\n",
    "# define loss and optimizer\n",
    "criterion = nn.MSELoss()\n",
    "optimizer = optim.Adam(model.parameters(), lr=1e-3)\n",
    "\n",
    "# training loop\n",
    "num_epochs = 1000\n",
    "for epoch, _ in tqdm(range(num_epochs)):\n",
    "    optimizer.zero_grad()\n",
    "    outputs = model(X)\n",
    "    loss = criterion(outputs, Y)\n",
    "    loss.backward()\n",
    "    optimizer.step()\n",
    "\n",
    "    if epoch % 10 == 0:\n",
    "        print(f'Epoch [{epoch}/{num_epochs}], Loss: {loss.item():.6f}')\n",
    "\n",
    "# get the weight and bias\n",
    "weights = model.weight.data   # shape: [1024, 1024]\n",
    "bias = model.bias.data        # shape: [1024]"
   ]
  }
 ],
 "metadata": {
  "kernelspec": {
   "display_name": "base",
   "language": "python",
   "name": "python3"
  },
  "language_info": {
   "codemirror_mode": {
    "name": "ipython",
    "version": 3
   },
   "file_extension": ".py",
   "mimetype": "text/x-python",
   "name": "python",
   "nbconvert_exporter": "python",
   "pygments_lexer": "ipython3",
   "version": "undefined.undefined.undefined"
  }
 },
 "nbformat": 4,
 "nbformat_minor": 5
}
