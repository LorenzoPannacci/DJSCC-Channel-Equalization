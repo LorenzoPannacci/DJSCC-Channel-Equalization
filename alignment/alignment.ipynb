{
 "cells": [
  {
   "cell_type": "markdown",
   "id": "53dd6854",
   "metadata": {},
   "source": [
    "# Create data"
   ]
  },
  {
   "cell_type": "code",
   "execution_count": 1,
   "id": "25b9b5b5",
   "metadata": {},
   "outputs": [
    {
     "name": "stdout",
     "output_type": "stream",
     "text": [
      "d:\\File\\Repos\\Deep-JSCC-PyTorch\n"
     ]
    }
   ],
   "source": [
    "%cd ..\n",
    "\n",
    "import os\n",
    "import torch\n",
    "import torch.nn as nn\n",
    "import torch.optim as optim\n",
    "\n",
    "from torch.utils.data import Dataset, DataLoader\n",
    "from torchvision import transforms\n",
    "from torchvision import datasets\n",
    "import torch.nn.functional as F\n",
    "\n",
    "from alignment.alignment_utils import load_aligned_model, load_deep_jscc\n",
    "from utils import get_psnr, image_normalization\n",
    "\n",
    "from dataset import Vanilla\n",
    "from model import DeepJSCC\n",
    "from tqdm import tqdm\n",
    "import pickle"
   ]
  },
  {
   "cell_type": "code",
   "execution_count": 2,
   "id": "b8954683",
   "metadata": {},
   "outputs": [],
   "source": [
    "model1_fp = r'alignment\\models\\upscaled_42.pkl'\n",
    "model2_fp = r'alignment\\models\\upscaled_43.pkl'\n",
    "saved = r'out\\checkpoints\\CIFAR10_8_7.0_0.17_AWGN_11h35m08s_on_Mar_27_2025\\epoch_999.pkl'\n",
    "snr = 7\n",
    "\n",
    "dataset = \"cifar10\"\n",
    "batch_size = 64\n",
    "num_workers = 4\n",
    "channel = 'AWGN'\n",
    "\n",
    "device = torch.device(\"cuda:0\" if torch.cuda.is_available() else 'cpu')"
   ]
  },
  {
   "cell_type": "code",
   "execution_count": 3,
   "id": "444df1f4",
   "metadata": {},
   "outputs": [],
   "source": [
    "############\n",
    "# GET DATA #\n",
    "############\n",
    "\n",
    "if dataset == 'cifar10':\n",
    "    transform = transforms.Compose([transforms.ToTensor(), transforms.Resize((64, 64))])\n",
    "\n",
    "    train_dataset = datasets.CIFAR10(root='../dataset/', train=True, download=True, transform=transform)\n",
    "    train_loader = DataLoader(train_dataset, shuffle=True, batch_size=batch_size, num_workers=num_workers)\n",
    "\n",
    "    test_dataset = datasets.CIFAR10(root='../dataset/', train=False, download=True, transform=transform)\n",
    "    test_loader = DataLoader(test_dataset, shuffle=True, batch_size=batch_size, num_workers=num_workers)\n",
    "\n",
    "elif dataset == 'imagenet':\n",
    "    # the size of paper is 128\n",
    "    transform = transforms.Compose([transforms.ToTensor(), transforms.Resize((128, 128))])\n",
    "\n",
    "    print(\"loading data of imagenet\")\n",
    "\n",
    "    train_dataset = datasets.ImageFolder(root='./dataset/ImageNet/train', transform=transform)\n",
    "    train_loader = DataLoader(train_dataset, shuffle=True, batch_size=batch_size, num_workers=num_workers)\n",
    "\n",
    "    test_dataset = Vanilla(root='./dataset/ImageNet/val', transform=transform)\n",
    "    test_loader = DataLoader(test_dataset, shuffle=True, batch_size=batch_size, num_workers=num_workers)\n",
    "\n",
    "elif dataset == 'imagenette':\n",
    "    transform = transforms.Compose([transforms.ToTensor(), transforms.Resize((128, 128))])\n",
    "\n",
    "    train_dataset = datasets.Imagenette(root='../dataset/', split=\"train\", download=True, transform=transform)\n",
    "    train_loader = DataLoader(train_dataset, shuffle=True, batch_size=batch_size, num_workers=num_workers)\n",
    "\n",
    "    test_dataset = datasets.Imagenette(root='../dataset/', split=\"val\", download=True, transform=transform)\n",
    "    test_loader = DataLoader(test_dataset, shuffle=True, batch_size=batch_size, num_workers=num_workers)\n",
    "\n",
    "else:\n",
    "    raise Exception('Unknown dataset')"
   ]
  },
  {
   "cell_type": "code",
   "execution_count": 4,
   "id": "80e3e6d7",
   "metadata": {},
   "outputs": [],
   "source": [
    "def load_from_checkpoint(path, snr):\n",
    "    state_dict = torch.load(path, map_location=device)\n",
    "    from collections import OrderedDict\n",
    "    new_state_dict = OrderedDict()\n",
    "\n",
    "    for k, v in state_dict.items():\n",
    "        name = k.replace('module.','') # remove `module.`\n",
    "        new_state_dict[name] = v\n",
    "\n",
    "    file_name = os.path.basename(os.path.dirname(saved))\n",
    "    c = file_name.split('_')[1]\n",
    "    c = int(c)\n",
    "    model = DeepJSCC(c=c, channel_type=channel, snr=snr)\n",
    "\n",
    "    model.load_state_dict(new_state_dict)\n",
    "    model.change_channel(channel, snr)\n",
    "\n",
    "    return model\n",
    "\n",
    "model1 = load_from_checkpoint(model1_fp, snr).encoder\n",
    "model2 = load_from_checkpoint(model2_fp, snr).encoder"
   ]
  },
  {
   "cell_type": "code",
   "execution_count": 5,
   "id": "7268960e",
   "metadata": {},
   "outputs": [],
   "source": [
    "class AlignmentDataset(Dataset):\n",
    "    def __init__(self, dataloader, model1, model2):\n",
    "        self.outputs = []\n",
    "\n",
    "        model1.eval()\n",
    "        model1.to(device)\n",
    "\n",
    "        model2.eval()\n",
    "        model2.to(device)\n",
    "\n",
    "        with torch.no_grad():\n",
    "            for inputs, _ in tqdm(dataloader, desc=\"Computing model outputs\"):\n",
    "                inputs = inputs.to(device)\n",
    "\n",
    "                out1 = model1(inputs)\n",
    "                out2 = model2(inputs)\n",
    "\n",
    "                for o1, o2 in zip(out1, out2):\n",
    "                    o1 = o1.flatten()\n",
    "                    o2 = o2.flatten()\n",
    "                    self.outputs.append((o1.cpu(), o2.cpu()))\n",
    "\n",
    "    def __len__(self):\n",
    "        return len(self.outputs)\n",
    "\n",
    "    def __getitem__(self, idx):\n",
    "        return self.outputs[idx]"
   ]
  },
  {
   "cell_type": "code",
   "execution_count": 6,
   "id": "1d561750",
   "metadata": {},
   "outputs": [
    {
     "name": "stderr",
     "output_type": "stream",
     "text": [
      "Computing model outputs: 100%|██████████| 782/782 [00:35<00:00, 22.02it/s]\n"
     ]
    }
   ],
   "source": [
    "# 50.000 (samples) / 64 (batch size) = 781.25 -> 782 (batches to compute) \n",
    "data = AlignmentDataset(train_loader, model1, model2)"
   ]
  },
  {
   "cell_type": "markdown",
   "id": "d9b1c2d6",
   "metadata": {},
   "source": [
    "# Train model"
   ]
  },
  {
   "cell_type": "markdown",
   "id": "a8121a44",
   "metadata": {},
   "source": [
    "## Least Squares"
   ]
  },
  {
   "cell_type": "code",
   "execution_count": 7,
   "id": "8c57e14f",
   "metadata": {},
   "outputs": [],
   "source": [
    "def dataset_to_matrices(dataset, batch_size=128):\n",
    "    loader = DataLoader(dataset, batch_size=batch_size, shuffle=False)\n",
    "    data_1 = []\n",
    "    data_2 = []\n",
    "    \n",
    "    for batch in loader:\n",
    "        data_1.append(batch[0])\n",
    "        data_2.append(batch[1])\n",
    "\n",
    "    return torch.cat(data_1, dim=0), torch.cat(data_2, dim=0)\n",
    "\n",
    "matrix_1, matrix_2 = dataset_to_matrices(data)"
   ]
  },
  {
   "cell_type": "code",
   "execution_count": 8,
   "id": "ef2f5aa6",
   "metadata": {},
   "outputs": [],
   "source": [
    "#################\n",
    "# LEAST SQUARES #\n",
    "#################\n",
    "\n",
    "Y = matrix_1.T\n",
    "Z = matrix_2.T\n",
    "\n",
    "Q = Y @ Z.T @ torch.inverse(Z @ Z.T)\n",
    "\n",
    "with open(r'alignment\\models\\aligner_upscaled.pkl', 'wb') as f:\n",
    "    pickle.dump(Q, f)"
   ]
  },
  {
   "cell_type": "code",
   "execution_count": 31,
   "id": "781fe8f2",
   "metadata": {},
   "outputs": [],
   "source": [
    "##############\n",
    "# VALIDATION #\n",
    "##############\n",
    "\n",
    "channel = 'AWGN'\n",
    "model1_fp = r'alignment\\models\\seed42_v1.pkl'\n",
    "model2_fp = r'alignment\\models\\seed43_v1.pkl'\n",
    "aligner_fp = r'alignment\\models\\aligner_small.pkl'\n",
    "saved = r'out\\checkpoints\\CIFAR10_8_7.0_0.17_AWGN_11h35m08s_on_Mar_27_2025\\epoch_999.pkl'\n",
    "\n",
    "snr = 7\n",
    "times = 10\n",
    "\n",
    "device = torch.device('cuda:0' if torch.cuda.is_available() else 'cpu')\n",
    "\n",
    "file_name = os.path.basename(os.path.dirname(saved))\n",
    "c = file_name.split('_')[1]\n",
    "c = int(c)\n",
    "\n",
    "model1 = load_deep_jscc(model1_fp, snr, c, channel)\n",
    "unaligned_model = load_aligned_model(model1_fp, model2_fp, None, snr, c, channel)\n",
    "aligned_model = load_aligned_model(model1_fp, model2_fp, aligner_fp, snr, c, channel)"
   ]
  },
  {
   "cell_type": "code",
   "execution_count": 41,
   "id": "77487e14",
   "metadata": {},
   "outputs": [],
   "source": [
    "def get_batch_psnr(images, gts, max_val=255):\n",
    "    # assumes shape: (B, C, H, W)\n",
    "    batch_mse = F.mse_loss(images, gts, reduction='none')\n",
    "    batch_mse = batch_mse.view(batch_mse.size(0), -1).mean(dim=1)  # mean over each image\n",
    "    psnr = 10 * torch.log10(max_val**2 / batch_mse)\n",
    "    return psnr  # shape: (B,)\n",
    "\n",
    "def validation(model, dataloader, times):\n",
    "\n",
    "    model = model.to(device)\n",
    "    batch_psnr_list = []\n",
    "\n",
    "    with torch.no_grad():\n",
    "        for inputs, _ in dataloader:\n",
    "\n",
    "            inputs = inputs.to(device)\n",
    "            psnr = torch.zeros(size=(inputs.shape[0], ), device=device)\n",
    "\n",
    "            for _ in range(times):\n",
    "                demo_image = model(inputs)\n",
    "                demo_image = image_normalization('denormalization')(demo_image)\n",
    "                gt = image_normalization('denormalization')(inputs)\n",
    "                psnr += get_batch_psnr(demo_image, gt)\n",
    "\n",
    "            psnr /= times\n",
    "            batch_mean_psnr = psnr.mean().item()\n",
    "            batch_psnr_list.append(batch_mean_psnr)\n",
    "\n",
    "    overall_mean_psnr = sum(batch_psnr_list) / len(batch_psnr_list)\n",
    "\n",
    "    return overall_mean_psnr"
   ]
  },
  {
   "cell_type": "code",
   "execution_count": 27,
   "id": "256cad5f",
   "metadata": {},
   "outputs": [
    {
     "name": "stderr",
     "output_type": "stream",
     "text": [
      "Computing validation: 100%|██████████| 157/157 [00:22<00:00,  6.90it/s]"
     ]
    },
    {
     "name": "stdout",
     "output_type": "stream",
     "text": [
      "\n",
      "Overall validation PSNR: 22.74\n"
     ]
    },
    {
     "name": "stderr",
     "output_type": "stream",
     "text": [
      "\n"
     ]
    }
   ],
   "source": [
    "validation(model1, test_loader, times)"
   ]
  },
  {
   "cell_type": "code",
   "execution_count": 28,
   "id": "192da821",
   "metadata": {},
   "outputs": [
    {
     "name": "stderr",
     "output_type": "stream",
     "text": [
      "Computing validation: 100%|██████████| 157/157 [00:22<00:00,  7.01it/s]"
     ]
    },
    {
     "name": "stdout",
     "output_type": "stream",
     "text": [
      "\n",
      "Overall validation PSNR: 10.39\n"
     ]
    },
    {
     "name": "stderr",
     "output_type": "stream",
     "text": [
      "\n"
     ]
    }
   ],
   "source": [
    "validation(unaligned_model, test_loader, times)"
   ]
  },
  {
   "cell_type": "code",
   "execution_count": 6,
   "id": "47c233ec",
   "metadata": {},
   "outputs": [
    {
     "name": "stderr",
     "output_type": "stream",
     "text": [
      "Computing validation: 100%|██████████| 157/157 [00:23<00:00,  6.82it/s]"
     ]
    },
    {
     "name": "stdout",
     "output_type": "stream",
     "text": [
      "\n",
      "Overall validation PSNR: 27.90\n"
     ]
    },
    {
     "name": "stderr",
     "output_type": "stream",
     "text": [
      "\n"
     ]
    }
   ],
   "source": [
    "validation(aligned_model, test_loader, times)"
   ]
  },
  {
   "cell_type": "code",
   "execution_count": 42,
   "id": "9d0715d0",
   "metadata": {},
   "outputs": [],
   "source": [
    "def dataset_to_matrices(dataset, batch_size=128):\n",
    "    loader = DataLoader(dataset, batch_size=batch_size, shuffle=False)\n",
    "    data_1 = []\n",
    "    data_2 = []\n",
    "    i = 0\n",
    "    for batch in loader:\n",
    "        data_1.append(batch[0])\n",
    "        data_2.append(batch[1])\n",
    "        i += 1\n",
    "\n",
    "        if i == 10:\n",
    "            break\n",
    "\n",
    "    return torch.cat(data_1, dim=0), torch.cat(data_2, dim=0)\n",
    "\n",
    "matrix_1, matrix_2 = dataset_to_matrices(data)\n",
    "\n",
    "def increasing_dataset_size():\n",
    "    batch_size = 128\n",
    "    n_batches = 782\n",
    "    times = 10\n",
    "\n",
    "    for b in range(1, n_batches+1):\n",
    "\n",
    "        # dataset to matrices\n",
    "        loader = DataLoader(data, batch_size=batch_size, shuffle=False)\n",
    "        data_1 = []\n",
    "        data_2 = []\n",
    "\n",
    "        i = 0\n",
    "        for batch in loader:\n",
    "            data_1.append(batch[0])\n",
    "            data_2.append(batch[1])\n",
    "            i += 1\n",
    "\n",
    "            if i == b:\n",
    "                break\n",
    "\n",
    "        matrix_1 = torch.cat(data_1, dim=0)\n",
    "        matrix_2 = torch.cat(data_2, dim=0)\n",
    "\n",
    "        # get model\n",
    "        Y = matrix_1.T\n",
    "        Z = matrix_2.T\n",
    "\n",
    "        Q = Y @ Z.T @ torch.inverse(Z @ Z.T)\n",
    "\n",
    "        with open(r'alignment\\models\\aligner_small.pkl', 'wb') as f:\n",
    "            pickle.dump(Q, f)\n",
    "\n",
    "        # load aligned model\n",
    "        aligned_model = load_aligned_model(model1_fp, model2_fp, aligner_fp, snr, c, channel)\n",
    "\n",
    "        print(f\"For {b} batches we get a PSNR of {validation(aligned_model, test_loader, times):.2f}\")"
   ]
  },
  {
   "cell_type": "code",
   "execution_count": 43,
   "id": "1b891173",
   "metadata": {},
   "outputs": [
    {
     "name": "stdout",
     "output_type": "stream",
     "text": [
      "For 1 batches we get a PSNR of 5.22\n",
      "For 2 batches we get a PSNR of 5.37\n",
      "For 3 batches we get a PSNR of 5.15\n",
      "For 4 batches we get a PSNR of 5.26\n",
      "For 5 batches we get a PSNR of 5.38\n",
      "For 6 batches we get a PSNR of 5.14\n",
      "For 7 batches we get a PSNR of 5.36\n",
      "For 8 batches we get a PSNR of 6.40\n",
      "For 9 batches we get a PSNR of 18.09\n",
      "For 10 batches we get a PSNR of 21.53\n",
      "For 11 batches we get a PSNR of 23.44\n",
      "For 12 batches we get a PSNR of 24.43\n",
      "For 13 batches we get a PSNR of 25.09\n",
      "For 14 batches we get a PSNR of 25.57\n",
      "For 15 batches we get a PSNR of 25.88\n",
      "For 16 batches we get a PSNR of 26.14\n",
      "For 17 batches we get a PSNR of 26.33\n",
      "For 18 batches we get a PSNR of 26.50\n",
      "For 19 batches we get a PSNR of 26.63\n",
      "For 20 batches we get a PSNR of 26.74\n",
      "For 21 batches we get a PSNR of 26.84\n",
      "For 22 batches we get a PSNR of 26.90\n",
      "For 23 batches we get a PSNR of 26.97\n",
      "For 24 batches we get a PSNR of 27.03\n",
      "For 25 batches we get a PSNR of 27.08\n",
      "For 26 batches we get a PSNR of 27.13\n",
      "For 27 batches we get a PSNR of 27.17\n",
      "For 28 batches we get a PSNR of 27.21\n",
      "For 29 batches we get a PSNR of 27.25\n",
      "For 30 batches we get a PSNR of 27.28\n",
      "For 31 batches we get a PSNR of 27.30\n",
      "For 32 batches we get a PSNR of 27.33\n",
      "For 33 batches we get a PSNR of 27.36\n",
      "For 34 batches we get a PSNR of 27.39\n",
      "For 35 batches we get a PSNR of 27.41\n",
      "For 36 batches we get a PSNR of 27.43\n",
      "For 37 batches we get a PSNR of 27.44\n",
      "For 38 batches we get a PSNR of 27.46\n",
      "For 39 batches we get a PSNR of 27.47\n",
      "For 40 batches we get a PSNR of 27.49\n",
      "For 41 batches we get a PSNR of 27.50\n",
      "For 42 batches we get a PSNR of 27.51\n",
      "For 43 batches we get a PSNR of 27.53\n",
      "For 44 batches we get a PSNR of 27.54\n",
      "For 45 batches we get a PSNR of 27.54\n",
      "For 46 batches we get a PSNR of 27.56\n",
      "For 47 batches we get a PSNR of 27.57\n",
      "For 48 batches we get a PSNR of 27.58\n",
      "For 49 batches we get a PSNR of 27.58\n",
      "For 50 batches we get a PSNR of 27.60\n",
      "For 51 batches we get a PSNR of 27.60\n",
      "For 52 batches we get a PSNR of 27.61\n",
      "For 53 batches we get a PSNR of 27.62\n",
      "For 54 batches we get a PSNR of 27.63\n",
      "For 55 batches we get a PSNR of 27.63\n",
      "For 56 batches we get a PSNR of 27.64\n",
      "For 57 batches we get a PSNR of 27.64\n",
      "For 58 batches we get a PSNR of 27.65\n"
     ]
    },
    {
     "ename": "KeyboardInterrupt",
     "evalue": "",
     "output_type": "error",
     "traceback": [
      "\u001b[1;31m---------------------------------------------------------------------------\u001b[0m",
      "\u001b[1;31mKeyboardInterrupt\u001b[0m                         Traceback (most recent call last)",
      "Cell \u001b[1;32mIn[43], line 1\u001b[0m\n\u001b[1;32m----> 1\u001b[0m increasing_dataset_size()\n",
      "Cell \u001b[1;32mIn[42], line 54\u001b[0m, in \u001b[0;36mincreasing_dataset_size\u001b[1;34m()\u001b[0m\n\u001b[0;32m     51\u001b[0m \u001b[38;5;66;03m# load aligned model\u001b[39;00m\n\u001b[0;32m     52\u001b[0m aligned_model \u001b[38;5;241m=\u001b[39m load_aligned_model(model1_fp, model2_fp, aligner_fp, snr, c, channel)\n\u001b[1;32m---> 54\u001b[0m \u001b[38;5;28mprint\u001b[39m(\u001b[38;5;124mf\u001b[39m\u001b[38;5;124m\"\u001b[39m\u001b[38;5;124mFor \u001b[39m\u001b[38;5;132;01m{\u001b[39;00mb\u001b[38;5;132;01m}\u001b[39;00m\u001b[38;5;124m batches we get a PSNR of \u001b[39m\u001b[38;5;132;01m{\u001b[39;00mvalidation(aligned_model,\u001b[38;5;250m \u001b[39mtest_loader,\u001b[38;5;250m \u001b[39mtimes)\u001b[38;5;132;01m:\u001b[39;00m\u001b[38;5;124m.2f\u001b[39m\u001b[38;5;132;01m}\u001b[39;00m\u001b[38;5;124m\"\u001b[39m)\n",
      "Cell \u001b[1;32mIn[41], line 14\u001b[0m, in \u001b[0;36mvalidation\u001b[1;34m(model, dataloader, times)\u001b[0m\n\u001b[0;32m     11\u001b[0m batch_psnr_list \u001b[38;5;241m=\u001b[39m []\n\u001b[0;32m     13\u001b[0m \u001b[38;5;28;01mwith\u001b[39;00m torch\u001b[38;5;241m.\u001b[39mno_grad():\n\u001b[1;32m---> 14\u001b[0m     \u001b[38;5;28;01mfor\u001b[39;00m inputs, _ \u001b[38;5;129;01min\u001b[39;00m dataloader:\n\u001b[0;32m     16\u001b[0m         inputs \u001b[38;5;241m=\u001b[39m inputs\u001b[38;5;241m.\u001b[39mto(device)\n\u001b[0;32m     17\u001b[0m         psnr \u001b[38;5;241m=\u001b[39m torch\u001b[38;5;241m.\u001b[39mzeros(size\u001b[38;5;241m=\u001b[39m(inputs\u001b[38;5;241m.\u001b[39mshape[\u001b[38;5;241m0\u001b[39m], ), device\u001b[38;5;241m=\u001b[39mdevice)\n",
      "File \u001b[1;32mc:\\ProgramData\\anaconda3\\Lib\\site-packages\\torch\\utils\\data\\dataloader.py:491\u001b[0m, in \u001b[0;36mDataLoader.__iter__\u001b[1;34m(self)\u001b[0m\n\u001b[0;32m    489\u001b[0m     \u001b[38;5;28;01mreturn\u001b[39;00m \u001b[38;5;28mself\u001b[39m\u001b[38;5;241m.\u001b[39m_iterator\n\u001b[0;32m    490\u001b[0m \u001b[38;5;28;01melse\u001b[39;00m:\n\u001b[1;32m--> 491\u001b[0m     \u001b[38;5;28;01mreturn\u001b[39;00m \u001b[38;5;28mself\u001b[39m\u001b[38;5;241m.\u001b[39m_get_iterator()\n",
      "File \u001b[1;32mc:\\ProgramData\\anaconda3\\Lib\\site-packages\\torch\\utils\\data\\dataloader.py:422\u001b[0m, in \u001b[0;36mDataLoader._get_iterator\u001b[1;34m(self)\u001b[0m\n\u001b[0;32m    420\u001b[0m \u001b[38;5;28;01melse\u001b[39;00m:\n\u001b[0;32m    421\u001b[0m     \u001b[38;5;28mself\u001b[39m\u001b[38;5;241m.\u001b[39mcheck_worker_number_rationality()\n\u001b[1;32m--> 422\u001b[0m     \u001b[38;5;28;01mreturn\u001b[39;00m _MultiProcessingDataLoaderIter(\u001b[38;5;28mself\u001b[39m)\n",
      "File \u001b[1;32mc:\\ProgramData\\anaconda3\\Lib\\site-packages\\torch\\utils\\data\\dataloader.py:1146\u001b[0m, in \u001b[0;36m_MultiProcessingDataLoaderIter.__init__\u001b[1;34m(self, loader)\u001b[0m\n\u001b[0;32m   1139\u001b[0m w\u001b[38;5;241m.\u001b[39mdaemon \u001b[38;5;241m=\u001b[39m \u001b[38;5;28;01mTrue\u001b[39;00m\n\u001b[0;32m   1140\u001b[0m \u001b[38;5;66;03m# NB: Process.start() actually take some time as it needs to\u001b[39;00m\n\u001b[0;32m   1141\u001b[0m \u001b[38;5;66;03m#     start a process and pass the arguments over via a pipe.\u001b[39;00m\n\u001b[0;32m   1142\u001b[0m \u001b[38;5;66;03m#     Therefore, we only add a worker to self._workers list after\u001b[39;00m\n\u001b[0;32m   1143\u001b[0m \u001b[38;5;66;03m#     it started, so that we do not call .join() if program dies\u001b[39;00m\n\u001b[0;32m   1144\u001b[0m \u001b[38;5;66;03m#     before it starts, and __del__ tries to join but will get:\u001b[39;00m\n\u001b[0;32m   1145\u001b[0m \u001b[38;5;66;03m#     AssertionError: can only join a started process.\u001b[39;00m\n\u001b[1;32m-> 1146\u001b[0m w\u001b[38;5;241m.\u001b[39mstart()\n\u001b[0;32m   1147\u001b[0m \u001b[38;5;28mself\u001b[39m\u001b[38;5;241m.\u001b[39m_index_queues\u001b[38;5;241m.\u001b[39mappend(index_queue)\n\u001b[0;32m   1148\u001b[0m \u001b[38;5;28mself\u001b[39m\u001b[38;5;241m.\u001b[39m_workers\u001b[38;5;241m.\u001b[39mappend(w)\n",
      "File \u001b[1;32mc:\\ProgramData\\anaconda3\\Lib\\multiprocessing\\process.py:121\u001b[0m, in \u001b[0;36mBaseProcess.start\u001b[1;34m(self)\u001b[0m\n\u001b[0;32m    118\u001b[0m \u001b[38;5;28;01massert\u001b[39;00m \u001b[38;5;129;01mnot\u001b[39;00m _current_process\u001b[38;5;241m.\u001b[39m_config\u001b[38;5;241m.\u001b[39mget(\u001b[38;5;124m'\u001b[39m\u001b[38;5;124mdaemon\u001b[39m\u001b[38;5;124m'\u001b[39m), \\\n\u001b[0;32m    119\u001b[0m        \u001b[38;5;124m'\u001b[39m\u001b[38;5;124mdaemonic processes are not allowed to have children\u001b[39m\u001b[38;5;124m'\u001b[39m\n\u001b[0;32m    120\u001b[0m _cleanup()\n\u001b[1;32m--> 121\u001b[0m \u001b[38;5;28mself\u001b[39m\u001b[38;5;241m.\u001b[39m_popen \u001b[38;5;241m=\u001b[39m \u001b[38;5;28mself\u001b[39m\u001b[38;5;241m.\u001b[39m_Popen(\u001b[38;5;28mself\u001b[39m)\n\u001b[0;32m    122\u001b[0m \u001b[38;5;28mself\u001b[39m\u001b[38;5;241m.\u001b[39m_sentinel \u001b[38;5;241m=\u001b[39m \u001b[38;5;28mself\u001b[39m\u001b[38;5;241m.\u001b[39m_popen\u001b[38;5;241m.\u001b[39msentinel\n\u001b[0;32m    123\u001b[0m \u001b[38;5;66;03m# Avoid a refcycle if the target function holds an indirect\u001b[39;00m\n\u001b[0;32m    124\u001b[0m \u001b[38;5;66;03m# reference to the process object (see bpo-30775)\u001b[39;00m\n",
      "File \u001b[1;32mc:\\ProgramData\\anaconda3\\Lib\\multiprocessing\\context.py:224\u001b[0m, in \u001b[0;36mProcess._Popen\u001b[1;34m(process_obj)\u001b[0m\n\u001b[0;32m    222\u001b[0m \u001b[38;5;129m@staticmethod\u001b[39m\n\u001b[0;32m    223\u001b[0m \u001b[38;5;28;01mdef\u001b[39;00m \u001b[38;5;21m_Popen\u001b[39m(process_obj):\n\u001b[1;32m--> 224\u001b[0m     \u001b[38;5;28;01mreturn\u001b[39;00m _default_context\u001b[38;5;241m.\u001b[39mget_context()\u001b[38;5;241m.\u001b[39mProcess\u001b[38;5;241m.\u001b[39m_Popen(process_obj)\n",
      "File \u001b[1;32mc:\\ProgramData\\anaconda3\\Lib\\multiprocessing\\context.py:337\u001b[0m, in \u001b[0;36mSpawnProcess._Popen\u001b[1;34m(process_obj)\u001b[0m\n\u001b[0;32m    334\u001b[0m \u001b[38;5;129m@staticmethod\u001b[39m\n\u001b[0;32m    335\u001b[0m \u001b[38;5;28;01mdef\u001b[39;00m \u001b[38;5;21m_Popen\u001b[39m(process_obj):\n\u001b[0;32m    336\u001b[0m     \u001b[38;5;28;01mfrom\u001b[39;00m \u001b[38;5;21;01m.\u001b[39;00m\u001b[38;5;21;01mpopen_spawn_win32\u001b[39;00m \u001b[38;5;28;01mimport\u001b[39;00m Popen\n\u001b[1;32m--> 337\u001b[0m     \u001b[38;5;28;01mreturn\u001b[39;00m Popen(process_obj)\n",
      "File \u001b[1;32mc:\\ProgramData\\anaconda3\\Lib\\multiprocessing\\popen_spawn_win32.py:95\u001b[0m, in \u001b[0;36mPopen.__init__\u001b[1;34m(self, process_obj)\u001b[0m\n\u001b[0;32m     93\u001b[0m \u001b[38;5;28;01mtry\u001b[39;00m:\n\u001b[0;32m     94\u001b[0m     reduction\u001b[38;5;241m.\u001b[39mdump(prep_data, to_child)\n\u001b[1;32m---> 95\u001b[0m     reduction\u001b[38;5;241m.\u001b[39mdump(process_obj, to_child)\n\u001b[0;32m     96\u001b[0m \u001b[38;5;28;01mfinally\u001b[39;00m:\n\u001b[0;32m     97\u001b[0m     set_spawning_popen(\u001b[38;5;28;01mNone\u001b[39;00m)\n",
      "File \u001b[1;32mc:\\ProgramData\\anaconda3\\Lib\\multiprocessing\\reduction.py:60\u001b[0m, in \u001b[0;36mdump\u001b[1;34m(obj, file, protocol)\u001b[0m\n\u001b[0;32m     58\u001b[0m \u001b[38;5;28;01mdef\u001b[39;00m \u001b[38;5;21mdump\u001b[39m(obj, file, protocol\u001b[38;5;241m=\u001b[39m\u001b[38;5;28;01mNone\u001b[39;00m):\n\u001b[0;32m     59\u001b[0m \u001b[38;5;250m    \u001b[39m\u001b[38;5;124;03m'''Replacement for pickle.dump() using ForkingPickler.'''\u001b[39;00m\n\u001b[1;32m---> 60\u001b[0m     ForkingPickler(file, protocol)\u001b[38;5;241m.\u001b[39mdump(obj)\n",
      "\u001b[1;31mKeyboardInterrupt\u001b[0m: "
     ]
    }
   ],
   "source": [
    "increasing_dataset_size()"
   ]
  },
  {
   "cell_type": "code",
   "execution_count": 14,
   "id": "c6eb805c",
   "metadata": {},
   "outputs": [
    {
     "data": {
      "image/png": "[encoded data removed]",
      "text/plain": [
       "<Figure size 1200x600 with 1 Axes>"
      ]
     },
     "metadata": {},
     "output_type": "display_data"
    }
   ],
   "source": [
    "import matplotlib.pyplot as plt\n",
    "\n",
    "psnr_values = [\n",
    "    5.22, 5.37, 5.15, 5.26, 5.38, 5.14, 5.36, 6.40, 18.09, 21.53,\n",
    "    23.44, 24.43, 25.09, 25.57, 25.88, 26.14, 26.33, 26.50, 26.63, 26.74,\n",
    "    26.84, 26.90, 26.97, 27.03, 27.08, 27.13, 27.17, 27.21, 27.25, 27.28,\n",
    "    27.30, 27.33, 27.36, 27.39, 27.41, 27.43, 27.44, 27.46, 27.47, 27.49,\n",
    "    27.50, 27.51, 27.53, 27.54, 27.54, 27.56, 27.57, 27.58, 27.58, 27.60,\n",
    "    27.60, 27.61, 27.62, 27.63, 27.63, 27.64, 27.64, 27.65\n",
    "]\n",
    "\n",
    "batches = list(range(1, len(psnr_values) + 1))\n",
    "\n",
    "# Convert batches to number of elements (batch size = 128)\n",
    "elements = [batch * 128 for batch in batches]\n",
    "\n",
    "# Plotting with elements instead of batches\n",
    "plt.figure(figsize=(12, 6))\n",
    "plt.plot(elements, psnr_values, marker='o', linestyle='-', color='b', label='PSNR')\n",
    "\n",
    "# Adding horizontal lines\n",
    "plt.axhline(y=27.90, color='g', linestyle='--', linewidth=1.5, label='Whole dataset')\n",
    "plt.axhline(y=22.74, color='orange', linestyle='--', linewidth=1.5, label='No mismatch')\n",
    "plt.axhline(y=10.39, color='red', linestyle='--', linewidth=1.5, label='No alignment')\n",
    "\n",
    "# Titles and labels\n",
    "plt.title('PSNR vs. Number of pilots')\n",
    "plt.xlabel('Pilots')\n",
    "plt.ylabel('PSNR')\n",
    "plt.legend()\n",
    "plt.grid(True)\n",
    "plt.tight_layout()\n",
    "plt.show()\n"
   ]
  },
  {
   "cell_type": "markdown",
   "id": "57eea9ab",
   "metadata": {},
   "source": [
    "## Neural"
   ]
  },
  {
   "cell_type": "code",
   "execution_count": 9,
   "id": "d8d75218",
   "metadata": {},
   "outputs": [
    {
     "name": "stderr",
     "output_type": "stream",
     "text": [
      "  0%|          | 0/1000 [00:00<?, ?it/s]\n"
     ]
    },
    {
     "ename": "TypeError",
     "evalue": "cannot unpack non-iterable int object",
     "output_type": "error",
     "traceback": [
      "\u001b[1;31m---------------------------------------------------------------------------\u001b[0m",
      "\u001b[1;31mTypeError\u001b[0m                                 Traceback (most recent call last)",
      "Cell \u001b[1;32mIn[9], line 17\u001b[0m\n\u001b[0;32m     15\u001b[0m \u001b[38;5;66;03m# training loop\u001b[39;00m\n\u001b[0;32m     16\u001b[0m num_epochs \u001b[38;5;241m=\u001b[39m \u001b[38;5;241m1000\u001b[39m\n\u001b[1;32m---> 17\u001b[0m \u001b[38;5;28;01mfor\u001b[39;00m epoch, _ \u001b[38;5;129;01min\u001b[39;00m tqdm(\u001b[38;5;28mrange\u001b[39m(num_epochs)):\n\u001b[0;32m     18\u001b[0m     optimizer\u001b[38;5;241m.\u001b[39mzero_grad()\n\u001b[0;32m     19\u001b[0m     outputs \u001b[38;5;241m=\u001b[39m model(X)\n",
      "\u001b[1;31mTypeError\u001b[0m: cannot unpack non-iterable int object"
     ]
    }
   ],
   "source": [
    "#############################\n",
    "# LINEAR MODEL SGD TRAINING #\n",
    "#############################\n",
    "\n",
    "X = matrix_1\n",
    "Y = matrix_2\n",
    "\n",
    "# define linear model\n",
    "model = nn.Linear(1024, 1024, bias=True)\n",
    "\n",
    "# define loss and optimizer\n",
    "criterion = nn.MSELoss()\n",
    "optimizer = optim.Adam(model.parameters(), lr=1e-3)\n",
    "\n",
    "# training loop\n",
    "num_epochs = 1000\n",
    "for epoch, _ in tqdm(range(num_epochs)):\n",
    "    optimizer.zero_grad()\n",
    "    outputs = model(X)\n",
    "    loss = criterion(outputs, Y)\n",
    "    loss.backward()\n",
    "    optimizer.step()\n",
    "\n",
    "    if epoch % 10 == 0:\n",
    "        print(f'Epoch [{epoch}/{num_epochs}], Loss: {loss.item():.6f}')\n",
    "\n",
    "# get the weight and bias\n",
    "weights = model.weight.data   # shape: [1024, 1024]\n",
    "bias = model.bias.data        # shape: [1024]"
   ]
  }
 ],
 "metadata": {
  "kernelspec": {
   "display_name": "base",
   "language": "python",
   "name": "python3"
  },
  "language_info": {
   "codemirror_mode": {
    "name": "ipython",
    "version": 3
   },
   "file_extension": ".py",
   "mimetype": "text/x-python",
   "name": "python",
   "nbconvert_exporter": "python",
   "pygments_lexer": "ipython3",
   "version": "3.12.7"
  }
 },
 "nbformat": 4,
 "nbformat_minor": 5
}
