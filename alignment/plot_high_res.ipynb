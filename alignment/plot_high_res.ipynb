{
 "cells": [
  {
   "cell_type": "code",
   "execution_count": null,
   "id": "c3e4bda5",
   "metadata": {},
   "outputs": [],
   "source": [
    "%cd ..\n",
    "\n",
    "import os\n",
    "import torch\n",
    "import copy\n",
    "import numpy as np\n",
    "from tqdm.notebook import tqdm\n",
    "\n",
    "\n",
    "from alignment.alignment_utils import load_deep_jscc\n",
    "from alignment.alignment_model import *\n",
    "from alignment.alignment_model import _LinearAlignment, _MLPAlignment, _ConvolutionalAlignment, _ZeroShotAlignment, _TwoConvAlignment\n",
    "from alignment.alignment_training import *\n",
    "from alignment.alignment_validation import *"
   ]
  },
  {
   "cell_type": "code",
   "execution_count": null,
   "id": "8d4dce44",
   "metadata": {},
   "outputs": [],
   "source": [
    "snr = 30\n",
    "seed = 42\n",
    "resolution = 96\n",
    "\n",
    "model1_fp = f'alignment/models/autoencoders/upscaled_42.pkl'\n",
    "model2_fp = f'alignment/models/autoencoders/upscaled_43.pkl'\n",
    "folder = f'high_res'\n",
    "os.makedirs(f'alignment/models/plots/{folder}', exist_ok=True)\n",
    "\n",
    "dataset = \"cifar10\"\n",
    "channel = 'AWGN'\n",
    "batch_size = 64\n",
    "num_workers = 4\n",
    "\n",
    "logs_folder = f'alignment/logs_{resolution}'\n",
    "os.makedirs(logs_folder, exist_ok=True)\n",
    "\n",
    "train_snr = snr\n",
    "val_snr = snr\n",
    "times = 10\n",
    "c = 8\n",
    "\n",
    "n_points = 20\n",
    "pilots_sets = np.unique(np.logspace(0, np.log10(10000), num=n_points, base=10).astype(int))\n",
    "device = torch.device(\"cuda:0\" if torch.cuda.is_available() else 'cpu')\n",
    "\n",
    "encoder = copy.deepcopy(load_deep_jscc(model1_fp, val_snr, c, \"AWGN\").encoder)\n",
    "decoder = copy.deepcopy(load_deep_jscc(model2_fp, val_snr, c, \"AWGN\").decoder)\n",
    "\n",
    "train_loader, test_loader = get_data_loaders(dataset, resolution, batch_size, num_workers)\n",
    "data = load_alignment_dataset(model1_fp, model2_fp, train_snr, train_loader, c, device)"
   ]
  },
  {
   "cell_type": "code",
   "execution_count": null,
   "id": "0209c166",
   "metadata": {},
   "outputs": [],
   "source": [
    "aligner_type = \"conv\"\n",
    "data.flat = False\n",
    "\n",
    "set_seed(seed)\n",
    "permutation = torch.randperm(len(data))\n",
    "\n",
    "for snr in [-20, -10, 0, 10, 20, 30]:\n",
    "    aligner, epoch = train_conv_aligner(data, permutation, 50000, c, batch_size, snr, device)\n",
    "\n",
    "    aligner_fp = f'alignment/models/plots/{folder}/aligner_{aligner_type}_{snr}.pth'\n",
    "    torch.save(aligner.state_dict(), aligner_fp)"
   ]
  },
  {
   "cell_type": "code",
   "execution_count": null,
   "id": "b0fb3237",
   "metadata": {},
   "outputs": [],
   "source": [
    "aligner_type = \"twoconv\"\n",
    "data.flat = False\n",
    "\n",
    "set_seed(seed)\n",
    "permutation = torch.randperm(len(data))\n",
    "\n",
    "for snr in [-20, -10, 0, 10, 20, 30]:\n",
    "    aligner, epoch = train_twoconv_aligner(data, permutation, 50000, c, batch_size, snr, device)\n",
    "\n",
    "    aligner_fp = f'alignment/models/plots/{folder}/aligner_{aligner_type}_{snr}.pth'\n",
    "    torch.save(aligner.state_dict(), aligner_fp)"
   ]
  }
 ],
 "metadata": {
  "kernelspec": {
   "display_name": "base",
   "language": "python",
   "name": "python3"
  },
  "language_info": {
   "codemirror_mode": {
    "name": "ipython",
    "version": 3
   },
   "file_extension": ".py",
   "mimetype": "text/x-python",
   "name": "python",
   "nbconvert_exporter": "python",
   "pygments_lexer": "ipython3",
   "version": "3.13.2"
  }
 },
 "nbformat": 4,
 "nbformat_minor": 5
}
